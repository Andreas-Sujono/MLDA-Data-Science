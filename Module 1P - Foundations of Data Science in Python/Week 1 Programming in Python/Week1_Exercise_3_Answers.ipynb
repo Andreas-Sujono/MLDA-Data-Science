{
 "cells": [
  {
   "cell_type": "markdown",
   "metadata": {},
   "source": [
    "#### Import Libraries"
   ]
  },
  {
   "cell_type": "code",
   "execution_count": 3,
   "metadata": {
    "collapsed": true
   },
   "outputs": [],
   "source": [
    "import numpy\n",
    "import pandas"
   ]
  },
  {
   "cell_type": "markdown",
   "metadata": {},
   "source": [
    "#### Ex.3.1 Create a dictionary to combine four Series from the four columns in the following table：\n",
    "| |   name     | age | gender | height |\n",
    "|-|:----------:|:---:|:------:|:------:|\n",
    "|0| Emma       |  21 | Female |  163   |\n",
    "|1| Tommy      |  26 |  Male  |  177   |\n",
    "|2| Mike       |  23 |  Male  |  154   |\n",
    "|3| Steven     |  28 |  Male  |  168   |\n",
    "|4| Emily      |  25 | Female |  160   |\n",
    "|5| Gloria     |  23 | Female |  166   |"
   ]
  },
  {
   "cell_type": "code",
   "execution_count": 4,
   "metadata": {},
   "outputs": [
    {
     "name": "stdout",
     "output_type": "stream",
     "text": [
      "{'gender': 0    Female\n",
      "1      Male\n",
      "2      Male\n",
      "3      Male\n",
      "4    Female\n",
      "5    Female\n",
      "dtype: object, 'age': 0    21\n",
      "1    26\n",
      "2    23\n",
      "3    28\n",
      "4    25\n",
      "5    23\n",
      "dtype: int64, 'name': 0      Emma\n",
      "1     Tommy\n",
      "2      Mike\n",
      "3    Steven\n",
      "4     Emily\n",
      "5    Gloria\n",
      "dtype: object, 'height': 0    163\n",
      "1    177\n",
      "2    154\n",
      "3    168\n",
      "4    160\n",
      "5    166\n",
      "dtype: int64}\n"
     ]
    }
   ],
   "source": [
    "# code for Ex.3.1\n",
    "dictionary = {\n",
    "                  'name'       : pandas.Series(['Emma', 'Tommy', 'Mike', 'Steven', 'Emily', 'Gloria']),\n",
    "                  'age'        : pandas.Series([21, 26, 23, 28, 25, 23]), \n",
    "                  'gender'     : pandas.Series(['Female', 'Male', 'Male', 'Male', 'Female', 'Female']),\n",
    "                  'height'     : pandas.Series([163, 177, 154, 168, 160, 166])\n",
    "             }\n",
    "print dictionary"
   ]
  },
  {
   "cell_type": "markdown",
   "metadata": {},
   "source": [
    "#### Ex.3.2 Create a DataFrame the same to the table in Ex.3.1 from a dictionary of Series："
   ]
  },
  {
   "cell_type": "code",
   "execution_count": 8,
   "metadata": {},
   "outputs": [
    {
     "data": {
      "text/plain": [
       "'age'"
      ]
     },
     "execution_count": 8,
     "metadata": {},
     "output_type": "execute_result"
    }
   ],
   "source": [
    "# code for Ex.3.2\n",
    "df = pandas.DataFrame(dictionary)\n",
    "\n",
    "# rearrange the order of columns (default order of columns follows the order of alphabet)\n",
    "cols = df.columns.tolist()\n",
    "\n",
    "df.columns.tolist()\n",
    "cols[0]\n",
    "# cols = cols[-1:] + cols[:-1]\n",
    "# df = df[cols]\n",
    "\n",
    "# df"
   ]
  },
  {
   "cell_type": "markdown",
   "metadata": {},
   "source": [
    "#### Ex.3.3 Pick out all the male items and assign them to a new DataFrame df_male"
   ]
  },
  {
   "cell_type": "code",
   "execution_count": 22,
   "metadata": {},
   "outputs": [
    {
     "name": "stdout",
     "output_type": "stream",
     "text": [
      "[name      Tommy\n",
      "age          26\n",
      "gender     Male\n",
      "height      177\n",
      "Name: 1, dtype: object]\n",
      "[name      Tommy\n",
      "age          26\n",
      "gender     Male\n",
      "height      177\n",
      "Name: 1, dtype: object, name      Mike\n",
      "age         23\n",
      "gender    Male\n",
      "height     154\n",
      "Name: 2, dtype: object]\n",
      "[name      Tommy\n",
      "age          26\n",
      "gender     Male\n",
      "height      177\n",
      "Name: 1, dtype: object, name      Mike\n",
      "age         23\n",
      "gender    Male\n",
      "height     154\n",
      "Name: 2, dtype: object, name      Steven\n",
      "age           28\n",
      "gender      Male\n",
      "height       168\n",
      "Name: 3, dtype: object]\n"
     ]
    },
    {
     "data": {
      "text/html": [
       "<div>\n",
       "<table border=\"1\" class=\"dataframe\">\n",
       "  <thead>\n",
       "    <tr style=\"text-align: right;\">\n",
       "      <th></th>\n",
       "      <th>name</th>\n",
       "      <th>age</th>\n",
       "      <th>gender</th>\n",
       "      <th>height</th>\n",
       "    </tr>\n",
       "  </thead>\n",
       "  <tbody>\n",
       "    <tr>\n",
       "      <th>1</th>\n",
       "      <td>Tommy</td>\n",
       "      <td>26</td>\n",
       "      <td>Male</td>\n",
       "      <td>177</td>\n",
       "    </tr>\n",
       "    <tr>\n",
       "      <th>2</th>\n",
       "      <td>Mike</td>\n",
       "      <td>23</td>\n",
       "      <td>Male</td>\n",
       "      <td>154</td>\n",
       "    </tr>\n",
       "    <tr>\n",
       "      <th>3</th>\n",
       "      <td>Steven</td>\n",
       "      <td>28</td>\n",
       "      <td>Male</td>\n",
       "      <td>168</td>\n",
       "    </tr>\n",
       "  </tbody>\n",
       "</table>\n",
       "</div>"
      ],
      "text/plain": [
       "     name  age gender  height\n",
       "1   Tommy   26   Male     177\n",
       "2    Mike   23   Male     154\n",
       "3  Steven   28   Male     168"
      ]
     },
     "execution_count": 22,
     "metadata": {},
     "output_type": "execute_result"
    }
   ],
   "source": [
    "# code for Ex.3.3\n",
    "\n",
    "# the tricky one\n",
    "df_male = df[1:4]\n",
    "df_male\n",
    "\n",
    "\n",
    "# the right answer\n",
    "l_male = []\n",
    "\n",
    "for i in range(len(df)):\n",
    "    if df.loc[i,'gender'] == 'Male':\n",
    "        l_male.append(df.iloc[i])\n",
    "        \n",
    "df_male = pandas.DataFrame(l_male)\n",
    "df_male"
   ]
  },
  {
   "cell_type": "markdown",
   "metadata": {},
   "source": [
    "#### Ex.3.4 Check the average age and average height of these six students"
   ]
  },
  {
   "cell_type": "code",
   "execution_count": 26,
   "metadata": {},
   "outputs": [
    {
     "data": {
      "text/plain": [
       "age        24.333333\n",
       "height    164.666667\n",
       "dtype: float64"
      ]
     },
     "execution_count": 26,
     "metadata": {},
     "output_type": "execute_result"
    }
   ],
   "source": [
    "# code for Ex.3.4\n",
    "df.mean()"
   ]
  },
  {
   "cell_type": "markdown",
   "metadata": {},
   "source": [
    "#### Ex.3.5 Is there any relationship between height and age?"
   ]
  },
  {
   "cell_type": "code",
   "execution_count": 27,
   "metadata": {},
   "outputs": [
    {
     "data": {
      "text/html": [
       "<div>\n",
       "<table border=\"1\" class=\"dataframe\">\n",
       "  <thead>\n",
       "    <tr style=\"text-align: right;\">\n",
       "      <th></th>\n",
       "      <th>age</th>\n",
       "      <th>height</th>\n",
       "    </tr>\n",
       "  </thead>\n",
       "  <tbody>\n",
       "    <tr>\n",
       "      <th>age</th>\n",
       "      <td>1.000000</td>\n",
       "      <td>0.488935</td>\n",
       "    </tr>\n",
       "    <tr>\n",
       "      <th>height</th>\n",
       "      <td>0.488935</td>\n",
       "      <td>1.000000</td>\n",
       "    </tr>\n",
       "  </tbody>\n",
       "</table>\n",
       "</div>"
      ],
      "text/plain": [
       "             age    height\n",
       "age     1.000000  0.488935\n",
       "height  0.488935  1.000000"
      ]
     },
     "execution_count": 27,
     "metadata": {},
     "output_type": "execute_result"
    }
   ],
   "source": [
    "# code for Ex.3.5\n",
    "df.corr()"
   ]
  }
 ],
 "metadata": {
  "kernelspec": {
   "display_name": "Python 2",
   "language": "python",
   "name": "python2"
  },
  "language_info": {
   "codemirror_mode": {
    "name": "ipython",
    "version": 2
   },
   "file_extension": ".py",
   "mimetype": "text/x-python",
   "name": "python",
   "nbconvert_exporter": "python",
   "pygments_lexer": "ipython2",
   "version": "2.7.13"
  }
 },
 "nbformat": 4,
 "nbformat_minor": 1
}
