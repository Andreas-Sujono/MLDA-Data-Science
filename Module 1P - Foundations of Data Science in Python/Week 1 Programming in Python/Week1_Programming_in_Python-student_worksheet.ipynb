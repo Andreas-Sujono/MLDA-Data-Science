{
 "cells": [
  {
   "cell_type": "markdown",
   "metadata": {},
   "source": [
    "# Week 1 - Basics of Python"
   ]
  },
  {
   "cell_type": "markdown",
   "metadata": {},
   "source": [
    "## <span style=\"color:#1A9FFF\">Workshop outline\n",
    "<!-- \n",
    "THIS IS A R MARKDOWN CELL.\n",
    "THE CONTENT FOLLOWS R MARKDOWN STYLES.\n",
    "FOR MORE INFO, YOU MAY REFER TO https://www.rstudio.com/wp-content/uploads/2015/02/rmarkdown-cheatsheet.pdf\n",
    "-->\n",
    "\n",
    "* ** 1. Before Tutorial **\n",
    "    + Tut 1a: Suggestions\n",
    "    + Tut 1b: Installation\n",
    "    + Tut 1c: Introduction to Jupyter Notebook\n",
    "\n",
    "\n",
    "* ** 2. Python Basics ** \n",
    "    + Tut 2a: Data Type <!-- int, float, string, bool, list, dictionary (indexing slicing) -->\n",
    "    + Tut 2b: Flow Control <!-- for, if -->\n",
    "    + Tut 2c: Function\n",
    "    + Exercise 2\n",
    "    + 10 minutes break\n",
    "      \n",
    "\n",
    "* ** 3. Pandas Basics **\n",
    "    + Tut 3a: Basic Data Structure\n",
    "    + Tut 3b: Basic Statistics\n",
    "    + Exercise 3\n",
    "    + 10 minutes break"
   ]
  },
  {
   "cell_type": "markdown",
   "metadata": {},
   "source": [
    "# <span style=\"color:#1A9FFF\">1. Before Tutorial</span>\n",
    "## <span style=\"color:#1A9FFF\">Tut 1a. Suggestions</span>"
   ]
  },
  {
   "cell_type": "markdown",
   "metadata": {},
   "source": [
    "<ul>\n",
    "    <li>** Try every code in the tutorial **</li>\n",
    "    <li>** In the class, interrupt me any time if you have any question **</li>\n",
    "    <li>** After class, search by Google first if you meet any problem **</li>\n",
    "</li> \n",
    "</ul>"
   ]
  },
  {
   "cell_type": "markdown",
   "metadata": {
    "collapsed": true
   },
   "source": [
    "## <span style=\"color:#1A9FFF\">Tut 1b. Installation</span>"
   ]
  },
  {
   "cell_type": "markdown",
   "metadata": {},
   "source": [
    "** Anaconda : ** Anaconda is a Python/R distribution. It aims to provide everything you need in Python for data science. It includes:\n",
    "    <ul>\n",
    "        <li> The core Python language </li>\n",
    "        <li> 100+ Packages (toolbox) </li>\n",
    "        <li> Jupyter Notebook and Spyder </li>\n",
    "        <li> `conda` package manager </li>\n",
    "    </ul>\n",
    "    ** Anaconda Installation Package : https://www.anaconda.com/download **\n",
    "    \n",
    "<!-- The installation may take a while, move on to the \"Introduction of Jupyter Notebook\" first. -->"
   ]
  },
  {
   "cell_type": "markdown",
   "metadata": {},
   "source": [
    "## <span style=\"color:#1A9FFF\">Tut 1c. Introduction to Jupyter Notebook</span>"
   ]
  },
  {
   "cell_type": "markdown",
   "metadata": {
    "collapsed": true
   },
   "source": [
    "** Notebook Document ** : Notebook documents are both human-readable documents containing the analysis description and the results (figures, tables, etc..) as well as executable documents which can be run to perform data analysis. \n",
    "\n",
    "** Jupyter Notebook **  : The Jupyter Notebook App is a server-client application that allows editing and running notebook documents via a web browser. The basic component of Jupyter Notebook is cell.\n",
    "    <ul>\n",
    "        <li> ` Markdown Cell ` for Rich Text ( [Tutorial](https://www.markdowntutorial.com) )</li>\n",
    "        <li> ` Code Cell ` for Excutable Code </li>\n",
    "    </ul>"
   ]
  },
  {
   "cell_type": "markdown",
   "metadata": {},
   "source": [
    "### This is a simple Markdown example\n",
    "\n",
    "*** we can make a list: ***\n",
    "+ The core Python language\n",
    "+ 100+ Packages (toolbox)\n",
    "+ Jupyter Notebook and Spyder\n",
    "+ `conda` package manager\n",
    "\n",
    "*** we can attach a link: ***\n",
    "  [link here](http://www.ntu.edu.sg/Pages/home.aspx)"
   ]
  },
  {
   "cell_type": "markdown",
   "metadata": {},
   "source": [
    "### This is an example of excutable document (code)"
   ]
  },
  {
   "cell_type": "code",
   "execution_count": 1,
   "metadata": {
    "ExecuteTime": {
     "end_time": "2019-08-04T16:30:55.489269Z",
     "start_time": "2019-08-04T16:30:55.483344Z"
    }
   },
   "outputs": [
    {
     "name": "stdout",
     "output_type": "stream",
     "text": [
      "I love NTU\n",
      "I love Data Science\n",
      "I love Python!!!\n"
     ]
    }
   ],
   "source": [
    "print (\"I love NTU\")    # basic output statement in Python\n",
    "print (\"I love Data Science\")\n",
    "print (\"I love Python!!!\")"
   ]
  },
  {
   "cell_type": "markdown",
   "metadata": {
    "collapsed": true
   },
   "source": [
    "# <span style=\"color:#1A9FFF\">2. Python Basics</span>\n",
    "## <span style=\"color:#1A9FFF\">Tut 2a. Data Type</span>"
   ]
  },
  {
   "cell_type": "markdown",
   "metadata": {},
   "source": [
    "### Basic Data Type and Their Operations\n",
    "<ul>\n",
    "    <li> Data Type      : `Integer`, `Float`, `String`, `Bool` </li>\n",
    "    <li> Data Structure : `List`, `Dictionary` </li>\n",
    "</ul>\n",
    "\n",
    "##### Integer"
   ]
  },
  {
   "cell_type": "code",
   "execution_count": 2,
   "metadata": {
    "ExecuteTime": {
     "end_time": "2019-08-04T16:31:04.566979Z",
     "start_time": "2019-08-04T16:31:04.562918Z"
    }
   },
   "outputs": [
    {
     "name": "stdout",
     "output_type": "stream",
     "text": [
      "a = 1 , b = 2\n"
     ]
    }
   ],
   "source": [
    "a = 1 # define a integer\n",
    "b = 2 # another integer\n",
    "\n",
    "print(\"a =\", a, \", b =\", b)"
   ]
  },
  {
   "cell_type": "code",
   "execution_count": 3,
   "metadata": {
    "ExecuteTime": {
     "end_time": "2019-08-04T16:31:04.572263Z",
     "start_time": "2019-08-04T16:31:04.568967Z"
    }
   },
   "outputs": [
    {
     "name": "stdout",
     "output_type": "stream",
     "text": [
      "a + b = 3\n"
     ]
    }
   ],
   "source": [
    "add_c = a + b # addition of two integers\n",
    "print(\"a + b =\", add_c)"
   ]
  },
  {
   "cell_type": "code",
   "execution_count": 4,
   "metadata": {
    "ExecuteTime": {
     "end_time": "2019-08-04T16:31:04.577670Z",
     "start_time": "2019-08-04T16:31:04.574405Z"
    }
   },
   "outputs": [
    {
     "name": "stdout",
     "output_type": "stream",
     "text": [
      "a - b = -1\n"
     ]
    }
   ],
   "source": [
    "sub_c = a - b # substraction of two integers\n",
    "print(\"a - b =\", sub_c)"
   ]
  },
  {
   "cell_type": "code",
   "execution_count": 5,
   "metadata": {
    "ExecuteTime": {
     "end_time": "2019-08-04T16:31:04.582944Z",
     "start_time": "2019-08-04T16:31:04.579711Z"
    }
   },
   "outputs": [
    {
     "name": "stdout",
     "output_type": "stream",
     "text": [
      "a * b = 2\n"
     ]
    }
   ],
   "source": [
    "mul_c = a * b # multiplication of two integers\n",
    "print(\"a * b =\", mul_c)"
   ]
  },
  {
   "cell_type": "code",
   "execution_count": 6,
   "metadata": {
    "ExecuteTime": {
     "end_time": "2019-08-04T16:31:04.588386Z",
     "start_time": "2019-08-04T16:31:04.584983Z"
    }
   },
   "outputs": [
    {
     "name": "stdout",
     "output_type": "stream",
     "text": [
      "a / b = 0.5   <= Division of Integers (rounded down)\n"
     ]
    }
   ],
   "source": [
    "div_c = a / b # division of two integers\n",
    "print(\"a / b =\", div_c, \"  <= Division of Integers (rounded down)\")"
   ]
  },
  {
   "cell_type": "markdown",
   "metadata": {},
   "source": [
    "##### Float"
   ]
  },
  {
   "cell_type": "code",
   "execution_count": 7,
   "metadata": {
    "ExecuteTime": {
     "end_time": "2019-08-04T16:31:04.593736Z",
     "start_time": "2019-08-04T16:31:04.590283Z"
    }
   },
   "outputs": [
    {
     "name": "stdout",
     "output_type": "stream",
     "text": [
      "a = 1.0 , b = 2\n"
     ]
    }
   ],
   "source": [
    "a = 1.0  # define a float (decimal)\n",
    "b = 2    # a integer\n",
    "\n",
    "print(\"a =\", a, \", b =\", b)"
   ]
  },
  {
   "cell_type": "code",
   "execution_count": 8,
   "metadata": {
    "ExecuteTime": {
     "end_time": "2019-08-04T16:31:04.598889Z",
     "start_time": "2019-08-04T16:31:04.595782Z"
    }
   },
   "outputs": [
    {
     "name": "stdout",
     "output_type": "stream",
     "text": [
      "a + b = 3.0\n"
     ]
    }
   ],
   "source": [
    "add_c = a + b # addition of two floats\n",
    "print(\"a + b =\", add_c)"
   ]
  },
  {
   "cell_type": "code",
   "execution_count": 9,
   "metadata": {
    "ExecuteTime": {
     "end_time": "2019-08-04T16:31:04.604004Z",
     "start_time": "2019-08-04T16:31:04.600829Z"
    }
   },
   "outputs": [
    {
     "name": "stdout",
     "output_type": "stream",
     "text": [
      "a - b = -1.0\n"
     ]
    }
   ],
   "source": [
    "sub_c = a - b # substraction of two floats\n",
    "print(\"a - b =\", sub_c)"
   ]
  },
  {
   "cell_type": "code",
   "execution_count": 10,
   "metadata": {
    "ExecuteTime": {
     "end_time": "2019-08-04T16:31:04.608898Z",
     "start_time": "2019-08-04T16:31:04.605777Z"
    }
   },
   "outputs": [
    {
     "name": "stdout",
     "output_type": "stream",
     "text": [
      "a * b = 2.0\n"
     ]
    }
   ],
   "source": [
    "mul_c = a * b # multiplication of two floats\n",
    "print(\"a * b =\", mul_c)"
   ]
  },
  {
   "cell_type": "code",
   "execution_count": 11,
   "metadata": {
    "ExecuteTime": {
     "end_time": "2019-08-04T16:31:04.614404Z",
     "start_time": "2019-08-04T16:31:04.611111Z"
    }
   },
   "outputs": [
    {
     "name": "stdout",
     "output_type": "stream",
     "text": [
      "a / b = 0.5   <= Division of Float\n"
     ]
    }
   ],
   "source": [
    "div_c = a / b # division of two integers\n",
    "print(\"a / b =\", div_c, \"  <= Division of Float\")"
   ]
  },
  {
   "cell_type": "markdown",
   "metadata": {},
   "source": [
    "##### String"
   ]
  },
  {
   "cell_type": "code",
   "execution_count": 12,
   "metadata": {
    "ExecuteTime": {
     "end_time": "2019-08-04T16:31:04.619489Z",
     "start_time": "2019-08-04T16:31:04.616324Z"
    }
   },
   "outputs": [
    {
     "name": "stdout",
     "output_type": "stream",
     "text": [
      "I love XXX\n"
     ]
    }
   ],
   "source": [
    "s = \"I love \"       # define a string\n",
    "something = 'XXX'   # another string\n",
    "\n",
    "print(s + something) # addition of strings"
   ]
  },
  {
   "cell_type": "markdown",
   "metadata": {},
   "source": [
    "##### Bool\n",
    "`True` and `False`"
   ]
  },
  {
   "cell_type": "code",
   "execution_count": 13,
   "metadata": {
    "ExecuteTime": {
     "end_time": "2019-08-04T16:31:04.626051Z",
     "start_time": "2019-08-04T16:31:04.621164Z"
    }
   },
   "outputs": [
    {
     "name": "stdout",
     "output_type": "stream",
     "text": [
      "a = True , b = False\n",
      "From Condition Statement\n",
      "a = False , b = True\n"
     ]
    }
   ],
   "source": [
    "a = True  # define a bool\n",
    "b = False # another bool\n",
    "print(\"a =\", a, \", b =\", b)\n",
    "\n",
    "# Condition Statement\n",
    "a = (2 > 3)\n",
    "b = (2 == 2)\n",
    "print(\"From Condition Statement\")\n",
    "print(\"a =\", a, \", b =\", b)"
   ]
  },
  {
   "cell_type": "code",
   "execution_count": 14,
   "metadata": {
    "ExecuteTime": {
     "end_time": "2019-08-04T16:31:04.631099Z",
     "start_time": "2019-08-04T16:31:04.627717Z"
    }
   },
   "outputs": [
    {
     "name": "stdout",
     "output_type": "stream",
     "text": [
      "a = True , b = False\n"
     ]
    }
   ],
   "source": [
    "# Let's do another example\n",
    "a = True  # define a bool\n",
    "b = False # another bool\n",
    "print(\"a =\", a, \", b =\", b)"
   ]
  },
  {
   "cell_type": "code",
   "execution_count": 15,
   "metadata": {
    "ExecuteTime": {
     "end_time": "2019-08-04T16:31:04.635655Z",
     "start_time": "2019-08-04T16:31:04.632770Z"
    }
   },
   "outputs": [
    {
     "name": "stdout",
     "output_type": "stream",
     "text": [
      "a and b = False\n"
     ]
    }
   ],
   "source": [
    "# logic operation\n",
    "and_c = a and b # \"and\" operation of two bool variables\n",
    "print(\"a and b =\", and_c)"
   ]
  },
  {
   "cell_type": "code",
   "execution_count": 16,
   "metadata": {
    "ExecuteTime": {
     "end_time": "2019-08-04T16:31:04.640287Z",
     "start_time": "2019-08-04T16:31:04.637331Z"
    }
   },
   "outputs": [
    {
     "name": "stdout",
     "output_type": "stream",
     "text": [
      "a or b  = True\n"
     ]
    }
   ],
   "source": [
    "or_c  = a or b  # \"or\" operation of two bool variables\n",
    "print(\"a or b  =\", or_c)"
   ]
  },
  {
   "cell_type": "code",
   "execution_count": 17,
   "metadata": {
    "ExecuteTime": {
     "end_time": "2019-08-04T16:31:04.645319Z",
     "start_time": "2019-08-04T16:31:04.642447Z"
    }
   },
   "outputs": [
    {
     "name": "stdout",
     "output_type": "stream",
     "text": [
      "not a   = False\n"
     ]
    }
   ],
   "source": [
    "not_c = not a   # \"not\" operation of a bool variable\n",
    "print(\"not a   =\", not_c)"
   ]
  },
  {
   "cell_type": "markdown",
   "metadata": {},
   "source": [
    "### List\n",
    "##### Create a list"
   ]
  },
  {
   "cell_type": "code",
   "execution_count": 18,
   "metadata": {
    "ExecuteTime": {
     "end_time": "2019-08-04T16:31:04.652206Z",
     "start_time": "2019-08-04T16:31:04.647066Z"
    }
   },
   "outputs": [
    {
     "name": "stdout",
     "output_type": "stream",
     "text": [
      "List of numbers   :  [2017, 10, 12, 15, 44, 55.0]\n",
      "List of strings   :  ['Andrew', 'Jordan', 'Hinton', 'LeCun']\n",
      "List of variables :  [3, True, 5.0, 'True']\n"
     ]
    }
   ],
   "source": [
    "# Define a list\n",
    "\n",
    "l_number = [2017, 10, 12, 15, 44, 55.0]             # a list of numbers\n",
    "l_string = ['Andrew', 'Jordan', 'Hinton', 'LeCun']  # a list of strings\n",
    "\n",
    "a = 3       # a integer\n",
    "b = True    # a bool\n",
    "c = 5.0     # a float\n",
    "d = 'True'  # a string\n",
    "\n",
    "l_variable = [a, b, c, d] # a combination of different data types\n",
    "\n",
    "print (\"List of numbers   : \", l_number)\n",
    "print (\"List of strings   : \", l_string)\n",
    "print (\"List of variables : \", l_variable)"
   ]
  },
  {
   "cell_type": "markdown",
   "metadata": {},
   "source": [
    "##### Indexing of list\n",
    "* use a integer with a bracket `[]`\n",
    "* index starts from `0`"
   ]
  },
  {
   "cell_type": "code",
   "execution_count": 19,
   "metadata": {
    "ExecuteTime": {
     "end_time": "2019-08-04T16:31:04.658824Z",
     "start_time": "2019-08-04T16:31:04.653876Z"
    }
   },
   "outputs": [
    {
     "name": "stdout",
     "output_type": "stream",
     "text": [
      "< 1. Indexing of list >\n",
      "Positive Indexing : Andrew\n",
      "Negative Indexing : LeCun\n",
      "Slicing  : ['Andrew', 'Jordan']\n"
     ]
    }
   ],
   "source": [
    "# 1. Indexing of list\n",
    "\n",
    "l_string = ['Andrew', 'Jordan', 'Hinton', 'LeCun']  # a list of strings\n",
    "#               0         1         2        3      positive indexing\n",
    "#              -4        -3        -2       -1      negative indexing\n",
    "print (\"< 1. Indexing of list >\")\n",
    "print (\"Positive Indexing :\", l_string[0])   # indexing, select the first string (positive index)\n",
    "print (\"Negative Indexing :\", l_string[-1])  # indexing, select the last string (negative index)\n",
    "print (\"Slicing  :\", l_string[0:2])          # slicing,  select the first and second string"
   ]
  },
  {
   "cell_type": "code",
   "execution_count": null,
   "metadata": {},
   "outputs": [],
   "source": [
    "# 2. Change one of the elements\n",
    "\n"
   ]
  },
  {
   "cell_type": "code",
   "execution_count": null,
   "metadata": {},
   "outputs": [],
   "source": [
    "# 3. String is a list of char (character)\n",
    "\n"
   ]
  },
  {
   "cell_type": "markdown",
   "metadata": {},
   "source": [
    "### Dictionary\n",
    "give each item a name ( indexing with a pre-defined 'name'， ***key*** )\n",
    "\n",
    "** { <span style=\"color:#FF8B33\">'key1'</span> : value1 , <span style=\"color:#FF8B33\">'key2'</span> : value2 , . . . , <span style=\"color:#FF8B33\">'keyN'</span> : valueN } **"
   ]
  },
  {
   "cell_type": "code",
   "execution_count": 20,
   "metadata": {
    "ExecuteTime": {
     "end_time": "2019-08-04T16:31:09.232886Z",
     "start_time": "2019-08-04T16:31:09.227272Z"
    }
   },
   "outputs": [
    {
     "name": "stdout",
     "output_type": "stream",
     "text": [
      "< 1. Define a dictionary >\n",
      "dictionary d : {'int': 1, 'float': 1.0, 'bool': True, '1': 'Andrew', '2': 'Hinton', '3': 'LeCun'}\n"
     ]
    }
   ],
   "source": [
    "# 1. Define a dictionary\n",
    "# define with a curly brace{}\n",
    "\n",
    "d = {'int':1, 'float':1.0, 'bool':True, '1': 'Andrew', '2':'Hinton', '3':'LeCun'}\n",
    "print (\"< 1. Define a dictionary >\")\n",
    "print (\"dictionary d :\", d)"
   ]
  },
  {
   "cell_type": "code",
   "execution_count": null,
   "metadata": {},
   "outputs": [],
   "source": [
    "# 2. Define an empty dictionary\n",
    "\n"
   ]
  },
  {
   "cell_type": "code",
   "execution_count": null,
   "metadata": {},
   "outputs": [],
   "source": [
    "# 3. Indexing of dictionary\n",
    "# use a key with bracket []\n"
   ]
  },
  {
   "cell_type": "code",
   "execution_count": null,
   "metadata": {},
   "outputs": [],
   "source": [
    "# 4. Replace value of an item\n"
   ]
  },
  {
   "cell_type": "markdown",
   "metadata": {},
   "source": [
    "### List v.s. Dictionary\n",
    "<ul>\n",
    "    <li> Indexing in Dictionary is faster than List </li>\n",
    "    <li> Dictionary costs much more mermory than List </li>\n",
    "</ul>"
   ]
  },
  {
   "cell_type": "markdown",
   "metadata": {},
   "source": [
    "## <span style=\"color:#1A9FFF\">Tut 2b. Flow Control</span>"
   ]
  },
  {
   "cell_type": "markdown",
   "metadata": {},
   "source": [
    "### If Statement\n",
    "Run code based conditions\n",
    "<img src=\"res/if.png\">"
   ]
  },
  {
   "cell_type": "markdown",
   "metadata": {},
   "source": [
    "##### A Simple Example"
   ]
  },
  {
   "cell_type": "code",
   "execution_count": 21,
   "metadata": {
    "ExecuteTime": {
     "end_time": "2019-08-04T16:31:23.724076Z",
     "start_time": "2019-08-04T16:31:23.720128Z"
    }
   },
   "outputs": [
    {
     "name": "stdout",
     "output_type": "stream",
     "text": [
      "The condition is True\n"
     ]
    }
   ],
   "source": [
    "condition = True  # define a bool variable called \"condition\"\n",
    "\n",
    "if condition:\n",
    "    print (\"The condition is True\")\n",
    "else:\n",
    "    print (\"The condition is False\")"
   ]
  },
  {
   "cell_type": "markdown",
   "metadata": {},
   "source": [
    "##### Using Condition Statement"
   ]
  },
  {
   "cell_type": "code",
   "execution_count": null,
   "metadata": {},
   "outputs": [],
   "source": [
    "# define a float variable recording a student's height\n",
    "# if the student is higher than 160.0cm, he will be given an apple\n",
    "# if the student is lower than 160.0cm,  he will be given a banana\n",
    "\n",
    "height = 170.0  # the height of the student\n",
    "\n"
   ]
  },
  {
   "cell_type": "markdown",
   "metadata": {},
   "source": [
    "##### if, elif, else\n",
    "\n",
    " <ul>\n",
    "    <li> `if, else` is just binary-branch flow control statement. </li>\n",
    "    <li> For multi-branch flow control, we can use `if, elif, else`. </li>\n",
    "</ul>\n",
    "\n",
    "\n",
    "More complicated case:\n",
    "<img src=\"res/gpa.png\">"
   ]
  },
  {
   "cell_type": "code",
   "execution_count": null,
   "metadata": {},
   "outputs": [],
   "source": [
    "# decide the grade of a student based on the score provided\n",
    "\n",
    "score = 75 # score of a student\n",
    "\n"
   ]
  },
  {
   "cell_type": "markdown",
   "metadata": {},
   "source": [
    "### For Loop\n",
    "Repeat codes many times, with a variable changing as the way we define\n",
    "<img src=\"res/for.png\">"
   ]
  },
  {
   "cell_type": "markdown",
   "metadata": {},
   "source": [
    "##### A simple example"
   ]
  },
  {
   "cell_type": "code",
   "execution_count": 22,
   "metadata": {
    "ExecuteTime": {
     "end_time": "2019-08-04T16:31:34.934735Z",
     "start_time": "2019-08-04T16:31:34.928525Z"
    }
   },
   "outputs": [
    {
     "name": "stdout",
     "output_type": "stream",
     "text": [
      "< 1. A simple example >\n",
      "0\n",
      "1\n",
      "2\n",
      "3\n"
     ]
    }
   ],
   "source": [
    "# print the iter_variable repeatedly with the value of iter_variable changed from 0 to 3\n",
    "\n",
    "# 1. A simple example\n",
    "\n",
    "print (\"< 1. A simple example >\")\n",
    "for iter_variable in [0, 1, 2, 3]:\n",
    "    print (iter_variable)"
   ]
  },
  {
   "cell_type": "code",
   "execution_count": null,
   "metadata": {},
   "outputs": [],
   "source": [
    "# 2. A more convenient way\n"
   ]
  },
  {
   "cell_type": "code",
   "execution_count": null,
   "metadata": {},
   "outputs": [],
   "source": [
    "# 3. A flexible way\n"
   ]
  },
  {
   "cell_type": "markdown",
   "metadata": {},
   "source": [
    "##### Repeat an operation"
   ]
  },
  {
   "cell_type": "code",
   "execution_count": 24,
   "metadata": {
    "ExecuteTime": {
     "end_time": "2019-08-04T16:31:43.754781Z",
     "start_time": "2019-08-04T16:31:43.750568Z"
    }
   },
   "outputs": [
    {
     "name": "stdout",
     "output_type": "stream",
     "text": [
      "< 1. The most naive way >\n",
      "sum from 1 to 10 : 55\n"
     ]
    }
   ],
   "source": [
    "# sum up the numbers from 1 to 10\n",
    "\n",
    "\n",
    "# 1. The most naive way\n",
    "\n",
    "print(\"< 1. The most naive way >\")\n",
    "sum_10 = 1 + 2 + 3 + 4 + 5 + 6 + 7 + 8 + 9 + 10\n",
    "print(\"sum from 1 to 10 :\", sum_10)"
   ]
  },
  {
   "cell_type": "code",
   "execution_count": null,
   "metadata": {},
   "outputs": [],
   "source": [
    "# 2. The right way to do\n"
   ]
  },
  {
   "cell_type": "code",
   "execution_count": null,
   "metadata": {},
   "outputs": [],
   "source": [
    "# 3. More numbers involved\n"
   ]
  },
  {
   "cell_type": "markdown",
   "metadata": {},
   "source": [
    "### While Loop\n",
    "Repeat codes until condition is not satisfied\n",
    "<img src=\"res/while.png\">"
   ]
  },
  {
   "cell_type": "markdown",
   "metadata": {},
   "source": [
    "##### A simple example"
   ]
  },
  {
   "cell_type": "code",
   "execution_count": null,
   "metadata": {
    "ExecuteTime": {
     "end_time": "2019-08-04T16:31:52.297024Z",
     "start_time": "2019-08-04T16:31:47.152080Z"
    }
   },
   "outputs": [],
   "source": [
    "# A DANGEROUS case\n",
    "condition = True\n",
    "\n",
    "while condition:\n",
    "    print(\"I'm in.\")\n",
    "#     condition = False\n",
    "    \n",
    "print(\"I'm out\")"
   ]
  },
  {
   "cell_type": "markdown",
   "metadata": {},
   "source": [
    "##### Repeat an operation"
   ]
  },
  {
   "cell_type": "code",
   "execution_count": 26,
   "metadata": {
    "ExecuteTime": {
     "end_time": "2019-08-04T16:32:28.604233Z",
     "start_time": "2019-08-04T16:32:28.597743Z"
    }
   },
   "outputs": [
    {
     "name": "stdout",
     "output_type": "stream",
     "text": [
      "sum from 1 to 100 : 5050\n"
     ]
    }
   ],
   "source": [
    "# sum up the numbers from 1 to 100\n",
    "\n",
    "counter = 1\n",
    "sum_100 = 0\n",
    "\n",
    "while counter <= 100:\n",
    "    sum_100 = sum_100 + counter\n",
    "    counter = counter + 1\n",
    "    \n",
    "print(\"sum from 1 to 100 :\", sum_100)\n",
    "\n",
    "    \n",
    "    \n",
    "# illustration code\n",
    "# counter = 1\n",
    "# sum_9   = 0\n",
    "# print \"counter\", \" sum_9\", '\\n'\n",
    "# while counter <= 9:\n",
    "#     sum_9 = sum_9 + counter\n",
    "#     print counter, \"         \", sum_9\n",
    "#     counter = counter + 1"
   ]
  },
  {
   "cell_type": "markdown",
   "metadata": {},
   "source": [
    "## <span style=\"color:#1A9FFF\">Tut 2c. Function</span>\n",
    "\n",
    "### Definition of Function\n",
    "Enclosing codes so that it can be called repeatedly and flexibly\n",
    "<img src=\"res/function.png\">"
   ]
  },
  {
   "cell_type": "code",
   "execution_count": 27,
   "metadata": {
    "ExecuteTime": {
     "end_time": "2019-08-04T16:32:36.720173Z",
     "start_time": "2019-08-04T16:32:36.714685Z"
    }
   },
   "outputs": [],
   "source": [
    "# 1. A simple example\n",
    "\n",
    "# define a function sum up numbers from 1 to n (n is the input parameter)\n",
    "def sumUp(n):          # user-defined function\n",
    "    \n",
    "    # initialize a variable\n",
    "    sum_n = 0\n",
    "    \n",
    "    # use \"for loop\" to implement sum up function, based on input parameter \"n\"\n",
    "    for i in range(n):\n",
    "        sum_n = sum_n + (i+1)\n",
    "    \n",
    "    # output the result, end of the function\n",
    "    return sum_n"
   ]
  },
  {
   "cell_type": "code",
   "execution_count": 28,
   "metadata": {
    "ExecuteTime": {
     "end_time": "2019-08-04T16:32:48.221949Z",
     "start_time": "2019-08-04T16:32:48.216963Z"
    }
   },
   "outputs": [
    {
     "name": "stdout",
     "output_type": "stream",
     "text": [
      "< 1. A simple example >\n",
      "Output of sumUp function : 55\n"
     ]
    }
   ],
   "source": [
    "# ================================================\n",
    "n = 10\n",
    "print (\"< 1. A simple example >\")\n",
    "print (\"Output of sumUp function :\", sumUp(n))\n",
    "# ================================================"
   ]
  },
  {
   "cell_type": "code",
   "execution_count": null,
   "metadata": {},
   "outputs": [],
   "source": [
    "# 2. Multiple iuputs\n",
    "\n",
    "# define a function sum up two input variables \"a\" and \"b\"\n"
   ]
  },
  {
   "cell_type": "code",
   "execution_count": null,
   "metadata": {},
   "outputs": [],
   "source": [
    "# 3. Multiple outputs\n",
    "\n",
    "# define a function sum up and multiple up numbers from 1 to n (n is the input parameter)\n"
   ]
  },
  {
   "cell_type": "markdown",
   "metadata": {},
   "source": [
    "### Built-in functions in Python"
   ]
  },
  {
   "cell_type": "markdown",
   "metadata": {},
   "source": [
    "##### for List and Dictionary"
   ]
  },
  {
   "cell_type": "code",
   "execution_count": 29,
   "metadata": {
    "ExecuteTime": {
     "end_time": "2019-08-04T16:33:00.607489Z",
     "start_time": "2019-08-04T16:33:00.603318Z"
    },
    "scrolled": true
   },
   "outputs": [
    {
     "name": "stdout",
     "output_type": "stream",
     "text": [
      "< 1. Generate a list >\n",
      "The generated list : \n",
      " [9, 1, 0, 8, 7, 6, 3, 2, 4, 5]\n"
     ]
    }
   ],
   "source": [
    "# ============== List ==================== \n",
    "\n",
    "# 1. Generate a list with numbers from 0 to 9 with random order\n",
    "\n",
    "import random # import a package that helps generate random number \n",
    "l = random.sample(range(10), 10)\n",
    "print (\"< 1. Generate a list >\")\n",
    "print (\"The generated list :\", '\\n', l)"
   ]
  },
  {
   "cell_type": "code",
   "execution_count": null,
   "metadata": {},
   "outputs": [],
   "source": [
    "# 2. Check the length of the generated list\n"
   ]
  },
  {
   "cell_type": "code",
   "execution_count": null,
   "metadata": {},
   "outputs": [],
   "source": [
    "# 3. Find the maximum and minimum number of the generated list\n"
   ]
  },
  {
   "cell_type": "code",
   "execution_count": null,
   "metadata": {},
   "outputs": [],
   "source": [
    "# 4. Sort the generated list in accending order\n"
   ]
  },
  {
   "cell_type": "code",
   "execution_count": null,
   "metadata": {},
   "outputs": [],
   "source": [
    "# 5. Reverse the generated list\n"
   ]
  },
  {
   "cell_type": "code",
   "execution_count": null,
   "metadata": {},
   "outputs": [],
   "source": [
    "# 6. Add a new item at the end of the list\n"
   ]
  },
  {
   "cell_type": "code",
   "execution_count": null,
   "metadata": {},
   "outputs": [],
   "source": [
    "# 7. Get index of a certain item in list\n"
   ]
  },
  {
   "cell_type": "code",
   "execution_count": null,
   "metadata": {},
   "outputs": [],
   "source": [
    "# 8. Delete a item in list\n"
   ]
  },
  {
   "cell_type": "code",
   "execution_count": 30,
   "metadata": {
    "ExecuteTime": {
     "end_time": "2019-08-04T16:33:04.806604Z",
     "start_time": "2019-08-04T16:33:04.801438Z"
    }
   },
   "outputs": [
    {
     "name": "stdout",
     "output_type": "stream",
     "text": [
      "< 1. Define a dictionary >\n",
      "The defined dictionary : {'name': 'Nanyang Technological University', 'location': 'Singapore', 'birth': 1991}\n"
     ]
    }
   ],
   "source": [
    "# ============== Dictionary ==================== \n",
    "\n",
    "# 1. Define a dictionary\n",
    "d = {'name':'Nanyang Technological University', 'location':'Singapore', 'birth':1990, 'birth':1991} # repeated name\n",
    "                                                                                      # the last one will be recorded\n",
    "print(\"< 1. Define a dictionary >\")\n",
    "print(\"The defined dictionary :\", d)"
   ]
  },
  {
   "cell_type": "code",
   "execution_count": null,
   "metadata": {},
   "outputs": [],
   "source": [
    "# 2. Check the length of the generated dictionary\n"
   ]
  },
  {
   "cell_type": "code",
   "execution_count": null,
   "metadata": {},
   "outputs": [],
   "source": [
    "# 3. Check the key of all items in a dictionary\n"
   ]
  },
  {
   "cell_type": "code",
   "execution_count": null,
   "metadata": {},
   "outputs": [],
   "source": [
    "# 4. Check the value of all items in a dictionary\n"
   ]
  },
  {
   "cell_type": "code",
   "execution_count": null,
   "metadata": {},
   "outputs": [],
   "source": [
    "# 5. Delete one item in a dictionary\n"
   ]
  },
  {
   "cell_type": "code",
   "execution_count": null,
   "metadata": {},
   "outputs": [],
   "source": [
    "# 6. Clear all items in a dictionary\n"
   ]
  },
  {
   "cell_type": "markdown",
   "metadata": {},
   "source": [
    "## <span style=\"color:#FF8B33\">Exercise 2 (10 mins break)</span> \n",
    "Open `Week1 - Exercise 2.ipynb` and complete the exercises."
   ]
  },
  {
   "cell_type": "markdown",
   "metadata": {},
   "source": [
    "# <span style=\"color:#1A9FFF\">3. Pandas Basics </span>\n",
    "\n",
    "Pandas is a newer package built on top of NumPy, and provides an efficient implementation of a `DataFrame`. "
   ]
  },
  {
   "cell_type": "code",
   "execution_count": 31,
   "metadata": {
    "ExecuteTime": {
     "end_time": "2019-08-04T16:33:08.546003Z",
     "start_time": "2019-08-04T16:33:08.215906Z"
    }
   },
   "outputs": [],
   "source": [
    "import numpy  as np    # import packages\n",
    "import pandas as pd"
   ]
  },
  {
   "cell_type": "markdown",
   "metadata": {
    "collapsed": true
   },
   "source": [
    "## <span style=\"color:#1A9FFF\">Tut 3a. Basic Data Structure </span>\n",
    "<ul>\n",
    "    <li>`Series` : One-dimensional data structure with any data type</li>\n",
    "    <li>`DataFrame` : Two-dimensional data structure with different data type</li>\n",
    "    <li>`Panel`  : Three-dimensional data structure</li>\n",
    "    <li>`PanelND`: N-dimensional data structure </li>\n",
    "</ul>\n",
    "More details : [Pandas - Basic Data Structure](https://pandas.pydata.org/pandas-docs/stable/dsintro.html#dsintro)"
   ]
  },
  {
   "cell_type": "markdown",
   "metadata": {},
   "source": [
    "### Series\n",
    "A Pandas Series is a one-dimensional array of indexed data. Compared with `list` in Python and `ndarray` in Numpy, the index of Pandas Series is explicitly defined.\n",
    "\n",
    "One indexing, ** \"`index`\" **"
   ]
  },
  {
   "cell_type": "markdown",
   "metadata": {},
   "source": [
    "##### Definition\n",
    "** `pd.Series(data, index=index)` ** index is default parameter"
   ]
  },
  {
   "cell_type": "code",
   "execution_count": 32,
   "metadata": {
    "ExecuteTime": {
     "end_time": "2019-08-04T16:33:10.095381Z",
     "start_time": "2019-08-04T16:33:10.089943Z"
    }
   },
   "outputs": [
    {
     "name": "stdout",
     "output_type": "stream",
     "text": [
      "< 1. Create series with a list >\n",
      "A Series defined from a list:\n",
      " 0    1.0\n",
      "1    3.0\n",
      "2    5.0\n",
      "3    NaN\n",
      "4    6.0\n",
      "5    8.0\n",
      "dtype: float64\n"
     ]
    }
   ],
   "source": [
    "# 1. Create a Series with a list\n",
    "s = pd.Series([1,3,5,np.nan,6,8])                                        # default index starts from 0\n",
    "print (\"< 1. Create series with a list >\")                               # 'nan' is a specific symbol for missing data\n",
    "print (\"A Series defined from a list:\\n\", s)                             # 'nan' = not a number"
   ]
  },
  {
   "cell_type": "code",
   "execution_count": null,
   "metadata": {},
   "outputs": [],
   "source": [
    "# 2. Create a Series with a dictionary\n"
   ]
  },
  {
   "cell_type": "code",
   "execution_count": null,
   "metadata": {},
   "outputs": [],
   "source": [
    "# 3. Create a Series with nonsequential indices\n"
   ]
  },
  {
   "cell_type": "code",
   "execution_count": null,
   "metadata": {},
   "outputs": [],
   "source": [
    "# 4. Create a Series with an array of char\n"
   ]
  },
  {
   "cell_type": "code",
   "execution_count": null,
   "metadata": {},
   "outputs": [],
   "source": [
    "# 5. Attributes values and index\n"
   ]
  },
  {
   "cell_type": "code",
   "execution_count": null,
   "metadata": {},
   "outputs": [],
   "source": [
    "# 6. Give a Series and its index names\n"
   ]
  },
  {
   "cell_type": "markdown",
   "metadata": {},
   "source": [
    "##### Indexing\n",
    "Similar to list in Python, we can access data in Series by using square-bracket notation `[]`."
   ]
  },
  {
   "cell_type": "code",
   "execution_count": 34,
   "metadata": {
    "ExecuteTime": {
     "end_time": "2019-08-04T16:33:23.375981Z",
     "start_time": "2019-08-04T16:33:23.367384Z"
    }
   },
   "outputs": [
    {
     "name": "stdout",
     "output_type": "stream",
     "text": [
      "< 1. Indexing with numbers >\n",
      "0    1.0\n",
      "1    3.0\n",
      "dtype: float64\n"
     ]
    }
   ],
   "source": [
    "# 1. Indexing with numbers\n",
    "s = pd.Series([1,3,5,np.nan,6,8]) \n",
    "print (\"< 1. Indexing with numbers >\")\n",
    "print (s[0:2])"
   ]
  },
  {
   "cell_type": "code",
   "execution_count": 35,
   "metadata": {
    "ExecuteTime": {
     "end_time": "2019-08-04T16:33:42.248009Z",
     "start_time": "2019-08-04T16:33:42.238941Z"
    }
   },
   "outputs": [
    {
     "name": "stdout",
     "output_type": "stream",
     "text": [
      "< 2. Indexing with user-defined indices >\n",
      "\n",
      "original series :        <==== [ index is drawn from the sorted keys ]\n",
      "Ohio      35000\n",
      "Texas     71000\n",
      "Oregon    16000\n",
      "Utah       5000\n",
      "dtype: int64 \n",
      "\n",
      "series slicing :\n",
      "Ohio     35000\n",
      "Texas    71000\n",
      "dtype: int64\n"
     ]
    }
   ],
   "source": [
    "# 2. Indexing with user-defined indices\n",
    "d = {'Ohio': 35000, 'Texas': 71000, 'Oregon': 16000, 'Utah': 5000}       # user-defined index\n",
    "s = pd.Series(d)\n",
    "print (\"< 2. Indexing with user-defined indices >\\n\")\n",
    "print (\"original series :        <==== [ index is drawn from the sorted keys ]\")\n",
    "print (s, '\\n')   \n",
    "print (\"series slicing :\")\n",
    "print (s['Ohio':'Texas'])"
   ]
  },
  {
   "cell_type": "markdown",
   "metadata": {},
   "source": [
    "### DataFrame\n",
    "`DataFrame`s are essentially multidimensional arrays with attached **`row`** and **`column`** labels, and often with heterogeneous types and/or missing data.\n",
    "\n",
    "Two indexings, ** \"`index`\" ** for row indexing and ** \"`columns`\" ** for column indexing"
   ]
  },
  {
   "cell_type": "markdown",
   "metadata": {},
   "source": [
    "##### Definition"
   ]
  },
  {
   "cell_type": "code",
   "execution_count": 37,
   "metadata": {
    "ExecuteTime": {
     "end_time": "2019-08-04T16:33:54.274537Z",
     "start_time": "2019-08-04T16:33:54.257451Z"
    }
   },
   "outputs": [
    {
     "name": "stdout",
     "output_type": "stream",
     "text": [
      "< 1. Create from a dictionary of Series >\n",
      "         Age  Height\n",
      "Andrew  30.0     154\n",
      "Emma    21.0     177\n",
      "John    27.0     165\n",
      "Steven   NaN     169     <====[ Steven's age is not provided ]\n"
     ]
    }
   ],
   "source": [
    "# 1. Create from a dictionary of Series (with missing data filled in)\n",
    "\n",
    "d = {'Age'    : pd.Series([27, 21, 30],         index=['John', 'Emma', 'Andrew']), \n",
    "     'Height' : pd.Series([165, 177, 154, 169], index=['John', 'Emma', 'Andrew', 'Steven'])}\n",
    "df_ds = pd.DataFrame(d)\n",
    "\n",
    "print (\"< 1. Create from a dictionary of Series >\")\n",
    "print (df_ds, \"    <====[ Steven's age is not provided ]\")"
   ]
  },
  {
   "cell_type": "code",
   "execution_count": null,
   "metadata": {},
   "outputs": [],
   "source": [
    "# 2. Create from a list of dictionaries \n"
   ]
  },
  {
   "cell_type": "markdown",
   "metadata": {},
   "source": [
    "##### Simple Indexing\n",
    "\n",
    "select rows ( items ) and columns"
   ]
  },
  {
   "cell_type": "code",
   "execution_count": null,
   "metadata": {},
   "outputs": [],
   "source": [
    "# 1. Indexing with pre-defined name (rows)\n"
   ]
  },
  {
   "cell_type": "code",
   "execution_count": null,
   "metadata": {},
   "outputs": [],
   "source": [
    "# 2. Indexing with numbers (rows)\n"
   ]
  },
  {
   "cell_type": "code",
   "execution_count": null,
   "metadata": {},
   "outputs": [],
   "source": [
    "# 3. Select columns\n"
   ]
  },
  {
   "cell_type": "markdown",
   "metadata": {},
   "source": [
    "### Index Object\n",
    "Both the Series and DataFrame objects contain an explicit **`index`** that helps you reference and modify data. It is an `immutable array` and `ordered set`."
   ]
  },
  {
   "cell_type": "markdown",
   "metadata": {},
   "source": [
    "##### Definition"
   ]
  },
  {
   "cell_type": "code",
   "execution_count": 39,
   "metadata": {
    "ExecuteTime": {
     "end_time": "2019-08-04T16:34:03.499488Z",
     "start_time": "2019-08-04T16:34:03.491152Z"
    }
   },
   "outputs": [
    {
     "name": "stdout",
     "output_type": "stream",
     "text": [
      "The created Index objects\n",
      " Int64Index([1, 3, 5, 7, 9, 11], dtype='int64') \n",
      " Int64Index([2, 4, 5, 7, 9, 12], dtype='int64')\n"
     ]
    }
   ],
   "source": [
    "# Create a Index object\n",
    "idx1 = pd.Index([1, 3, 5, 7, 9, 11])\n",
    "idx2 = pd.Index([2, 4, 5, 7, 9, 12])\n",
    "\n",
    "print (\"The created Index objects\\n\", idx1, '\\n', idx2)"
   ]
  },
  {
   "cell_type": "markdown",
   "metadata": {},
   "source": [
    "##### Indexing"
   ]
  },
  {
   "cell_type": "code",
   "execution_count": null,
   "metadata": {},
   "outputs": [],
   "source": [
    "# Indexing with integers\n"
   ]
  },
  {
   "cell_type": "markdown",
   "metadata": {},
   "source": [
    "##### Attributes"
   ]
  },
  {
   "cell_type": "code",
   "execution_count": null,
   "metadata": {},
   "outputs": [],
   "source": [
    "# Attributes - size, shape, ndim, dtype\n",
    "print (\"size of the index      :\",   )\n",
    "print (\"shape of the index     :\",   )\n",
    "print (\"dimension of the index :\",   )\n",
    "print (\"type of the index      :\",   )"
   ]
  },
  {
   "cell_type": "markdown",
   "metadata": {},
   "source": [
    "##### Property"
   ]
  },
  {
   "cell_type": "code",
   "execution_count": null,
   "metadata": {},
   "outputs": [],
   "source": [
    "# Immutable (values in Index cannot be changed)\n",
    "# idx1[0] = 0\n",
    "\n",
    "# Set operation\n",
    "print (\"Intersection of idx1 and idx2         :\",   )\n",
    "print (\"Union of idx1 and idx2                :\",   )\n",
    "print (\"Symmetric difference of idx1 and idx2 :\",   )"
   ]
  },
  {
   "cell_type": "markdown",
   "metadata": {
    "collapsed": true
   },
   "source": [
    "## <span style=\"color:#1A9FFF\">Tut 3b. Basic Statistics </span>\n",
    "Basic statistics on DataFrame"
   ]
  },
  {
   "cell_type": "code",
   "execution_count": 40,
   "metadata": {
    "ExecuteTime": {
     "end_time": "2019-08-04T16:34:12.013491Z",
     "start_time": "2019-08-04T16:34:11.981944Z"
    }
   },
   "outputs": [
    {
     "data": {
      "text/html": [
       "<div>\n",
       "<style scoped>\n",
       "    .dataframe tbody tr th:only-of-type {\n",
       "        vertical-align: middle;\n",
       "    }\n",
       "\n",
       "    .dataframe tbody tr th {\n",
       "        vertical-align: top;\n",
       "    }\n",
       "\n",
       "    .dataframe thead th {\n",
       "        text-align: right;\n",
       "    }\n",
       "</style>\n",
       "<table border=\"1\" class=\"dataframe\">\n",
       "  <thead>\n",
       "    <tr style=\"text-align: right;\">\n",
       "      <th></th>\n",
       "      <th>area_water</th>\n",
       "      <th>population</th>\n",
       "      <th>area_total</th>\n",
       "    </tr>\n",
       "  </thead>\n",
       "  <tbody>\n",
       "    <tr>\n",
       "      <th>AZ</th>\n",
       "      <td>1.0</td>\n",
       "      <td>6.90</td>\n",
       "      <td>295.2</td>\n",
       "    </tr>\n",
       "    <tr>\n",
       "      <th>CA</th>\n",
       "      <td>20.5</td>\n",
       "      <td>39.30</td>\n",
       "      <td>424.0</td>\n",
       "    </tr>\n",
       "    <tr>\n",
       "      <th>FL</th>\n",
       "      <td>31.4</td>\n",
       "      <td>20.60</td>\n",
       "      <td>170.3</td>\n",
       "    </tr>\n",
       "    <tr>\n",
       "      <th>HI</th>\n",
       "      <td>11.7</td>\n",
       "      <td>1.43</td>\n",
       "      <td>28.3</td>\n",
       "    </tr>\n",
       "    <tr>\n",
       "      <th>MI</th>\n",
       "      <td>104.1</td>\n",
       "      <td>9.93</td>\n",
       "      <td>250.5</td>\n",
       "    </tr>\n",
       "    <tr>\n",
       "      <th>PA</th>\n",
       "      <td>3.4</td>\n",
       "      <td>12.80</td>\n",
       "      <td>119.3</td>\n",
       "    </tr>\n",
       "    <tr>\n",
       "      <th>TX</th>\n",
       "      <td>19.1</td>\n",
       "      <td>27.90</td>\n",
       "      <td>695.7</td>\n",
       "    </tr>\n",
       "    <tr>\n",
       "      <th>VA</th>\n",
       "      <td>8.5</td>\n",
       "      <td>8.40</td>\n",
       "      <td>110.8</td>\n",
       "    </tr>\n",
       "    <tr>\n",
       "      <th>WA</th>\n",
       "      <td>12.5</td>\n",
       "      <td>7.30</td>\n",
       "      <td>184.7</td>\n",
       "    </tr>\n",
       "  </tbody>\n",
       "</table>\n",
       "</div>"
      ],
      "text/plain": [
       "    area_water  population  area_total\n",
       "AZ         1.0        6.90       295.2\n",
       "CA        20.5       39.30       424.0\n",
       "FL        31.4       20.60       170.3\n",
       "HI        11.7        1.43        28.3\n",
       "MI       104.1        9.93       250.5\n",
       "PA         3.4       12.80       119.3\n",
       "TX        19.1       27.90       695.7\n",
       "VA         8.5        8.40       110.8\n",
       "WA        12.5        7.30       184.7"
      ]
     },
     "execution_count": 40,
     "metadata": {},
     "output_type": "execute_result"
    }
   ],
   "source": [
    "# Create a DataFrame\n",
    "# AZ = Arizona, CA = California, FL = Florida\n",
    "# HI = Hawaii,  MI = Michigan,   PA = Pennsylvania\n",
    "# TX = Texas,   VA = Virginia,   WA = Washington\n",
    "\n",
    "s_popu  = pd.Series([6.9,   39.3,  20.6,  1.43, 9.93,  12.8,  27.9,  8.4,   7.3],   index=['AZ', 'CA', 'FL', 'HI', 'MI', 'PA', 'TX', 'VA', 'WA'])  # million persons\n",
    "s_area  = pd.Series([295.2, 424.0, 170.3, 28.3, 250.5, 119.3, 695.7, 110.8, 184.7], index=['AZ', 'CA', 'FL', 'HI', 'MI', 'PA', 'TX', 'VA', 'WA'])  # thousand km^2\n",
    "s_warea = pd.Series([1.0,   20.5,  31.4,  11.7, 104.1, 3.4,   19.1,  8.5,   12.5],  index=['AZ', 'CA', 'FL', 'HI', 'MI', 'PA', 'TX', 'VA', 'WA'])  # thousand km^2\n",
    "\n",
    "d = {'area_water'  : s_warea, \n",
    "     'population'  : s_popu,\n",
    "     'area_total'  : s_area\n",
    "     \n",
    "    }\n",
    "df = pd.DataFrame(d)\n",
    "df"
   ]
  },
  {
   "cell_type": "code",
   "execution_count": null,
   "metadata": {
    "scrolled": true
   },
   "outputs": [],
   "source": [
    "# 1. Check average area and population\n"
   ]
  },
  {
   "cell_type": "code",
   "execution_count": null,
   "metadata": {},
   "outputs": [],
   "source": [
    "# 2. Check minimum area and population\n"
   ]
  },
  {
   "cell_type": "code",
   "execution_count": null,
   "metadata": {},
   "outputs": [],
   "source": [
    "# 3. Check maximum area and population\n"
   ]
  },
  {
   "cell_type": "code",
   "execution_count": null,
   "metadata": {},
   "outputs": [],
   "source": [
    "# 4. Check median area and population\n"
   ]
  },
  {
   "cell_type": "code",
   "execution_count": null,
   "metadata": {},
   "outputs": [],
   "source": [
    "# 5. Check standard deviation of area and population\n"
   ]
  },
  {
   "cell_type": "code",
   "execution_count": null,
   "metadata": {},
   "outputs": [],
   "source": [
    "# 6. Check correlation between columns\n"
   ]
  },
  {
   "cell_type": "markdown",
   "metadata": {
    "collapsed": true
   },
   "source": [
    "# <span style=\"color:#FF8B33\">Exercise 3 (10 mins break)</span> \n",
    "Open `Week1 - Exercise 3.ipynb` and complete the exercises."
   ]
  }
 ],
 "metadata": {
  "kernelspec": {
   "display_name": "pytorch3.7",
   "language": "python",
   "name": "pytorch"
  },
  "language_info": {
   "codemirror_mode": {
    "name": "ipython",
    "version": 3
   },
   "file_extension": ".py",
   "mimetype": "text/x-python",
   "name": "python",
   "nbconvert_exporter": "python",
   "pygments_lexer": "ipython3",
   "version": "3.7.3"
  },
  "toc": {
   "base_numbering": 1,
   "nav_menu": {},
   "number_sections": true,
   "sideBar": true,
   "skip_h1_title": false,
   "title_cell": "Table of Contents",
   "title_sidebar": "Contents",
   "toc_cell": false,
   "toc_position": {},
   "toc_section_display": true,
   "toc_window_display": false
  }
 },
 "nbformat": 4,
 "nbformat_minor": 2
}
