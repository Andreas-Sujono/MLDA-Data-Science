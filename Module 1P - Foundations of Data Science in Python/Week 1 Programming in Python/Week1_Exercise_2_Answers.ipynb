{
 "cells": [
  {
   "cell_type": "markdown",
   "metadata": {},
   "source": [
    "#### Ex.2.1 Generate a list of dictionaries based on the following provided table\n",
    "| Country |  Population  |    Area   | GDPpCapita | Currency |\n",
    "|---------|:------------:|:---------:|:----------:|:--------:|\n",
    "|Singapore|  5,607,300   |   739.1   |    90.724  |   SGD    |\n",
    "|  U.S.A  |  325,365,189 | 9,833,520 |    57.220  |   USD    |\n",
    "|  China  |1,403,500,365 | 9,596,961 |    16.676  |   CNY    |"
   ]
  },
  {
   "cell_type": "code",
   "execution_count": 1,
   "metadata": {
    "ExecuteTime": {
     "end_time": "2019-08-05T07:40:43.244134Z",
     "start_time": "2019-08-05T07:40:43.223229Z"
    }
   },
   "outputs": [
    {
     "data": {
      "text/plain": [
       "[{'Country': 'Singapore',\n",
       "  'Population': 5607300,\n",
       "  'Area': 739.1,\n",
       "  'GDPpCapita': 90.724,\n",
       "  'Currency': 'SGD'},\n",
       " {'Country': 'USA',\n",
       "  'Population': 325365189,\n",
       "  'Area': 9833520,\n",
       "  'GDPpCapita': 52.22,\n",
       "  'Currency': 'USD'},\n",
       " {'Country': 'China',\n",
       "  'Population': 1403500365,\n",
       "  'Area': 9596961,\n",
       "  'GDPpCapita': 16.676,\n",
       "  'Currency': 'CNY'}]"
      ]
     },
     "execution_count": 1,
     "metadata": {},
     "output_type": "execute_result"
    }
   ],
   "source": [
    "# code for Ex.2.1\n",
    "singapore = {'Country':'Singapore', 'Population':5607300,    'Area':739.1,   'GDPpCapita':90.724, 'Currency':'SGD'}\n",
    "usa       = {'Country':'USA',       'Population':325365189,  'Area':9833520, 'GDPpCapita':52.220, 'Currency':'USD'}\n",
    "china     = {'Country':'China',     'Population':1403500365, 'Area':9596961, 'GDPpCapita':16.676, 'Currency':'CNY'}\n",
    "\n",
    "list_country = [singapore, usa, china]\n",
    "list_country"
   ]
  },
  {
   "cell_type": "markdown",
   "metadata": {},
   "source": [
    "#### Ex.2.2 Print out the name and population of each country in the list of dictionaries created in Ex.2.1 by using *** `for loop` ***"
   ]
  },
  {
   "cell_type": "code",
   "execution_count": 2,
   "metadata": {
    "ExecuteTime": {
     "end_time": "2019-08-05T07:40:43.253743Z",
     "start_time": "2019-08-05T07:40:43.246826Z"
    }
   },
   "outputs": [
    {
     "name": "stdout",
     "output_type": "stream",
     "text": [
      "Country : Singapore \n",
      " Population : 5607300 \n",
      "\n",
      "Country : USA \n",
      " Population : 325365189 \n",
      "\n",
      "Country : China \n",
      " Population : 1403500365 \n",
      "\n"
     ]
    }
   ],
   "source": [
    "# code for Ex.2.2\n",
    "for i in list_country: \n",
    "    print('Country :', i['Country'], '\\n', \n",
    "          'Population :', i['Population'], '\\n')"
   ]
  },
  {
   "cell_type": "markdown",
   "metadata": {},
   "source": [
    "#### Ex.2.3 Print out the name and area of each country in the list of dictionaries created in Ex.2.1 by using *** `while loop` ***"
   ]
  },
  {
   "cell_type": "code",
   "execution_count": 3,
   "metadata": {
    "ExecuteTime": {
     "end_time": "2019-08-05T07:40:43.263812Z",
     "start_time": "2019-08-05T07:40:43.256387Z"
    }
   },
   "outputs": [
    {
     "name": "stdout",
     "output_type": "stream",
     "text": [
      "Country : Singapore \n",
      " Area : 739.1 \n",
      "\n",
      "Country : USA \n",
      " Area : 9833520 \n",
      "\n",
      "Country : China \n",
      " Area : 9596961 \n",
      "\n"
     ]
    }
   ],
   "source": [
    "# code for Ex.2.3\n",
    "index = 0\n",
    "while index < 3:\n",
    "    print('Country :', list_country[index]['Country'], '\\n', \n",
    "          'Area :', list_country[index]['Area'], '\\n')\n",
    "    index = index + 1"
   ]
  },
  {
   "cell_type": "markdown",
   "metadata": {},
   "source": [
    "#### Ex.2.4 Check out whether the area of China is greater than 10 million by using *** `if statement` ***, if the condition is satisfied print out 'YES', if not print out 'NO'"
   ]
  },
  {
   "cell_type": "code",
   "execution_count": 4,
   "metadata": {
    "ExecuteTime": {
     "end_time": "2019-08-05T07:40:43.270709Z",
     "start_time": "2019-08-05T07:40:43.266405Z"
    }
   },
   "outputs": [
    {
     "name": "stdout",
     "output_type": "stream",
     "text": [
      "NO\n"
     ]
    }
   ],
   "source": [
    "# code for Ex.2.4\n",
    "if list_country[2]['Area'] > 10000000:\n",
    "    print ('YES')\n",
    "else:\n",
    "    print ('NO')"
   ]
  },
  {
   "cell_type": "markdown",
   "metadata": {},
   "source": [
    "#### Ex.2.5 Implement a function to pick out the countries that have the GDP per Capita greater than 50\n",
    "* Input  : the list of dictionaries created in Ex2.1\n",
    "* Output : index of the country in the list (also print out the name of the country)\n",
    "* Function Name : pickOut\n",
    "\n",
    "\n",
    "* tips: by using **`for loop`** and **`if statement`**"
   ]
  },
  {
   "cell_type": "code",
   "execution_count": 5,
   "metadata": {
    "ExecuteTime": {
     "end_time": "2019-08-05T07:40:43.284778Z",
     "start_time": "2019-08-05T07:40:43.276311Z"
    }
   },
   "outputs": [
    {
     "name": "stdout",
     "output_type": "stream",
     "text": [
      "Singapore\n",
      "USA\n"
     ]
    },
    {
     "data": {
      "text/plain": [
       "[0, 1]"
      ]
     },
     "execution_count": 5,
     "metadata": {},
     "output_type": "execute_result"
    }
   ],
   "source": [
    "# code for Ex.2.5\n",
    "def pickOut(list_country):\n",
    "    \n",
    "    l_selected = []\n",
    "    \n",
    "    for i in range(len(list_country)):\n",
    "        \n",
    "        if list_country[i]['GDPpCapita'] > 50:\n",
    "            \n",
    "            print (list_country[i]['Country'])\n",
    "            l_selected.append(i)\n",
    "            \n",
    "    return l_selected\n",
    "\n",
    "pickOut(list_country)"
   ]
  }
 ],
 "metadata": {
  "kernelspec": {
   "display_name": "pytorch3.7",
   "language": "python",
   "name": "pytorch"
  },
  "language_info": {
   "codemirror_mode": {
    "name": "ipython",
    "version": 3
   },
   "file_extension": ".py",
   "mimetype": "text/x-python",
   "name": "python",
   "nbconvert_exporter": "python",
   "pygments_lexer": "ipython3",
   "version": "3.7.3"
  },
  "toc": {
   "base_numbering": 1,
   "nav_menu": {},
   "number_sections": false,
   "sideBar": true,
   "skip_h1_title": false,
   "title_cell": "Table of Contents",
   "title_sidebar": "Contents",
   "toc_cell": false,
   "toc_position": {},
   "toc_section_display": true,
   "toc_window_display": false
  }
 },
 "nbformat": 4,
 "nbformat_minor": 1
}
