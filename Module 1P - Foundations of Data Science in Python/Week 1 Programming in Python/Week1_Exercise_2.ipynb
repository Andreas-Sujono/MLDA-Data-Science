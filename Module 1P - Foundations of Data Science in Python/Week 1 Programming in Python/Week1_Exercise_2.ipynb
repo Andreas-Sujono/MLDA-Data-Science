{
 "cells": [
  {
   "cell_type": "markdown",
   "metadata": {},
   "source": [
    "#### Ex.2.1 Generate a list of dictionaries based on the following provided table\n",
    "| Country |  Population  |    Area   | GDPpCapita | Currency |\n",
    "|---------|:------------:|:---------:|:----------:|:--------:|\n",
    "|Singapore|  5,607,300   |   739.1   |    90.724  |   SGD    |\n",
    "|  U.S.A  |  325,365,189 | 9,833,520 |    57.220  |   USD    |\n",
    "|  China  |1,403,500,365 | 9,596,961 |    16.676  |   CNY    |"
   ]
  },
  {
   "cell_type": "code",
   "execution_count": 7,
   "metadata": {},
   "outputs": [],
   "source": [
    "# code for Ex.2.1\n"
   ]
  },
  {
   "cell_type": "markdown",
   "metadata": {},
   "source": [
    "#### Ex.2.2 Print out the name and population of each country in the list of dictionaries created in Ex.2.1 by using *** `for loop` ***"
   ]
  },
  {
   "cell_type": "code",
   "execution_count": 8,
   "metadata": {},
   "outputs": [],
   "source": [
    "# code for Ex.2.2\n"
   ]
  },
  {
   "cell_type": "markdown",
   "metadata": {},
   "source": [
    "#### Ex.2.3 Print out the name and area of each country in the list of dictionaries created in Ex.2.1 by using *** `while loop` ***"
   ]
  },
  {
   "cell_type": "code",
   "execution_count": 9,
   "metadata": {},
   "outputs": [],
   "source": [
    "# code for Ex.2.3\n"
   ]
  },
  {
   "cell_type": "markdown",
   "metadata": {},
   "source": [
    "#### Ex.2.4 Check out whether the area of China is greater than 10 million by using *** `if statement` ***, if the condition is satisfied print out 'YES', if not print out 'NO'"
   ]
  },
  {
   "cell_type": "code",
   "execution_count": 10,
   "metadata": {},
   "outputs": [],
   "source": [
    "# code for Ex.2.4\n"
   ]
  },
  {
   "cell_type": "markdown",
   "metadata": {},
   "source": [
    "#### Ex.2.5 Implement a function to pick out the countries that have the GDP per Capita greater than 50\n",
    "* Input  : the list of dictionaries created in Ex2.1\n",
    "* Output : index of the country in the list (also print out the name of the country)\n",
    "* Function Name : pickOut\n",
    "\n",
    "\n",
    "* tips: by using **`for loop`** and **`if statement`**"
   ]
  },
  {
   "cell_type": "code",
   "execution_count": 11,
   "metadata": {},
   "outputs": [],
   "source": [
    "# code for Ex.2.5\n"
   ]
  },
  {
   "cell_type": "code",
   "execution_count": null,
   "metadata": {
    "collapsed": true
   },
   "outputs": [],
   "source": []
  }
 ],
 "metadata": {
  "kernelspec": {
   "display_name": "pytorch3.7",
   "language": "python",
   "name": "pytorch"
  },
  "language_info": {
   "codemirror_mode": {
    "name": "ipython",
    "version": 3
   },
   "file_extension": ".py",
   "mimetype": "text/x-python",
   "name": "python",
   "nbconvert_exporter": "python",
   "pygments_lexer": "ipython3",
   "version": "3.7.3"
  },
  "toc": {
   "base_numbering": 1,
   "nav_menu": {},
   "number_sections": true,
   "sideBar": true,
   "skip_h1_title": false,
   "title_cell": "Table of Contents",
   "title_sidebar": "Contents",
   "toc_cell": false,
   "toc_position": {},
   "toc_section_display": true,
   "toc_window_display": false
  }
 },
 "nbformat": 4,
 "nbformat_minor": 1
}
