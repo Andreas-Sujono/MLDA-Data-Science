{
 "cells": [
  {
   "cell_type": "markdown",
   "metadata": {},
   "source": [
    "#### Import Libraries"
   ]
  },
  {
   "cell_type": "code",
   "execution_count": 2,
   "metadata": {
    "collapsed": true
   },
   "outputs": [],
   "source": [
    "import numpy\n",
    "import pandas\n",
    "\n",
    "%matplotlib inline\n",
    "import matplotlib.pyplot as plt"
   ]
  },
  {
   "cell_type": "markdown",
   "metadata": {},
   "source": [
    "#### Ex.1.1 Using matplotlib to draw a exponential curve with the following requirement：\n",
    "<ul>\n",
    "    <li>Line Color : Green</li>\n",
    "    <li>Line Style : Dashed line</li>\n",
    "    <li>Axes Limit : x:[-2, 2], y:[0, 9]</li>\n",
    "    <li>Labels for x axis (x) and y axis (exp)</li>\n",
    "    <li>Legend of Figure</li>\n",
    "    <li>Title : A Exponential Curve</li>\n",
    "</ul>\n",
    "\n",
    "\n",
    "**Hint** : search function of numpy for a exponential sequence"
   ]
  },
  {
   "cell_type": "code",
   "execution_count": 1,
   "metadata": {},
   "outputs": [],
   "source": [
    "# code for Ex.1.1\n"
   ]
  },
  {
   "cell_type": "markdown",
   "metadata": {},
   "source": [
    "#### Ex.1.2 Using matplotlib to draw a exponential curve with the following requirement：\n",
    "<ul>\n",
    "    <li>Draw the curve with Scatter plot</li>\n",
    "    <li>Marker Color Value : related curve value</li>\n",
    "    <li>Marker Color : with colormap viridis</li>\n",
    "    <li>Marker Style : triangle</li>\n",
    "    <li>Marker Size : 100 times of related curve value</li>\n",
    "    <li>Transparency : 0.3</li>\n",
    "    <li>Axes Limit : x:[-2.5, 2.5], y:[-1, 9]</li>\n",
    "    <li>Labels for x axis (x) and y axis (exp)</li>\n",
    "    <li>Title : A Exponential Curve</li>\n",
    "    <li>Colorbar</li>\n",
    "</ul>"
   ]
  },
  {
   "cell_type": "code",
   "execution_count": 2,
   "metadata": {},
   "outputs": [],
   "source": [
    "# code for Ex.1.2\n"
   ]
  },
  {
   "cell_type": "markdown",
   "metadata": {},
   "source": [
    "#### Ex.1.3 Draw a histogram of 1000 randomly generated numbers following normal distribution with the requirements shown below:\n",
    "<ul>\n",
    "    <li>Bin Number : 50</li>\n",
    "    <li>Transparency : 0.5</li>\n",
    "    <li>Labels for x axis (bins) and y axis (frequency)</li>\n",
    "    <li>Title : A Histogram</li>\n",
    "</ul>"
   ]
  },
  {
   "cell_type": "code",
   "execution_count": 3,
   "metadata": {},
   "outputs": [],
   "source": [
    "# code for Ex.1.3\n"
   ]
  },
  {
   "cell_type": "markdown",
   "metadata": {},
   "source": [
    "#### Ex.1.4 Using 2 by 2 subplots to draw all figures created in above three questions:"
   ]
  },
  {
   "cell_type": "code",
   "execution_count": 4,
   "metadata": {},
   "outputs": [],
   "source": [
    "# code for Ex.1.4\n"
   ]
  },
  {
   "cell_type": "code",
   "execution_count": null,
   "metadata": {
    "collapsed": true
   },
   "outputs": [],
   "source": []
  }
 ],
 "metadata": {
  "kernelspec": {
   "display_name": "Python 2",
   "language": "python",
   "name": "python2"
  },
  "language_info": {
   "codemirror_mode": {
    "name": "ipython",
    "version": 2
   },
   "file_extension": ".py",
   "mimetype": "text/x-python",
   "name": "python",
   "nbconvert_exporter": "python",
   "pygments_lexer": "ipython2",
   "version": "2.7.13"
  }
 },
 "nbformat": 4,
 "nbformat_minor": 1
}
