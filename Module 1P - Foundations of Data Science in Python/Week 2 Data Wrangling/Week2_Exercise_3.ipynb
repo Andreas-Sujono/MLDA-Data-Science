{
 "cells": [
  {
   "cell_type": "markdown",
   "metadata": {},
   "source": [
    "#### Import Libraries & Dataset"
   ]
  },
  {
   "cell_type": "code",
   "execution_count": null,
   "metadata": {
    "collapsed": true
   },
   "outputs": [],
   "source": [
    "import numpy\n",
    "import pandas\n",
    "\n",
    "# import the titanic dataset\n",
    "titanic = pandas.read_csv('Titanic.csv')\n",
    "\n",
    "# brief sumary the dataset\n",
    "titanic_nona = titanic.dropna()\n",
    "titanic_nona.describe()"
   ]
  },
  {
   "cell_type": "markdown",
   "metadata": {},
   "source": [
    "#### Ex.3.1 Merge the first and last 5 items of Titanic dataset with new row indices 0-9."
   ]
  },
  {
   "cell_type": "code",
   "execution_count": null,
   "metadata": {
    "collapsed": true
   },
   "outputs": [],
   "source": [
    "# Code for Ex3.1"
   ]
  },
  {
   "cell_type": "markdown",
   "metadata": {},
   "source": [
    "#### Ex.3.2 Merge the following three provided DataFrames with their shared columns, and set the new index as 0-5."
   ]
  },
  {
   "cell_type": "code",
   "execution_count": null,
   "metadata": {
    "collapsed": true
   },
   "outputs": [],
   "source": [
    "df1 = titanic.head(2)\n",
    "df2 = titanic.iloc[500:502]\n",
    "df3 = titanic.tail(2)\n",
    "\n",
    "del df1['Name']\n",
    "del df2['Sex']\n",
    "del df3['Age']"
   ]
  },
  {
   "cell_type": "code",
   "execution_count": null,
   "metadata": {
    "collapsed": true
   },
   "outputs": [],
   "source": [
    "# Code for Ex3.2"
   ]
  },
  {
   "cell_type": "markdown",
   "metadata": {},
   "source": [
    "#### Ex.3.3 Merge the following three provided DataFrames with complete columns as the original Titanic dataset, and set the new index as 0-5."
   ]
  },
  {
   "cell_type": "code",
   "execution_count": null,
   "metadata": {
    "collapsed": true
   },
   "outputs": [],
   "source": [
    "df1 = titanic.head(2)\n",
    "df2 = titanic.iloc[500:502]\n",
    "df3 = titanic.tail(2)\n",
    "\n",
    "del df1['Name']\n",
    "del df2['PClass']\n",
    "del df3['Name']"
   ]
  },
  {
   "cell_type": "code",
   "execution_count": null,
   "metadata": {
    "collapsed": true
   },
   "outputs": [],
   "source": [
    "# Code for Ex3.3"
   ]
  },
  {
   "cell_type": "markdown",
   "metadata": {},
   "source": [
    "#### Ex.3.4 Group the dataset by Age, and brief summary each group. ( Please uniformly seperate the age into 8 groups, drop NaN if needed )"
   ]
  },
  {
   "cell_type": "code",
   "execution_count": null,
   "metadata": {
    "collapsed": true
   },
   "outputs": [],
   "source": [
    "# Code for Ex3.4"
   ]
  },
  {
   "cell_type": "markdown",
   "metadata": {},
   "source": [
    "#### Ex.3.5 Group the dataset by PClass and Sex, and return the average age of the these groups. ( drop NaN if needed )"
   ]
  },
  {
   "cell_type": "code",
   "execution_count": null,
   "metadata": {
    "collapsed": true
   },
   "outputs": [],
   "source": [
    "# Code for Ex3.5"
   ]
  }
 ],
 "metadata": {
  "kernelspec": {
   "display_name": "Python 3",
   "language": "python",
   "name": "python3"
  },
  "language_info": {
   "codemirror_mode": {
    "name": "ipython",
    "version": 3
   },
   "file_extension": ".py",
   "mimetype": "text/x-python",
   "name": "python",
   "nbconvert_exporter": "python",
   "pygments_lexer": "ipython3",
   "version": "3.6.3"
  }
 },
 "nbformat": 4,
 "nbformat_minor": 1
}
