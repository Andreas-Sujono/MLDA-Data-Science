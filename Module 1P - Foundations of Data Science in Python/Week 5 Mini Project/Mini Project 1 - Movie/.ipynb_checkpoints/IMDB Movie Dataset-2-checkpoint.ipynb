{
 "cells": [
  {
   "cell_type": "markdown",
   "metadata": {},
   "source": [
    "# Week 5 - Mini-Project"
   ]
  },
  {
   "cell_type": "markdown",
   "metadata": {},
   "source": [
    "## <font color='#1A9FFF'>Case study: IMDB Movie Dataset</font>\n",
    "\n",
    "The data of this dataset comes from the Top 100 Movies List of All Time in IMDb. Movies recorded in this dataset are in this decade (between 2010-2016). There are 118 movies included in this dataset, and each movie entry bears 54 attributes. Most of the attributes are related to the rating. The goal of this dataset is to help us understand the success of movies with high rating.\n",
    "\n",
    "**Data dictionary**\n",
    "\n",
    "|# | Attribute   |   Description                                                                     |\n",
    "|::|:------------|:----------------------------------------------------------------------------------|\n",
    "|0 |Title        | Name of the movies with the year of release in the brackets.                      |\n",
    "|1 |Rating       | Total average rating of the movie on IMDb.                                        |\n",
    "|2 |TotalVotes   | Total number of votes given to the movie.                                         |\n",
    "|3 |Genre1       | Genre attributed to the movie. A lot of movies have just one or two genres.       |\n",
    "|4 |Genre2       | Second genre attributed to a movie.                                               |\n",
    "|5 |Genre3       | Third genre attributed to a movie.                                                |\n",
    "|6 |MetaCritic   | Metacritic score.                                                                 |\n",
    "|7 |Budget       | Budget of the movie as per IMDB, data on some of the movies is wrong or is in a different currency <br> (GBP, EUR etc), this needs to be cleaned before analysing.                                      |\n",
    "|8 |Runtime      | Duration of the movie. (min)                                                      |\n",
    "|9 |Cvotes10     | Number of votes rating the movie 10 stars.                                        |\n",
    "|10|Cvotes09     | Number of votes rating the movie 9 stars.                                         |\n",
    "|11|Cvotes08     | Number of votes rating the movie 8 stars.                                         |\n",
    "|12|Cvotes07     | Number of votes rating the movie 7 stars.                                         |\n",
    "|13|Cvotes06     | Number of votes rating the movie 6 stars.                                         |\n",
    "|14|Cvotes05     | Number of votes rating the movie 5 stars.                                         |\n",
    "|15|Cvotes04     | Number of votes rating the movie 4 stars.                                         |\n",
    "|16|Cvotes03     | Number of votes rating the movie 3 stars.                                         | \n",
    "|17|Cvotes02     | Number of votes rating the movie 2 stars.                                         | \n",
    "|18|Cvotes01     | Number of votes rating the movie 1 stars.                                         |\n",
    "|19|CvotesMale   | Total number of male voters.                                                      |   \n",
    "|20|CvotesFemale | Total number of female voters.                                                    |\n",
    "|21|CvotesU18    | Number of votes by people aged under 18.                                          |\n",
    "|22|CvotesU18M   | Number of votes by male voters aged under 18.                                     |\n",
    "|23|CvotesU18F   | Number of votes by female voters aged under 18.                                   |\n",
    "|24|Cvotes1829   | Number of votes by voters between ages 18 and 29, inclusive of both years.        |\n",
    "|25|Cvotes1829M  | Number of votes by male voters between ages 18 and 29, inclusive of both years.   |\n",
    "|26|Cvotes1829F  | Number of votes by female voters between ages 18 and 29, inclusive of both years. |\n",
    "|27|Cvotes3044   | Number of votes by voters between ages 30 and 44, inclusive of both years.        |\n",
    "|28|Cvotes3044M  | Number of votes by male voters between ages 30 and 44, inclusive of both years.   |\n",
    "|29|Cvotes3044F  | Number of votes by female voters between ages 30 and 44, inclusive of both years. |\n",
    "|30|Cvotes45A    | Number of votes by voters aged 45 and above.                                      |\n",
    "|31|Cvotes45AM   | Number of votes by male voters aged 45 and above.                                 | \n",
    "|32|Cvotes45AF   | Number of votes by female voters aged 45 and above.                               |  \n",
    "|33|Cvotes1000   | Total count of votes by top 1000 users of IMDb.                                   |\n",
    "|34|CvotesUS     | Total count of votes by US based users.                                           | \n",
    "|35|CvotesnUS    | Total count of votes by viewers based outside US.                                 |\n",
    "|36|VotesM       | Average rating by male users.                                                     |\n",
    "|37|VotesF       | Average rating by female users.                                                   | \n",
    "|38|VotesU18     | Average rating by users under 18 years of age.                                    |\n",
    "|39|VotesU18M    | Average rating by male users under 18 years of age.                               | \n",
    "|40|VotesU18F    | Average rating by female users under 18 years of age.                             |\n",
    "|41|Votes1829    | Average rating by users between ages 18 and 29.                                   |\n",
    "|42|Votes1829M   | Average rating by male users between ages 18 and 29.                              | \n",
    "|43|Votes1829F   | Average rating by female users between ages 18 and 29.                            |\n",
    "|44|Votes3044    | Average rating by users between ages 30 and 44.                                   |\n",
    "|45|Votes3044M   | Average rating by male users between ages 30 and 44.                              | \n",
    "|46|Votes3044F   | Average rating by female users between ages 30 and 44.                            |\n",
    "|47|Votes45A     | Average rating by users age 45 and above.                                         | \n",
    "|48|Votes45AM    | Average rating by male users age 45 and above.                                    | \n",
    "|49|Votes45AF    | Average rating by female users age 45 and above.                                  |\n",
    "|50|VotesIMDB    | Average rating of IMDb staff.                                                     | \n",
    "|51|Votes1000    | Average rating of IMDb's top 1000 users.                                          |\n",
    "|52|VotesUS      | Average rating of U.S. based users.                                               |\n",
    "|53|VotesnUS     | Average rating of users based outside the U.S.                                    |\n",
    "\n",
    "\n",
    "**The project aims to:**\n",
    "\n",
    "* What are the characteristics of top movies?\n",
    "* Are there any trend of top movies, for example, genre, budget, targeted age group or gender?"
   ]
  },
  {
   "cell_type": "markdown",
   "metadata": {},
   "source": [
    "## <font color='#1A9FFF'>Sample Solution</font>"
   ]
  },
  {
   "cell_type": "markdown",
   "metadata": {},
   "source": [
    "#### Import Libraries and Dataset"
   ]
  },
  {
   "cell_type": "code",
   "execution_count": 19,
   "metadata": {
    "collapsed": true
   },
   "outputs": [],
   "source": [
    "import numpy  as np\n",
    "import pandas as pd              # import pandas for data wrangling\n",
    "import matplotlib.pyplot as plt  # import matplotlib for ploting\n",
    "%matplotlib inline\n",
    "\n",
    "data = pd.read_csv('IMDB.csv')   # read data"
   ]
  },
  {
   "cell_type": "markdown",
   "metadata": {},
   "source": [
    "###  <font color='#1A9FFF'>1. Brief Summary of Dataset</font>\n",
    "After reading in the data, we first do some simple exploration, check available columns, data structure, and data summary."
   ]
  },
  {
   "cell_type": "markdown",
   "metadata": {},
   "source": [
    "#### Check the size of the dataset"
   ]
  },
  {
   "cell_type": "code",
   "execution_count": 20,
   "metadata": {},
   "outputs": [
    {
     "name": "stdout",
     "output_type": "stream",
     "text": [
      "The size of the dataset : (118, 54)\n"
     ]
    }
   ],
   "source": [
    "# Check the size of the IMDB dataset\n",
    "print \"The size of the dataset :\", data.shape"
   ]
  },
  {
   "cell_type": "markdown",
   "metadata": {},
   "source": [
    "As we can see, there are `118` movies recored in this dataset, and each movie has `54` attributes"
   ]
  },
  {
   "cell_type": "markdown",
   "metadata": {},
   "source": [
    "#### Check the data structure "
   ]
  },
  {
   "cell_type": "code",
   "execution_count": 21,
   "metadata": {},
   "outputs": [
    {
     "name": "stdout",
     "output_type": "stream",
     "text": [
      "Data structure :\n",
      "<class 'pandas.core.frame.DataFrame'>\n",
      "Int64Index: 118 entries, 0 to 117\n",
      "Data columns (total 54 columns):\n",
      "Title           118 non-null object\n",
      "Rating          118 non-null float64\n",
      "TotalVotes      118 non-null int64\n",
      "Genre1          118 non-null object\n",
      "Genre2          111 non-null object\n",
      "Genre3          83 non-null object\n",
      "MetaCritic      111 non-null float64\n",
      "Budget          117 non-null float64\n",
      "Runtime         97 non-null float64\n",
      "CVotes10        118 non-null int64\n",
      "CVotes09        118 non-null int64\n",
      "CVotes08        118 non-null int64\n",
      "CVotes07        118 non-null int64\n",
      "CVotes06        118 non-null int64\n",
      "CVotes05        118 non-null int64\n",
      "CVotes04        118 non-null int64\n",
      "CVotes03        118 non-null int64\n",
      "CVotes02        118 non-null int64\n",
      "CVotes01        118 non-null int64\n",
      "CVotesMale      118 non-null int64\n",
      "CVotesFemale    118 non-null int64\n",
      "CVotesU18       118 non-null int64\n",
      "CVotesU18M      118 non-null int64\n",
      "CVotesU18F      118 non-null int64\n",
      "CVotes1829      118 non-null int64\n",
      "CVotes1829M     118 non-null int64\n",
      "CVotes1829F     118 non-null int64\n",
      "CVotes3044      118 non-null int64\n",
      "CVotes3044M     118 non-null int64\n",
      "CVotes3044F     118 non-null int64\n",
      "CVotes45A       118 non-null int64\n",
      "CVotes45AM      118 non-null int64\n",
      "CVotes45AF      118 non-null int64\n",
      "CVotes1000      118 non-null int64\n",
      "CVotesUS        118 non-null int64\n",
      "CVotesnUS       117 non-null float64\n",
      "VotesM          118 non-null float64\n",
      "VotesF          118 non-null float64\n",
      "VotesU18        118 non-null float64\n",
      "VotesU18M       118 non-null float64\n",
      "VotesU18F       118 non-null float64\n",
      "Votes1829       118 non-null float64\n",
      "Votes1829M      118 non-null float64\n",
      "Votes1829F      118 non-null float64\n",
      "Votes3044       118 non-null float64\n",
      "Votes3044M      118 non-null float64\n",
      "Votes3044F      118 non-null float64\n",
      "Votes45A        118 non-null float64\n",
      "Votes45AM       118 non-null float64\n",
      "Votes45AF       118 non-null float64\n",
      "VotesIMDB       118 non-null float64\n",
      "Votes1000       118 non-null float64\n",
      "VotesUS         118 non-null float64\n",
      "VotesnUS        117 non-null float64\n",
      "dtypes: float64(23), int64(27), object(4)\n",
      "memory usage: 50.7+ KB\n",
      "None\n"
     ]
    }
   ],
   "source": [
    "# Check the data structure\n",
    "print \"Data structure :\\n\", data.info()"
   ]
  },
  {
   "cell_type": "markdown",
   "metadata": {},
   "source": [
    "From the dataset check we can see that, there are missing data in attributes ** `Genre2`**,  **`Genre3`**,  **`MetaCritic`**,  **`Budget`**,  **`Runtime`**,  **`CVotesnUS`**,  **`VotesnUS` **."
   ]
  },
  {
   "cell_type": "markdown",
   "metadata": {},
   "source": [
    "#### Check main attributes"
   ]
  },
  {
   "cell_type": "code",
   "execution_count": 22,
   "metadata": {},
   "outputs": [
    {
     "name": "stdout",
     "output_type": "stream",
     "text": [
      "Brief data check :\n",
      "                     Title  Rating  TotalVotes     Genre1  MetaCritic  \\\n",
      "0   12 Years a Slave(2013)     8.1      496092  Biography          96   \n",
      "1          127 Hours(2010)     7.6      297075  Adventure          82   \n",
      "2              50/50(2011)     7.7      283935     Comedy          72   \n",
      "3         About Time(2013)     7.8      225412     Comedy         NaN   \n",
      "4              Amour(2012)     7.9       76121      Drama          94   \n",
      "5               Argo(2012)     7.7      486840     Action          86   \n",
      "6            Arrival(2016)     8.0      370842      Drama          81   \n",
      "7  Beasts of No tion(2015)     7.8       51781      Drama          79   \n",
      "8    Before Midnight(2013)     7.9      106553      Drama          94   \n",
      "9         Big Hero 6(2014)     7.8      315485  Animation          74   \n",
      "\n",
      "     Budget  Runtime  \n",
      "0  20000000      134  \n",
      "1  18000000       94  \n",
      "2   8000000      100  \n",
      "3  12000000      123  \n",
      "4   8900000      127  \n",
      "5  44500000      120  \n",
      "6  47000000      116  \n",
      "7   6000000      137  \n",
      "8   3000000      109  \n",
      "9  56215889      NaN  \n"
     ]
    }
   ],
   "source": [
    "# Check the main attributes of the first 10 movies\n",
    "# the main attributes are \"Title\"(0), Rating\"(1), \"TotalVotes\"(2), \"Genre1\"(3), \"MetaCritic\"(6), \"Budget\"(7), \"Runtime\"(8)\n",
    "\n",
    "data_head5 = data.head(10)\n",
    "print \"Brief data check :\\n\", data_head5.iloc[:,[0, 1, 2, 3, 6, 7, 8]]"
   ]
  },
  {
   "cell_type": "markdown",
   "metadata": {},
   "source": [
    "#### Brief Summary"
   ]
  },
  {
   "cell_type": "code",
   "execution_count": 23,
   "metadata": {},
   "outputs": [
    {
     "data": {
      "text/html": [
       "<div>\n",
       "<table border=\"1\" class=\"dataframe\">\n",
       "  <thead>\n",
       "    <tr style=\"text-align: right;\">\n",
       "      <th></th>\n",
       "      <th>Rating</th>\n",
       "      <th>TotalVotes</th>\n",
       "      <th>MetaCritic</th>\n",
       "      <th>Budget</th>\n",
       "      <th>Runtime</th>\n",
       "    </tr>\n",
       "  </thead>\n",
       "  <tbody>\n",
       "    <tr>\n",
       "      <th>count</th>\n",
       "      <td>118.000000</td>\n",
       "      <td>118.000000</td>\n",
       "      <td>111.000000</td>\n",
       "      <td>1.170000e+02</td>\n",
       "      <td>97.000000</td>\n",
       "    </tr>\n",
       "    <tr>\n",
       "      <th>mean</th>\n",
       "      <td>7.872881</td>\n",
       "      <td>372835.025424</td>\n",
       "      <td>77.819820</td>\n",
       "      <td>6.414458e+07</td>\n",
       "      <td>126.670103</td>\n",
       "    </tr>\n",
       "    <tr>\n",
       "      <th>std</th>\n",
       "      <td>0.236665</td>\n",
       "      <td>263273.428691</td>\n",
       "      <td>8.817543</td>\n",
       "      <td>6.948701e+07</td>\n",
       "      <td>19.572367</td>\n",
       "    </tr>\n",
       "    <tr>\n",
       "      <th>min</th>\n",
       "      <td>7.500000</td>\n",
       "      <td>26016.000000</td>\n",
       "      <td>62.000000</td>\n",
       "      <td>8.040000e+02</td>\n",
       "      <td>91.000000</td>\n",
       "    </tr>\n",
       "    <tr>\n",
       "      <th>25%</th>\n",
       "      <td>7.700000</td>\n",
       "      <td>206593.750000</td>\n",
       "      <td>72.000000</td>\n",
       "      <td>1.300000e+07</td>\n",
       "      <td>113.000000</td>\n",
       "    </tr>\n",
       "    <tr>\n",
       "      <th>50%</th>\n",
       "      <td>7.800000</td>\n",
       "      <td>333251.500000</td>\n",
       "      <td>78.000000</td>\n",
       "      <td>3.700000e+07</td>\n",
       "      <td>126.000000</td>\n",
       "    </tr>\n",
       "    <tr>\n",
       "      <th>75%</th>\n",
       "      <td>8.000000</td>\n",
       "      <td>508417.500000</td>\n",
       "      <td>82.500000</td>\n",
       "      <td>1.000000e+08</td>\n",
       "      <td>138.000000</td>\n",
       "    </tr>\n",
       "    <tr>\n",
       "      <th>max</th>\n",
       "      <td>8.800000</td>\n",
       "      <td>1609713.000000</td>\n",
       "      <td>100.000000</td>\n",
       "      <td>2.500000e+08</td>\n",
       "      <td>180.000000</td>\n",
       "    </tr>\n",
       "  </tbody>\n",
       "</table>\n",
       "</div>"
      ],
      "text/plain": [
       "           Rating      TotalVotes  MetaCritic        Budget     Runtime\n",
       "count  118.000000      118.000000  111.000000  1.170000e+02   97.000000\n",
       "mean     7.872881   372835.025424   77.819820  6.414458e+07  126.670103\n",
       "std      0.236665   263273.428691    8.817543  6.948701e+07   19.572367\n",
       "min      7.500000    26016.000000   62.000000  8.040000e+02   91.000000\n",
       "25%      7.700000   206593.750000   72.000000  1.300000e+07  113.000000\n",
       "50%      7.800000   333251.500000   78.000000  3.700000e+07  126.000000\n",
       "75%      8.000000   508417.500000   82.500000  1.000000e+08  138.000000\n",
       "max      8.800000  1609713.000000  100.000000  2.500000e+08  180.000000"
      ]
     },
     "execution_count": 23,
     "metadata": {},
     "output_type": "execute_result"
    }
   ],
   "source": [
    "# Briefly summarize the distribution of main attributes\n",
    "data.iloc[:,[0, 1, 2, 3, 6, 7, 8]].describe()"
   ]
  },
  {
   "cell_type": "markdown",
   "metadata": {},
   "source": [
    "As can be seen, the minimum budget is `804`, which is not that possible to happen."
   ]
  },
  {
   "cell_type": "markdown",
   "metadata": {},
   "source": [
    "###  <font color='#1A9FFF'>2. Check the Data</font>\n",
    "Check the data to see whether there is any wrong data in the dataset."
   ]
  },
  {
   "cell_type": "markdown",
   "metadata": {},
   "source": [
    "#### Unique Budget"
   ]
  },
  {
   "cell_type": "code",
   "execution_count": 24,
   "metadata": {},
   "outputs": [
    {
     "name": "stdout",
     "output_type": "stream",
     "text": [
      "Unique budget :\n",
      "\n",
      "[  8.04000000e+02   1.07390000e+04   1.86820000e+04   5.28430000e+04\n",
      "   5.62060000e+04   6.35730000e+04   7.72980000e+04   9.38240000e+04\n",
      "   1.28520000e+05   3.00000000e+06   3.30000000e+06   4.00000000e+06\n",
      "   4.90387100e+06   5.00000000e+06   6.00000000e+06   7.00000000e+06\n",
      "   8.00000000e+06   8.50000000e+06   8.90000000e+06   1.00000000e+07\n",
      "   1.20000000e+07   1.26083720e+07   1.30000000e+07   1.40000000e+07\n",
      "   1.50000000e+07   1.60000000e+07   1.70000000e+07   1.80000000e+07\n",
      "   1.90000000e+07   2.00000000e+07   2.10000000e+07   2.30000000e+07\n",
      "   2.50000000e+07   2.80000000e+07   3.00000000e+07   3.50000000e+07\n",
      "   3.70000000e+07   3.80000000e+07   4.00000000e+07   4.37323190e+07\n",
      "   4.45000000e+07   4.60000000e+07   4.70000000e+07   4.87670520e+07\n",
      "   4.94513220e+07   5.00000000e+07   5.48061910e+07   5.50000000e+07\n",
      "   5.62158890e+07   5.63971250e+07   5.66314010e+07   5.80000000e+07\n",
      "   6.00000000e+07   6.10000000e+07   6.80000000e+07   8.00000000e+07\n",
      "   8.10000000e+07   8.12000000e+07   9.00000000e+07   1.00000000e+08\n",
      "   1.08000000e+08   1.30000000e+08   1.35000000e+08   1.50000000e+08\n",
      "   1.60000000e+08   1.65000000e+08   1.70000000e+08   1.75000000e+08\n",
      "   1.78000000e+08   1.80000000e+08   1.90000000e+08   2.00000000e+08\n",
      "   2.20000000e+08   2.25000000e+08   2.45000000e+08   2.50000000e+08\n",
      "              nan]\n"
     ]
    }
   ],
   "source": [
    "# As we can see from the Brief Summary, the minimum budget in the movie list is 804, which is unusual. \n",
    "# We therefore check the budget first. Let's take a look of the unque budget.\n",
    "\n",
    "data_unique_budget = data['Budget'].unique()          # get unique budget in dataset -> return a numpy narray\n",
    "data_unique_budget.sort()                             # sorting on numpy array\n",
    "print \"Unique budget :\\n\\n\", data_unique_budget"
   ]
  },
  {
   "cell_type": "code",
   "execution_count": 25,
   "metadata": {},
   "outputs": [
    {
     "data": {
      "text/html": [
       "<div>\n",
       "<table border=\"1\" class=\"dataframe\">\n",
       "  <thead>\n",
       "    <tr style=\"text-align: right;\">\n",
       "      <th></th>\n",
       "      <th>Title</th>\n",
       "      <th>Rating</th>\n",
       "      <th>TotalVotes</th>\n",
       "      <th>Genre1</th>\n",
       "      <th>Genre2</th>\n",
       "      <th>Genre3</th>\n",
       "      <th>MetaCritic</th>\n",
       "      <th>Budget</th>\n",
       "      <th>Runtime</th>\n",
       "      <th>CVotes10</th>\n",
       "      <th>...</th>\n",
       "      <th>Votes3044</th>\n",
       "      <th>Votes3044M</th>\n",
       "      <th>Votes3044F</th>\n",
       "      <th>Votes45A</th>\n",
       "      <th>Votes45AM</th>\n",
       "      <th>Votes45AF</th>\n",
       "      <th>VotesIMDB</th>\n",
       "      <th>Votes1000</th>\n",
       "      <th>VotesUS</th>\n",
       "      <th>VotesnUS</th>\n",
       "    </tr>\n",
       "  </thead>\n",
       "  <tbody>\n",
       "    <tr>\n",
       "      <th>110</th>\n",
       "      <td>Tyrannosaur(2011)</td>\n",
       "      <td>7.6</td>\n",
       "      <td>26016</td>\n",
       "      <td>Drama</td>\n",
       "      <td>NaN</td>\n",
       "      <td>NaN</td>\n",
       "      <td>65</td>\n",
       "      <td>804</td>\n",
       "      <td>NaN</td>\n",
       "      <td>2060</td>\n",
       "      <td>...</td>\n",
       "      <td>7.5</td>\n",
       "      <td>7.6</td>\n",
       "      <td>7.5</td>\n",
       "      <td>7.5</td>\n",
       "      <td>7.4</td>\n",
       "      <td>5.8</td>\n",
       "      <td>6.5</td>\n",
       "      <td>7.4</td>\n",
       "      <td>7.6</td>\n",
       "      <td>NaN</td>\n",
       "    </tr>\n",
       "  </tbody>\n",
       "</table>\n",
       "<p>1 rows × 54 columns</p>\n",
       "</div>"
      ],
      "text/plain": [
       "                 Title  Rating  TotalVotes Genre1 Genre2 Genre3  MetaCritic  \\\n",
       "110  Tyrannosaur(2011)     7.6       26016  Drama    NaN    NaN          65   \n",
       "\n",
       "     Budget  Runtime  CVotes10    ...     Votes3044  Votes3044M  Votes3044F  \\\n",
       "110     804      NaN      2060    ...           7.5         7.6         7.5   \n",
       "\n",
       "     Votes45A  Votes45AM  Votes45AF  VotesIMDB  Votes1000  VotesUS  VotesnUS  \n",
       "110       7.5        7.4        5.8        6.5        7.4      7.6       NaN  \n",
       "\n",
       "[1 rows x 54 columns]"
      ]
     },
     "execution_count": 25,
     "metadata": {},
     "output_type": "execute_result"
    }
   ],
   "source": [
    "# Check the movies with budget lower than 10,000\n",
    "data[data['Budget'] < 10000]"
   ]
  },
  {
   "cell_type": "markdown",
   "metadata": {},
   "source": [
    "There are only one movies. In this case, it's not a big issue and we can safely removing them."
   ]
  },
  {
   "cell_type": "code",
   "execution_count": 26,
   "metadata": {
    "collapsed": true
   },
   "outputs": [],
   "source": [
    "# Remove the movies with budget lower than 10,000\n",
    "data = data[ data['Budget'] > 10000 ].copy()"
   ]
  },
  {
   "cell_type": "markdown",
   "metadata": {},
   "source": [
    "###  <font color='#1A9FFF'>3. Data Observation</font>"
   ]
  },
  {
   "cell_type": "markdown",
   "metadata": {},
   "source": [
    "#### Genre Summary"
   ]
  },
  {
   "cell_type": "code",
   "execution_count": 78,
   "metadata": {},
   "outputs": [
    {
     "name": "stdout",
     "output_type": "stream",
     "text": [
      "Genre Distribution :\n"
     ]
    },
    {
     "data": {
      "text/plain": [
       "Drama        76\n",
       "Adventure    43\n",
       "Action       33\n",
       "Comedy       30\n",
       "Biography    20\n",
       "Sci-Fi       18\n",
       "Thriller     14\n",
       "Romance      13\n",
       "Animation    13\n",
       "Crime        11\n",
       "Mystery       7\n",
       "Fantasy       7\n",
       "History       6\n",
       "Family        3\n",
       "War           3\n",
       "Music         3\n",
       "Sport         3\n",
       "Horror        2\n",
       "Western       2\n",
       "Musical       1\n",
       "dtype: float64"
      ]
     },
     "execution_count": 78,
     "metadata": {},
     "output_type": "execute_result"
    }
   ],
   "source": [
    "data_by_Genre1 = data.groupby('Genre1')  # group by Genre1\n",
    "data_by_Genre2 = data.groupby('Genre2')  # group by Genre2\n",
    "data_by_Genre3 = data.groupby('Genre3')  # group by Genre3\n",
    "\n",
    "\n",
    "# count the number of items in each group\n",
    "num_Genre1   = pd.Series(data_by_Genre1.size())\n",
    "num_Genre2   = pd.Series(data_by_Genre2.size())\n",
    "num_Genre3   = pd.Series(data_by_Genre3.size())\n",
    "\n",
    "num_allGenre = num_Genre1.add(num_Genre2, fill_value=0)\n",
    "num_allGenre = num_allGenre.add(num_Genre3, fill_value=0)\n",
    "\n",
    "print \"Genre Distribution :\" \n",
    "num_allGenre.sort_values(axis=0, ascending=False)"
   ]
  },
  {
   "cell_type": "markdown",
   "metadata": {},
   "source": [
    "**Observation:** Most of the movies in recent 10 years are Drama."
   ]
  },
  {
   "cell_type": "markdown",
   "metadata": {},
   "source": [
    "#### Rating Distribution"
   ]
  },
  {
   "cell_type": "code",
   "execution_count": 28,
   "metadata": {
    "raw_mimetype": "text/x-python"
   },
   "outputs": [
    {
     "name": "stdout",
     "output_type": "stream",
     "text": [
      "count    116.000000\n",
      "mean       7.875862\n",
      "std        0.237238\n",
      "min        7.500000\n",
      "25%        7.700000\n",
      "50%        7.800000\n",
      "75%        8.000000\n",
      "max        8.800000\n",
      "Name: Rating, dtype: float64\n"
     ]
    },
    {
     "data": {
      "text/plain": [
       "(7.5, 9.8000000000000007)"
      ]
     },
     "execution_count": 28,
     "metadata": {},
     "output_type": "execute_result"
    },
    {
     "data": {
      "image/png": "[encoded data removed]",
      "text/plain": [
       "<matplotlib.figure.Figure at 0x106125d50>"
      ]
     },
     "metadata": {},
     "output_type": "display_data"
    }
   ],
   "source": [
    "print data['Rating'].describe()\n",
    "\n",
    "rating = data['Rating']\n",
    "rating_max = rating.max()\n",
    "rating_min = rating.min()\n",
    "rating_range = rating_max - rating_min\n",
    "\n",
    "\n",
    "# show result\n",
    "rating.plot.hist(bins=int(rating_range/0.1), alpha=0.5)\n",
    "plt.xlim([rating_min, rating_max+1])"
   ]
  },
  {
   "cell_type": "markdown",
   "metadata": {},
   "source": [
    "**Observation:** Most of the movie are rated between 7.6 and 8.2."
   ]
  },
  {
   "cell_type": "markdown",
   "metadata": {},
   "source": [
    "#### Budget Distribution"
   ]
  },
  {
   "cell_type": "code",
   "execution_count": 29,
   "metadata": {},
   "outputs": [
    {
     "name": "stdout",
     "output_type": "stream",
     "text": [
      "count    1.160000e+02\n",
      "mean     6.469755e+07\n",
      "std      6.952945e+07\n",
      "min      1.073900e+04\n",
      "25%      1.300000e+07\n",
      "50%      3.750000e+07\n",
      "75%      1.000000e+08\n",
      "max      2.500000e+08\n",
      "Name: Budget, dtype: float64\n"
     ]
    },
    {
     "data": {
      "text/plain": [
       "(10739.0, 250000001.0)"
      ]
     },
     "execution_count": 29,
     "metadata": {},
     "output_type": "execute_result"
    },
    {
     "data": {
      "image/png": "[encoded data removed]",
      "text/plain": [
       "<matplotlib.figure.Figure at 0x10d0483d0>"
      ]
     },
     "metadata": {},
     "output_type": "display_data"
    }
   ],
   "source": [
    "print data['Budget'].describe()\n",
    "\n",
    "budget = data['Budget']\n",
    "budget_max = budget.max()\n",
    "budget_min = budget.min()\n",
    "budget_range = budget_max - budget_min\n",
    "\n",
    "\n",
    "# show result\n",
    "budget.plot.hist(bins=10, alpha=0.5)\n",
    "plt.xlim([budget_min, budget_max+1])"
   ]
  },
  {
   "cell_type": "markdown",
   "metadata": {},
   "source": [
    "#### Runtime Distribution"
   ]
  },
  {
   "cell_type": "code",
   "execution_count": 30,
   "metadata": {},
   "outputs": [
    {
     "name": "stdout",
     "output_type": "stream",
     "text": [
      "count     97.000000\n",
      "mean     126.670103\n",
      "std       19.572367\n",
      "min       91.000000\n",
      "25%      113.000000\n",
      "50%      126.000000\n",
      "75%      138.000000\n",
      "max      180.000000\n",
      "Name: Runtime, dtype: float64\n"
     ]
    },
    {
     "data": {
      "text/plain": [
       "(91.0, 181.0)"
      ]
     },
     "execution_count": 30,
     "metadata": {},
     "output_type": "execute_result"
    },
    {
     "data": {
      "image/png": "[encoded data removed]",
      "text/plain": [
       "<matplotlib.figure.Figure at 0x10d232090>"
      ]
     },
     "metadata": {},
     "output_type": "display_data"
    }
   ],
   "source": [
    "print data['Runtime'].describe()\n",
    "\n",
    "runtime = data['Runtime']\n",
    "runtime_max = runtime.max()\n",
    "runtime_min = runtime.min()\n",
    "runtime_range = runtime_max - runtime_min\n",
    "\n",
    "\n",
    "# show result\n",
    "runtime.plot.hist(bins=10, alpha=0.5)\n",
    "plt.xlim([runtime_min, runtime_max+1])"
   ]
  },
  {
   "cell_type": "markdown",
   "metadata": {},
   "source": [
    "###  <font color='#1A9FFF'>4. Exploratory Data Analysis</font>"
   ]
  },
  {
   "cell_type": "markdown",
   "metadata": {},
   "source": [
    "#### Quantify Rating\n",
    "\n",
    "Separate rating into 3 groups, HighRate, MidRate, and LowRate."
   ]
  },
  {
   "cell_type": "code",
   "execution_count": 31,
   "metadata": {},
   "outputs": [
    {
     "name": "stdout",
     "output_type": "stream",
     "text": [
      "Size of each rating range : Rating\n",
      "(7, 7.66]       21\n",
      "(7.66, 8.33]    90\n",
      "(8.33, 9]        5\n",
      "dtype: int64\n"
     ]
    },
    {
     "data": {
      "image/png": "[encoded data removed]",
      "text/plain": [
       "<matplotlib.figure.Figure at 0x10d1ba210>"
      ]
     },
     "metadata": {},
     "output_type": "display_data"
    }
   ],
   "source": [
    "# define rating ranges\n",
    "rating_cut = pd.cut(data['Rating'], [7.0, 7.66, 8.33, 9.0])\n",
    "\n",
    "# groupby pre-defined rating ranges (HighRate, MidRate, LowRate)\n",
    "data_ratingIn3 = data.groupby(rating_cut)\n",
    "size_dataRin3  = data_ratingIn3.size()\n",
    "\n",
    "# check size of each group\n",
    "print \"Size of each rating range :\", size_dataRin3\n",
    "\n",
    "\n",
    "# show result\n",
    "size_dataRin3.plot.bar(alpha=0.5)\n",
    "plt.xlabel('Rating')\n",
    "plt.ylabel('Count')\n",
    "plt.ylim([0, 100])\n",
    "plt.grid()"
   ]
  },
  {
   "cell_type": "markdown",
   "metadata": {},
   "source": [
    "**Observation:** Most of the rating locate at MidRate range."
   ]
  },
  {
   "cell_type": "markdown",
   "metadata": {},
   "source": [
    "#### Rating - Budget"
   ]
  },
  {
   "cell_type": "code",
   "execution_count": 32,
   "metadata": {},
   "outputs": [
    {
     "data": {
      "image/png": "[encoded data removed]",
      "text/plain": [
       "<matplotlib.figure.Figure at 0x10d362dd0>"
      ]
     },
     "metadata": {},
     "output_type": "display_data"
    }
   ],
   "source": [
    "# average rating \n",
    "aveBudget_rating = data_ratingIn3['Budget'].mean()\n",
    "\n",
    "\n",
    "# show result\n",
    "aveBudget_rating.plot.bar(alpha=0.5)\n",
    "plt.xlabel('Rating')\n",
    "plt.ylabel('Budget')\n",
    "plt.grid()"
   ]
  },
  {
   "cell_type": "code",
   "execution_count": 77,
   "metadata": {},
   "outputs": [
    {
     "data": {
      "image/png": "[encoded data removed]",
      "text/plain": [
       "<matplotlib.figure.Figure at 0x10e847d90>"
      ]
     },
     "metadata": {},
     "output_type": "display_data"
    }
   ],
   "source": [
    "# define budget ranges\n",
    "budget_cut = pd.cut(data['Budget'], list(np.linspace(10739, 250000000, num=6)))\n",
    "\n",
    "# average rating \n",
    "data_by_budget = data.groupby(budget_cut)  # group by Budget\n",
    "aveBudget_rating = data_by_budget['Rating'].mean()\n",
    "\n",
    "\n",
    "# show result\n",
    "aveBudget_rating.plot.bar(alpha=0.5)\n",
    "plt.xlabel('Budget')\n",
    "plt.ylabel('Rating')\n",
    "plt.ylim([7.8, 8.1])\n",
    "plt.grid()"
   ]
  },
  {
   "cell_type": "markdown",
   "metadata": {},
   "source": [
    "**Observation:** High rating movies take higher budget than other rating movies. High budget seems the gurantee of high rating movies."
   ]
  },
  {
   "cell_type": "markdown",
   "metadata": {},
   "source": [
    "#### Rating - Genre"
   ]
  },
  {
   "cell_type": "code",
   "execution_count": 1,
   "metadata": {},
   "outputs": [
    {
     "ename": "NameError",
     "evalue": "name 'data' is not defined",
     "output_type": "error",
     "traceback": [
      "\u001b[0;31m---------------------------------------------------------------------------\u001b[0m",
      "\u001b[0;31mNameError\u001b[0m                                 Traceback (most recent call last)",
      "\u001b[0;32m<ipython-input-1-c950457362c5>\u001b[0m in \u001b[0;36m<module>\u001b[0;34m()\u001b[0m\n\u001b[0;32m----> 1\u001b[0;31m \u001b[0mdata_by_Genre1\u001b[0m \u001b[0;34m=\u001b[0m \u001b[0mdata\u001b[0m\u001b[0;34m.\u001b[0m\u001b[0mgroupby\u001b[0m\u001b[0;34m(\u001b[0m\u001b[0;34m'Genre1'\u001b[0m\u001b[0;34m)\u001b[0m  \u001b[0;31m# group by Genre1\u001b[0m\u001b[0;34m\u001b[0m\u001b[0m\n\u001b[0m\u001b[1;32m      2\u001b[0m \u001b[0mdata_by_Genre2\u001b[0m \u001b[0;34m=\u001b[0m \u001b[0mdata\u001b[0m\u001b[0;34m.\u001b[0m\u001b[0mgroupby\u001b[0m\u001b[0;34m(\u001b[0m\u001b[0;34m'Genre2'\u001b[0m\u001b[0;34m)\u001b[0m  \u001b[0;31m# group by Genre2\u001b[0m\u001b[0;34m\u001b[0m\u001b[0m\n\u001b[1;32m      3\u001b[0m \u001b[0mdata_by_Genre3\u001b[0m \u001b[0;34m=\u001b[0m \u001b[0mdata\u001b[0m\u001b[0;34m.\u001b[0m\u001b[0mgroupby\u001b[0m\u001b[0;34m(\u001b[0m\u001b[0;34m'Genre3'\u001b[0m\u001b[0;34m)\u001b[0m  \u001b[0;31m# group by Genre3\u001b[0m\u001b[0;34m\u001b[0m\u001b[0m\n\u001b[1;32m      4\u001b[0m \u001b[0;34m\u001b[0m\u001b[0m\n\u001b[1;32m      5\u001b[0m \u001b[0;34m\u001b[0m\u001b[0m\n",
      "\u001b[0;31mNameError\u001b[0m: name 'data' is not defined"
     ]
    }
   ],
   "source": [
    "data_by_Genre1 = data.groupby('Genre1')  # group by Genre1\n",
    "data_by_Genre2 = data.groupby('Genre2')  # group by Genre2\n",
    "data_by_Genre3 = data.groupby('Genre3')  # group by Genre3\n",
    "\n",
    "\n",
    "# average rating in each group\n",
    "rating_Genre1 = pd.DataFrame(data_by_Genre1['Rating'].sum())\n",
    "rating_Genre2 = pd.DataFrame(data_by_Genre2['Rating'].sum())\n",
    "rating_Genre3 = pd.DataFrame(data_by_Genre3['Rating'].sum())\n",
    "rating_all = pd.concat([rating_Genre1, rating_Genre2, rating_Genre3], axis=1)\n",
    "\n",
    "sumRating_genre = rating_all.sum(axis=1, skipna=True)\n",
    "aveRating_genre = sumRating_genre/num_allGenre\n",
    "\n",
    "\n",
    "# show result\n",
    "aveRating_genre.plot.bar(alpha=0.5)\n",
    "plt.xlabel('Genre')\n",
    "plt.ylabel('Average Rating')\n",
    "plt.ylim([7.5, 8.5])\n",
    "plt.grid()"
   ]
  },
  {
   "cell_type": "code",
   "execution_count": 75,
   "metadata": {},
   "outputs": [
    {
     "data": {
      "image/png": "[encoded data removed]",
      "text/plain": [
       "<matplotlib.figure.Figure at 0x10e279350>"
      ]
     },
     "metadata": {},
     "output_type": "display_data"
    }
   ],
   "source": [
    "# check average voting number of each genre\n",
    "sumVoteM_Genre1   = pd.DataFrame(data_by_Genre1['CVotesMale'].sum())\n",
    "sumVoteM_Genre2   = pd.DataFrame(data_by_Genre2['CVotesMale'].sum())\n",
    "sumVoteM_Genre3   = pd.DataFrame(data_by_Genre3['CVotesMale'].sum())\n",
    "sumVoteM_all   = pd.concat([sumVoteM_Genre1, sumVoteM_Genre2, sumVoteM_Genre3], axis=1)\n",
    "sumVoteM_genre = sumVoteM_all.sum(axis=1, skipna=True)\n",
    "aveVoteM_genre = sumVoteM_genre/num_allGenre\n",
    "\n",
    "sumVoteF_Genre1   = pd.DataFrame(data_by_Genre1['CVotesFemale'].sum())\n",
    "sumVoteF_Genre2   = pd.DataFrame(data_by_Genre2['CVotesFemale'].sum())\n",
    "sumVoteF_Genre3   = pd.DataFrame(data_by_Genre3['CVotesFemale'].sum())\n",
    "sumVoteF_all   = pd.concat([sumVoteF_Genre1, sumVoteF_Genre2, sumVoteF_Genre3], axis=1)\n",
    "sumVoteF_genre = sumVoteF_all.sum(axis=1, skipna=True)\n",
    "aveVoteF_genre = sumVoteF_genre/num_allGenre\n",
    "\n",
    "aveVote_genre = (aveVoteM_genre + aveVoteF_genre)/2\n",
    "\n",
    "\n",
    "# show result\n",
    "aveVote_genre.plot.bar(color='g', alpha=0.5)\n",
    "plt.xlabel('Genre')\n",
    "plt.ylabel('Average Voting Count')\n",
    "plt.grid()"
   ]
  },
  {
   "cell_type": "markdown",
   "metadata": {},
   "source": [
    "**Observation:** Music genre movies have the highest rating."
   ]
  },
  {
   "cell_type": "markdown",
   "metadata": {},
   "source": [
    "#### Rating - Gender"
   ]
  },
  {
   "cell_type": "code",
   "execution_count": 71,
   "metadata": {},
   "outputs": [
    {
     "data": {
      "image/png": "[encoded data removed]",
      "text/plain": [
       "<matplotlib.figure.Figure at 0x10d13ee50>"
      ]
     },
     "metadata": {},
     "output_type": "display_data"
    }
   ],
   "source": [
    "# average rating \n",
    "aveMRate_rating = data_ratingIn3['VotesM'].mean()\n",
    "aveFRate_rating = data_ratingIn3['VotesF'].mean()\n",
    "aveRate_all = pd.concat([aveMRate_rating, aveFRate_rating], axis=1)\n",
    "\n",
    "\n",
    "# show result\n",
    "aveRate_all.plot.bar(y = ['VotesM', 'VotesF'], alpha=0.4)\n",
    "plt.xlabel('Rating')\n",
    "plt.ylabel('Average Rating from Male')\n",
    "plt.legend(['Male', 'Female'])\n",
    "plt.ylim([7.5, 8.9])\n",
    "plt.grid()"
   ]
  },
  {
   "cell_type": "markdown",
   "metadata": {},
   "source": [
    "**Observation:** There is no obvious relation between rating and gender."
   ]
  },
  {
   "cell_type": "markdown",
   "metadata": {},
   "source": [
    "#### Genre - Gender"
   ]
  },
  {
   "cell_type": "code",
   "execution_count": 74,
   "metadata": {},
   "outputs": [
    {
     "data": {
      "image/png": "[encoded data removed]",
      "text/plain": [
       "<matplotlib.figure.Figure at 0x10e8adb10>"
      ]
     },
     "metadata": {},
     "output_type": "display_data"
    }
   ],
   "source": [
    "# average rating in each group\n",
    "maleVote_Genre1 = pd.DataFrame(data_by_Genre1['VotesM'].sum())\n",
    "maleVote_Genre2 = pd.DataFrame(data_by_Genre2['VotesM'].sum())\n",
    "maleVote_Genre3 = pd.DataFrame(data_by_Genre3['VotesM'].sum())\n",
    "maleVote_all = pd.concat([maleVote_Genre1,   maleVote_Genre2,   maleVote_Genre3], axis=1)\n",
    "\n",
    "femaleVote_Genre1 = pd.DataFrame(data_by_Genre1['VotesF'].sum())\n",
    "femaleVote_Genre2 = pd.DataFrame(data_by_Genre2['VotesF'].sum())\n",
    "femaleVote_Genre3 = pd.DataFrame(data_by_Genre3['VotesF'].sum())\n",
    "femaleVote_all = pd.concat([femaleVote_Genre1, femaleVote_Genre2, femaleVote_Genre3], axis=1)\n",
    "\n",
    "aveRatingM_genre = maleVote_all.sum(axis=1, skipna=True) / num_allGenre\n",
    "aveRatingF_genre = femaleVote_all.sum(axis=1, skipna=True) / num_allGenre\n",
    "\n",
    "\n",
    "# normalization\n",
    "aveRatingM_genre = (aveRatingM_genre-aveRatingM_genre.min())/(aveRatingM_genre.max()-aveRatingM_genre.min())\n",
    "aveRatingF_genre = (aveRatingF_genre-aveRatingF_genre.min())/(aveRatingF_genre.max()-aveRatingF_genre.min())\n",
    "\n",
    "\n",
    "# show result\n",
    "aveRatingM_genre.plot.bar(color='b',alpha=0.4)\n",
    "aveRatingF_genre.plot.bar(color='r',alpha=0.4)\n",
    "plt.xlabel('Genre')\n",
    "plt.ylabel('Average Rating')\n",
    "plt.legend(['Male', 'Female'])\n",
    "plt.ylim([0, 1.01])\n",
    "plt.grid()"
   ]
  },
  {
   "cell_type": "markdown",
   "metadata": {},
   "source": [
    "**Observation:** The female like movie from genres such as Animation, Family, Fantasy, Musical, and it seems that the female prefer Horror movie much harder than male. Interesting."
   ]
  },
  {
   "cell_type": "markdown",
   "metadata": {},
   "source": [
    "### Actionable Insights\n",
    "1. Higher budget may cause higher movie rating\n",
    "2. Increase the number of opposite gender factors to increase the variation of audience\n",
    "3. When we consider the popularity of a movie, the size and taste of its audience should be also taken into consideration.\n",
    "\n",
    "The size of this dataset is not large enough and some of the conclusion maybe a little biased."
   ]
  }
 ],
 "metadata": {
  "anaconda-cloud": {},
  "celltoolbar": "Raw Cell Format",
  "kernelspec": {
   "display_name": "Python 2",
   "language": "python",
   "name": "python2"
  },
  "language_info": {
   "codemirror_mode": {
    "name": "ipython",
    "version": 2
   },
   "file_extension": ".py",
   "mimetype": "text/x-python",
   "name": "python",
   "nbconvert_exporter": "python",
   "pygments_lexer": "ipython2",
   "version": "2.7.13"
  }
 },
 "nbformat": 4,
 "nbformat_minor": 2
}
