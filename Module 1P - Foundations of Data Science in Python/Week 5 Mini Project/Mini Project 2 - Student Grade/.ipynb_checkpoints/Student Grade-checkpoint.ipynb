{
 "cells": [
  {
   "cell_type": "markdown",
   "metadata": {},
   "source": [
    "# Week 5 - Mini-Project"
   ]
  },
  {
   "cell_type": "markdown",
   "metadata": {},
   "source": [
    "## <font color='#1A9FFF'>Case study: Student Alcohol Consumption</font>\n",
    "\n",
    "This dataset is a survey obtained of students math and portuguese language courses in secondary school. It contains a lot of interesting social, gender and study information about students. From this dataset, we can find some relationship of certain information with their final grades.\n",
    "\n",
    "**Data dictionary**\n",
    "\n",
    "|# | Attribute   |   Description                                                                     |\n",
    "|::|:------------|:----------------------------------------------------------------------------------|\n",
    "|0 |school       | student's school (binary: 'GP' - Gabriel Pereira or 'MS' - Mousinho da Silveira)  |\n",
    "|1 |sex          | student's sex (binary: 'F' - female or 'M' - male)                                |\n",
    "|2 |age          | student's age (numeric: from 15 to 22)                                            |\n",
    "|3 |address      | student's home address type (binary: 'U' - urban or 'R' - rural)                  |\n",
    "|4 |famsize      | family size (binary: 'LE3' - less or equal to 3 or 'GT3' - greater than 3)        |\n",
    "|5 |Pstatus      | parent's cohabitation status (binary: 'T' - living together or 'A' - apart)       |\n",
    "|6 |Medu         | mother's education (numeric: 0 - none, 1 - primary education (4th grade), 2 – 5th to 9th grade, 3 –<br> secondary education or 4 – higher education)                                                   |\n",
    "|7 |Fedu         | father's education (numeric: 0 - none, 1 - primary education (4th grade), 2 – 5th to 9th grade, 3 <br>– secondary education or 4 – higher education)                                                   |\n",
    "|8 |Mjob         | mother's job (nominal: 'teacher', 'health' care related, civil 'services' (e.g. administrative or<br> police), 'at_home' or 'other')                                                                |\n",
    "|9 |Fjob         | father's job (nominal: 'teacher', 'health' care related, civil 'services' (e.g. administrative or<br> police), 'at_home' or 'other')                                                                |\n",
    "|10|reason       | reason to choose this school (nominal: close to 'home', school 'reputation', 'course' preference<br> or 'other')                                                                                          |\n",
    "|11|guardian     | student's guardian (nominal: 'mother', 'father' or 'other')                       |\n",
    "|12|traveltime   | home to school travel time (numeric: 1 - <15 min., 2 - 15 to 30 min., 3 - 30 min. to 1 hour, or 4 <br>- >1 hour)                                                                                       |\n",
    "|13|studytime    | weekly study time (numeric: 1 - <2 hours, 2 - 2 to 5 hours, 3 - 5 to 10 hours, or 4 - >10 hours)|\n",
    "|14|failures     | number of past class failures (numeric: n if 1<=n<3, else 4)                      |\n",
    "|15|schoolsup    | extra educational support (binary: yes or no)                                     |\n",
    "|16|famsup       | family educational support (binary: yes or no)                                    | \n",
    "|17|paid         | extra paid classes within the course subject (Math or Portuguese) (binary: yes or no)| \n",
    "|18|activities   | extra-curricular activities (binary: yes or no)                                   |\n",
    "|19|nursery      | attended nursery school (binary: yes or no)                                       |   \n",
    "|20|higher       | wants to take higher education (binary: yes or no)                                |\n",
    "|21|internet     | Internet access at home (binary: yes or no)                                       |\n",
    "|22|romantic     | with a romantic relationship (binary: yes or no)                                  |\n",
    "|23|famrel       | quality of family relationships (numeric: from 1 - very bad to 5 - excellent)     |\n",
    "|24|freetime     | free time after school (numeric: from 1 - very low to 5 - very high)              |\n",
    "|25|goout        | going out with friends (numeric: from 1 - very low to 5 - very high)              |\n",
    "|26|Dalc         | workday alcohol consumption (numeric: from 1 - very low to 5 - very high)         |\n",
    "|27|Walc         | weekend alcohol consumption (numeric: from 1 - very low to 5 - very high)         |\n",
    "|28|health       | current health status (numeric: from 1 - very bad to 5 - very good)               |\n",
    "|29|absences     | number of school absences (numeric: from 0 to 93)                                 |\n",
    "\n",
    "\n",
    "These grades are related with the course subject, Math or Portuguese:\n",
    "1.\tG1 - first period grade (numeric: from 0 to 20)\n",
    "2.\tG2 - second period grade (numeric: from 0 to 20)\n",
    "3.\tG3 - final grade (numeric: from 0 to 20, output target)\n",
    "\n",
    "\n",
    "**The project aims to:**\n",
    "* Analyse the grade distribution for Math and Portuguese courses in this secondary school\n",
    "* Analyse and point out the different factors that may have affected the final grade (G3) of student for Math course"
   ]
  },
  {
   "cell_type": "markdown",
   "metadata": {},
   "source": [
    "## <font color='#1A9FFF'>Sample Solution</font>\n",
    "#### Import Libraries and Dataset"
   ]
  },
  {
   "cell_type": "code",
   "execution_count": 73,
   "metadata": {
    "collapsed": true
   },
   "outputs": [],
   "source": [
    "import numpy  as np\n",
    "import pandas as pd              # import pandas for data wrangling\n",
    "import matplotlib.pyplot as plt  # import matplotlib for ploting\n",
    "%matplotlib inline\n",
    "\n",
    "\n",
    "# read data for math courses\n",
    "mat_score = pd.read_csv('Student Grade/student-mat.csv')   # read data\n",
    "\n",
    "# read data for Portuguese courses\n",
    "por_score = pd.read_csv('Student Grade/student-por.csv')   # read data"
   ]
  },
  {
   "cell_type": "markdown",
   "metadata": {},
   "source": [
    "###  <font color='#1A9FFF'>1. Brief Summary of Dataset</font>\n",
    "After reading in the data, we first do some simple exploration, check available columns, data structure, and data summary.\n",
    "\n",
    "#### Check the size of the dataset"
   ]
  },
  {
   "cell_type": "code",
   "execution_count": 74,
   "metadata": {},
   "outputs": [
    {
     "name": "stdout",
     "output_type": "stream",
     "text": [
      "The size of the Math dataset : (395, 33)\n",
      "The size of the Portuguese dataset : (649, 33)\n"
     ]
    }
   ],
   "source": [
    "# Check the size of the two datasets\n",
    "print \"The size of the Math dataset :\",       mat_score.shape\n",
    "print \"The size of the Portuguese dataset :\", por_score.shape"
   ]
  },
  {
   "cell_type": "markdown",
   "metadata": {},
   "source": [
    "As we can see, there are `395` and `649` students recored in these two datasets, and each student has `33` attributes"
   ]
  },
  {
   "cell_type": "markdown",
   "metadata": {},
   "source": [
    "#### Check the data structure "
   ]
  },
  {
   "cell_type": "code",
   "execution_count": 75,
   "metadata": {},
   "outputs": [
    {
     "name": "stdout",
     "output_type": "stream",
     "text": [
      "Data structure - Math :\n",
      "\n",
      "<class 'pandas.core.frame.DataFrame'>\n",
      "Int64Index: 395 entries, 0 to 394\n",
      "Data columns (total 33 columns):\n",
      "school        395 non-null object\n",
      "sex           395 non-null object\n",
      "age           395 non-null int64\n",
      "address       395 non-null object\n",
      "famsize       395 non-null object\n",
      "Pstatus       395 non-null object\n",
      "Medu          395 non-null int64\n",
      "Fedu          395 non-null int64\n",
      "Mjob          395 non-null object\n",
      "Fjob          395 non-null object\n",
      "reason        395 non-null object\n",
      "guardian      395 non-null object\n",
      "traveltime    395 non-null int64\n",
      "studytime     395 non-null int64\n",
      "failures      395 non-null int64\n",
      "schoolsup     395 non-null object\n",
      "famsup        395 non-null object\n",
      "paid          395 non-null object\n",
      "activities    395 non-null object\n",
      "nursery       395 non-null object\n",
      "higher        395 non-null object\n",
      "internet      395 non-null object\n",
      "romantic      395 non-null object\n",
      "famrel        395 non-null int64\n",
      "freetime      395 non-null int64\n",
      "goout         395 non-null int64\n",
      "Dalc          395 non-null int64\n",
      "Walc          395 non-null int64\n",
      "health        395 non-null int64\n",
      "absences      395 non-null int64\n",
      "G1            395 non-null int64\n",
      "G2            395 non-null int64\n",
      "G3            395 non-null int64\n",
      "dtypes: int64(16), object(17)\n",
      "memory usage: 104.9+ KB\n",
      "None\n",
      "\n",
      "\n",
      "\n",
      "Data structure - Portuguese :\n",
      "\n",
      "<class 'pandas.core.frame.DataFrame'>\n",
      "Int64Index: 649 entries, 0 to 648\n",
      "Data columns (total 33 columns):\n",
      "school        649 non-null object\n",
      "sex           649 non-null object\n",
      "age           649 non-null int64\n",
      "address       649 non-null object\n",
      "famsize       649 non-null object\n",
      "Pstatus       649 non-null object\n",
      "Medu          649 non-null int64\n",
      "Fedu          649 non-null int64\n",
      "Mjob          649 non-null object\n",
      "Fjob          649 non-null object\n",
      "reason        649 non-null object\n",
      "guardian      649 non-null object\n",
      "traveltime    649 non-null int64\n",
      "studytime     649 non-null int64\n",
      "failures      649 non-null int64\n",
      "schoolsup     649 non-null object\n",
      "famsup        649 non-null object\n",
      "paid          649 non-null object\n",
      "activities    649 non-null object\n",
      "nursery       649 non-null object\n",
      "higher        649 non-null object\n",
      "internet      649 non-null object\n",
      "romantic      649 non-null object\n",
      "famrel        649 non-null int64\n",
      "freetime      649 non-null int64\n",
      "goout         649 non-null int64\n",
      "Dalc          649 non-null int64\n",
      "Walc          649 non-null int64\n",
      "health        649 non-null int64\n",
      "absences      649 non-null int64\n",
      "G1            649 non-null int64\n",
      "G2            649 non-null int64\n",
      "G3            649 non-null int64\n",
      "dtypes: int64(16), object(17)\n",
      "memory usage: 172.4+ KB\n",
      "None\n"
     ]
    }
   ],
   "source": [
    "# Check the data structure\n",
    "print \"Data structure - Math :\\n\\n\",       mat_score.info()\n",
    "print \"\\n\\n\"\n",
    "print \"Data structure - Portuguese :\\n\\n\", por_score.info()"
   ]
  },
  {
   "cell_type": "markdown",
   "metadata": {},
   "source": [
    "From the dataset check we can see that, there is no missing data in the involved datasets."
   ]
  },
  {
   "cell_type": "markdown",
   "metadata": {},
   "source": [
    "#### Check main attributes"
   ]
  },
  {
   "cell_type": "code",
   "execution_count": 76,
   "metadata": {},
   "outputs": [
    {
     "name": "stdout",
     "output_type": "stream",
     "text": [
      "Brief data check (Math):\n",
      "\n",
      "   Dalc  Walc  health  G1  G2  G3\n",
      "0     1     1       3   5   6   6\n",
      "1     1     1       3   5   5   6\n",
      "2     2     3       3   7   8  10\n",
      "3     1     1       5  15  14  15\n",
      "4     1     2       5   6  10  10\n",
      "5     1     2       5  15  15  15\n",
      "6     1     1       3  12  12  11\n",
      "7     1     1       1   6   5   6\n",
      "8     1     1       1  16  18  19\n",
      "9     1     1       5  14  15  15\n",
      "\n",
      "\n",
      "\n",
      "Brief data check (Portuguese):\n",
      "\n",
      "   Dalc  Walc  health  G1  G2  G3\n",
      "0     1     1       3   0  11  11\n",
      "1     1     1       3   9  11  11\n",
      "2     2     3       3  12  13  12\n",
      "3     1     1       5  14  14  14\n",
      "4     1     2       5  11  13  13\n",
      "5     1     2       5  12  12  13\n",
      "6     1     1       3  13  12  13\n",
      "7     1     1       1  10  13  13\n",
      "8     1     1       1  15  16  17\n",
      "9     1     1       5  12  12  13\n"
     ]
    }
   ],
   "source": [
    "# Check the main attributes of the first 10 students\n",
    "# The main attribute are Dalc(26), Walc(27), health(28), G1(30), G2(31), G3(32)\n",
    "\n",
    "mat_score_head10 = mat_score.head(10)\n",
    "por_score_head10 = por_score.head(10)\n",
    "\n",
    "print \"Brief data check (Math):\\n\\n\",       mat_score_head10.iloc[:,[26, 27, 28, 30, 31, 32]]\n",
    "print \"\\n\\n\"\n",
    "print \"Brief data check (Portuguese):\\n\\n\", por_score_head10.iloc[:,[26, 27, 28, 30, 31, 32]]"
   ]
  },
  {
   "cell_type": "markdown",
   "metadata": {},
   "source": [
    "#### Brief Summary"
   ]
  },
  {
   "cell_type": "code",
   "execution_count": 77,
   "metadata": {},
   "outputs": [
    {
     "data": {
      "text/html": [
       "<div>\n",
       "<table border=\"1\" class=\"dataframe\">\n",
       "  <thead>\n",
       "    <tr style=\"text-align: right;\">\n",
       "      <th></th>\n",
       "      <th>Dalc</th>\n",
       "      <th>Walc</th>\n",
       "      <th>health</th>\n",
       "      <th>G1</th>\n",
       "      <th>G2</th>\n",
       "      <th>G3</th>\n",
       "    </tr>\n",
       "  </thead>\n",
       "  <tbody>\n",
       "    <tr>\n",
       "      <th>count</th>\n",
       "      <td>395.000000</td>\n",
       "      <td>395.000000</td>\n",
       "      <td>395.000000</td>\n",
       "      <td>395.000000</td>\n",
       "      <td>395.000000</td>\n",
       "      <td>395.000000</td>\n",
       "    </tr>\n",
       "    <tr>\n",
       "      <th>mean</th>\n",
       "      <td>1.481013</td>\n",
       "      <td>2.291139</td>\n",
       "      <td>3.554430</td>\n",
       "      <td>10.908861</td>\n",
       "      <td>10.713924</td>\n",
       "      <td>10.415190</td>\n",
       "    </tr>\n",
       "    <tr>\n",
       "      <th>std</th>\n",
       "      <td>0.890741</td>\n",
       "      <td>1.287897</td>\n",
       "      <td>1.390303</td>\n",
       "      <td>3.319195</td>\n",
       "      <td>3.761505</td>\n",
       "      <td>4.581443</td>\n",
       "    </tr>\n",
       "    <tr>\n",
       "      <th>min</th>\n",
       "      <td>1.000000</td>\n",
       "      <td>1.000000</td>\n",
       "      <td>1.000000</td>\n",
       "      <td>3.000000</td>\n",
       "      <td>0.000000</td>\n",
       "      <td>0.000000</td>\n",
       "    </tr>\n",
       "    <tr>\n",
       "      <th>25%</th>\n",
       "      <td>1.000000</td>\n",
       "      <td>1.000000</td>\n",
       "      <td>3.000000</td>\n",
       "      <td>8.000000</td>\n",
       "      <td>9.000000</td>\n",
       "      <td>8.000000</td>\n",
       "    </tr>\n",
       "    <tr>\n",
       "      <th>50%</th>\n",
       "      <td>1.000000</td>\n",
       "      <td>2.000000</td>\n",
       "      <td>4.000000</td>\n",
       "      <td>11.000000</td>\n",
       "      <td>11.000000</td>\n",
       "      <td>11.000000</td>\n",
       "    </tr>\n",
       "    <tr>\n",
       "      <th>75%</th>\n",
       "      <td>2.000000</td>\n",
       "      <td>3.000000</td>\n",
       "      <td>5.000000</td>\n",
       "      <td>13.000000</td>\n",
       "      <td>13.000000</td>\n",
       "      <td>14.000000</td>\n",
       "    </tr>\n",
       "    <tr>\n",
       "      <th>max</th>\n",
       "      <td>5.000000</td>\n",
       "      <td>5.000000</td>\n",
       "      <td>5.000000</td>\n",
       "      <td>19.000000</td>\n",
       "      <td>19.000000</td>\n",
       "      <td>20.000000</td>\n",
       "    </tr>\n",
       "  </tbody>\n",
       "</table>\n",
       "</div>"
      ],
      "text/plain": [
       "             Dalc        Walc      health          G1          G2          G3\n",
       "count  395.000000  395.000000  395.000000  395.000000  395.000000  395.000000\n",
       "mean     1.481013    2.291139    3.554430   10.908861   10.713924   10.415190\n",
       "std      0.890741    1.287897    1.390303    3.319195    3.761505    4.581443\n",
       "min      1.000000    1.000000    1.000000    3.000000    0.000000    0.000000\n",
       "25%      1.000000    1.000000    3.000000    8.000000    9.000000    8.000000\n",
       "50%      1.000000    2.000000    4.000000   11.000000   11.000000   11.000000\n",
       "75%      2.000000    3.000000    5.000000   13.000000   13.000000   14.000000\n",
       "max      5.000000    5.000000    5.000000   19.000000   19.000000   20.000000"
      ]
     },
     "execution_count": 77,
     "metadata": {},
     "output_type": "execute_result"
    }
   ],
   "source": [
    "# Briefly summarize the distribution of main attributes\n",
    "mat_score.iloc[:,[26, 27, 28, 30, 31, 32]].describe() # Math"
   ]
  },
  {
   "cell_type": "code",
   "execution_count": 78,
   "metadata": {},
   "outputs": [
    {
     "data": {
      "text/html": [
       "<div>\n",
       "<table border=\"1\" class=\"dataframe\">\n",
       "  <thead>\n",
       "    <tr style=\"text-align: right;\">\n",
       "      <th></th>\n",
       "      <th>Dalc</th>\n",
       "      <th>Walc</th>\n",
       "      <th>health</th>\n",
       "      <th>G1</th>\n",
       "      <th>G2</th>\n",
       "      <th>G3</th>\n",
       "    </tr>\n",
       "  </thead>\n",
       "  <tbody>\n",
       "    <tr>\n",
       "      <th>count</th>\n",
       "      <td>649.000000</td>\n",
       "      <td>649.000000</td>\n",
       "      <td>649.000000</td>\n",
       "      <td>649.000000</td>\n",
       "      <td>649.000000</td>\n",
       "      <td>649.000000</td>\n",
       "    </tr>\n",
       "    <tr>\n",
       "      <th>mean</th>\n",
       "      <td>1.502311</td>\n",
       "      <td>2.280431</td>\n",
       "      <td>3.536210</td>\n",
       "      <td>11.399076</td>\n",
       "      <td>11.570108</td>\n",
       "      <td>11.906009</td>\n",
       "    </tr>\n",
       "    <tr>\n",
       "      <th>std</th>\n",
       "      <td>0.924834</td>\n",
       "      <td>1.284380</td>\n",
       "      <td>1.446259</td>\n",
       "      <td>2.745265</td>\n",
       "      <td>2.913639</td>\n",
       "      <td>3.230656</td>\n",
       "    </tr>\n",
       "    <tr>\n",
       "      <th>min</th>\n",
       "      <td>1.000000</td>\n",
       "      <td>1.000000</td>\n",
       "      <td>1.000000</td>\n",
       "      <td>0.000000</td>\n",
       "      <td>0.000000</td>\n",
       "      <td>0.000000</td>\n",
       "    </tr>\n",
       "    <tr>\n",
       "      <th>25%</th>\n",
       "      <td>1.000000</td>\n",
       "      <td>1.000000</td>\n",
       "      <td>2.000000</td>\n",
       "      <td>10.000000</td>\n",
       "      <td>10.000000</td>\n",
       "      <td>10.000000</td>\n",
       "    </tr>\n",
       "    <tr>\n",
       "      <th>50%</th>\n",
       "      <td>1.000000</td>\n",
       "      <td>2.000000</td>\n",
       "      <td>4.000000</td>\n",
       "      <td>11.000000</td>\n",
       "      <td>11.000000</td>\n",
       "      <td>12.000000</td>\n",
       "    </tr>\n",
       "    <tr>\n",
       "      <th>75%</th>\n",
       "      <td>2.000000</td>\n",
       "      <td>3.000000</td>\n",
       "      <td>5.000000</td>\n",
       "      <td>13.000000</td>\n",
       "      <td>13.000000</td>\n",
       "      <td>14.000000</td>\n",
       "    </tr>\n",
       "    <tr>\n",
       "      <th>max</th>\n",
       "      <td>5.000000</td>\n",
       "      <td>5.000000</td>\n",
       "      <td>5.000000</td>\n",
       "      <td>19.000000</td>\n",
       "      <td>19.000000</td>\n",
       "      <td>19.000000</td>\n",
       "    </tr>\n",
       "  </tbody>\n",
       "</table>\n",
       "</div>"
      ],
      "text/plain": [
       "             Dalc        Walc      health          G1          G2          G3\n",
       "count  649.000000  649.000000  649.000000  649.000000  649.000000  649.000000\n",
       "mean     1.502311    2.280431    3.536210   11.399076   11.570108   11.906009\n",
       "std      0.924834    1.284380    1.446259    2.745265    2.913639    3.230656\n",
       "min      1.000000    1.000000    1.000000    0.000000    0.000000    0.000000\n",
       "25%      1.000000    1.000000    2.000000   10.000000   10.000000   10.000000\n",
       "50%      1.000000    2.000000    4.000000   11.000000   11.000000   12.000000\n",
       "75%      2.000000    3.000000    5.000000   13.000000   13.000000   14.000000\n",
       "max      5.000000    5.000000    5.000000   19.000000   19.000000   19.000000"
      ]
     },
     "execution_count": 78,
     "metadata": {},
     "output_type": "execute_result"
    }
   ],
   "source": [
    "# Briefly summarize the distribution of main attributes\n",
    "por_score.iloc[:,[26, 27, 28, 30, 31, 32]].describe() # Portuguese"
   ]
  },
  {
   "cell_type": "markdown",
   "metadata": {},
   "source": [
    "###  <font color='#1A9FFF'>2. Check the Data</font>\n",
    "Check the data to see whether there is any wrong data in the dataset.\n",
    "\n",
    "As we can see from the Brief Summary, the data listed is in good shape. Therefore we do not perform any data checking here."
   ]
  },
  {
   "cell_type": "markdown",
   "metadata": {},
   "source": [
    "###  <font color='#1A9FFF'>3. Data Observation</font>\n",
    "#### Grade Distribution"
   ]
  },
  {
   "cell_type": "code",
   "execution_count": 79,
   "metadata": {},
   "outputs": [
    {
     "data": {
      "image/png": "[encoded data removed]",
      "text/plain": [
       "<matplotlib.figure.Figure at 0x1187077d0>"
      ]
     },
     "metadata": {},
     "output_type": "display_data"
    }
   ],
   "source": [
    "# We analyse the grade distribution for math and portuguese by using a histogram graph of the average of the grades\n",
    "mat_ave = (mat_score['G1'] + mat_score['G2'] + mat_score['G3'])/3.0\n",
    "por_ave = (por_score['G1'] + por_score['G2'] + por_score['G3'])/3.0\n",
    "\n",
    "# As summarized above\n",
    "max_score = 19\n",
    "min_score = 0\n",
    "\n",
    "# show result of Math course\n",
    "mat_ave.plot.hist(bins=10, alpha=0.5, normed=True, range=(0,20))\n",
    "\n",
    "# show result of Portuguese course\n",
    "por_ave.plot.hist(bins=10, alpha=0.5, normed=True, range=(0,20))\n",
    "\n",
    "# show setting\n",
    "plt.title('Grade Distribution for Math and Portuguese Course')\n",
    "plt.xlabel('Grade')\n",
    "plt.legend(['Math', 'Portuguese'])\n",
    "plt.grid()"
   ]
  },
  {
   "cell_type": "markdown",
   "metadata": {},
   "source": [
    "**Observation:** The Math course has more students failing (lower than 10 grade) than the Portuguese Course.\n",
    "\n",
    "Let us look closer on the student information for Math courses."
   ]
  },
  {
   "cell_type": "code",
   "execution_count": 80,
   "metadata": {},
   "outputs": [
    {
     "data": {
      "image/png": "[encoded data removed]",
      "text/plain": [
       "<matplotlib.figure.Figure at 0x1189fe090>"
      ]
     },
     "metadata": {},
     "output_type": "display_data"
    }
   ],
   "source": [
    "# We check if the grade distribution between different grade period is same or not.\n",
    "mat_G123 = mat_score.iloc[:,[30, 31, 32]].copy()\n",
    "\n",
    "# Histogram of G1 G2 & G3 for Math course\n",
    "mat_G123.plot.hist(bins=10, alpha=0.9, normed=True, cmap='Blues', stacked=True, range=(0,20))\n",
    "plt.title('G1 G2 G3 Distribution for Math Course')\n",
    "plt.xlabel('Grade')\n",
    "plt.grid()"
   ]
  },
  {
   "cell_type": "markdown",
   "metadata": {},
   "source": [
    "Let us look closer on the student information for Portuguese courses."
   ]
  },
  {
   "cell_type": "code",
   "execution_count": 81,
   "metadata": {},
   "outputs": [
    {
     "data": {
      "image/png": "[encoded data removed]",
      "text/plain": [
       "<matplotlib.figure.Figure at 0x118e40990>"
      ]
     },
     "metadata": {},
     "output_type": "display_data"
    }
   ],
   "source": [
    "# We check if the grade distribution between different grade period is same or not.\n",
    "por_G123 = por_score.iloc[:,[30, 31, 32]].copy()\n",
    "\n",
    "# Histogram of G1 G2 & G3 for Portuguese course\n",
    "por_G123.plot.hist(bins=10, alpha=0.9, normed=True, cmap='Greens', stacked=True, range=(0,20))\n",
    "plt.title('G1 G2 G3 Distribution for Portuguese Course')\n",
    "plt.xlabel('Grade')\n",
    "plt.grid()"
   ]
  },
  {
   "cell_type": "markdown",
   "metadata": {},
   "source": [
    "**Observation:** There is no much difference between different grade period."
   ]
  },
  {
   "cell_type": "markdown",
   "metadata": {},
   "source": [
    "###  <font color='#1A9FFF'>4. Exploratory Data Analysis</font>\n",
    "#### Grade - School\n",
    "Check the relationship between Math Grade ( the third period, namely `G3`) and School"
   ]
  },
  {
   "cell_type": "code",
   "execution_count": 82,
   "metadata": {},
   "outputs": [
    {
     "data": {
      "text/plain": [
       "<matplotlib.axes._subplots.AxesSubplot at 0x1190e9e10>"
      ]
     },
     "execution_count": 82,
     "metadata": {},
     "output_type": "execute_result"
    },
    {
     "data": {
      "image/png": "[encoded data removed]",
      "text/plain": [
       "<matplotlib.figure.Figure at 0x11912cf10>"
      ]
     },
     "metadata": {},
     "output_type": "display_data"
    }
   ],
   "source": [
    "# Group the student by school\n",
    "mat_score.boxplot(column=['G3'], by='school')"
   ]
  },
  {
   "cell_type": "markdown",
   "metadata": {},
   "source": [
    "**Observation :** There are more who fail in GP school."
   ]
  },
  {
   "cell_type": "markdown",
   "metadata": {},
   "source": [
    "Check the relationship between Math Grade ( the third period, namely `G3`) and School as well as Sex "
   ]
  },
  {
   "cell_type": "code",
   "execution_count": 83,
   "metadata": {},
   "outputs": [
    {
     "data": {
      "text/plain": [
       "<matplotlib.axes._subplots.AxesSubplot at 0x119138b90>"
      ]
     },
     "execution_count": 83,
     "metadata": {},
     "output_type": "execute_result"
    },
    {
     "data": {
      "image/png": "[encoded data removed]",
      "text/plain": [
       "<matplotlib.figure.Figure at 0x11922fa90>"
      ]
     },
     "metadata": {},
     "output_type": "display_data"
    }
   ],
   "source": [
    "# Group the student by school and sex\n",
    "mat_score.boxplot(column=['G3'], by=['school', 'sex'])"
   ]
  },
  {
   "cell_type": "markdown",
   "metadata": {},
   "source": [
    "**Observation :** No significant difference between F and M students."
   ]
  },
  {
   "cell_type": "markdown",
   "metadata": {},
   "source": [
    "#### Grade - Internet\n",
    "\n",
    "Seperate the students in three grade levels ( Fail, Pass, Good ), and check the relationship between grade and internet."
   ]
  },
  {
   "cell_type": "code",
   "execution_count": 208,
   "metadata": {},
   "outputs": [
    {
     "data": {
      "text/html": [
       "<div>\n",
       "<table border=\"1\" class=\"dataframe\">\n",
       "  <thead>\n",
       "    <tr style=\"text-align: right;\">\n",
       "      <th>G3</th>\n",
       "      <th>(-1, 9.9]</th>\n",
       "      <th>(9.9, 13.9]</th>\n",
       "      <th>(13.9, 20]</th>\n",
       "    </tr>\n",
       "    <tr>\n",
       "      <th>internet</th>\n",
       "      <th></th>\n",
       "      <th></th>\n",
       "      <th></th>\n",
       "    </tr>\n",
       "  </thead>\n",
       "  <tbody>\n",
       "    <tr>\n",
       "      <th>no</th>\n",
       "      <td>26</td>\n",
       "      <td>30</td>\n",
       "      <td>10</td>\n",
       "    </tr>\n",
       "    <tr>\n",
       "      <th>yes</th>\n",
       "      <td>104</td>\n",
       "      <td>135</td>\n",
       "      <td>90</td>\n",
       "    </tr>\n",
       "  </tbody>\n",
       "</table>\n",
       "</div>"
      ],
      "text/plain": [
       "G3        (-1, 9.9]  (9.9, 13.9]  (13.9, 20]\n",
       "internet                                    \n",
       "no               26           30          10\n",
       "yes             104          135          90"
      ]
     },
     "execution_count": 208,
     "metadata": {},
     "output_type": "execute_result"
    }
   ],
   "source": [
    "# Seperate the grade into 3 levels Fail(0<x<10), Pass(10<=x<14), Good(14<=x<=20) \n",
    "grade_cut = pd.cut(mat_score['G3'], [-1, 9.9, 13.9, 20])\n",
    "mat_score['count'] = 1\n",
    "\n",
    "# check the relationship between grade and internet by using pivot_table \n",
    "mat_score.pivot_table('count', index='internet', columns=grade_cut, aggfunc=np.sum)"
   ]
  },
  {
   "cell_type": "code",
   "execution_count": 90,
   "metadata": {},
   "outputs": [
    {
     "data": {
      "text/plain": [
       "<matplotlib.axes._subplots.AxesSubplot at 0x1195ea890>"
      ]
     },
     "execution_count": 90,
     "metadata": {},
     "output_type": "execute_result"
    },
    {
     "data": {
      "image/png": "[encoded data removed]",
      "text/plain": [
       "<matplotlib.figure.Figure at 0x1195f7190>"
      ]
     },
     "metadata": {},
     "output_type": "display_data"
    }
   ],
   "source": [
    "# Group the student by internet\n",
    "mat_score.boxplot(column=['G3'], by=['internet'])"
   ]
  },
  {
   "cell_type": "markdown",
   "metadata": {},
   "source": [
    "**Observation :** Students who have Internet have better grade than students who don't have."
   ]
  },
  {
   "cell_type": "markdown",
   "metadata": {},
   "source": [
    "#### Grade - Romantic\n",
    "\n",
    "Seperate the students in three grade levels ( Fail, Pass, Good ), and check the relationship between grade and romantic."
   ]
  },
  {
   "cell_type": "code",
   "execution_count": 91,
   "metadata": {},
   "outputs": [
    {
     "data": {
      "text/html": [
       "<div>\n",
       "<table border=\"1\" class=\"dataframe\">\n",
       "  <thead>\n",
       "    <tr style=\"text-align: right;\">\n",
       "      <th>G3</th>\n",
       "      <th>(-1, 9.9]</th>\n",
       "      <th>(9.9, 13.9]</th>\n",
       "      <th>(13.9, 20]</th>\n",
       "    </tr>\n",
       "    <tr>\n",
       "      <th>romantic</th>\n",
       "      <th></th>\n",
       "      <th></th>\n",
       "      <th></th>\n",
       "    </tr>\n",
       "  </thead>\n",
       "  <tbody>\n",
       "    <tr>\n",
       "      <th>no</th>\n",
       "      <td>78</td>\n",
       "      <td>111</td>\n",
       "      <td>74</td>\n",
       "    </tr>\n",
       "    <tr>\n",
       "      <th>yes</th>\n",
       "      <td>52</td>\n",
       "      <td>54</td>\n",
       "      <td>26</td>\n",
       "    </tr>\n",
       "  </tbody>\n",
       "</table>\n",
       "</div>"
      ],
      "text/plain": [
       "G3        (-1, 9.9]  (9.9, 13.9]  (13.9, 20]\n",
       "romantic                                    \n",
       "no               78          111          74\n",
       "yes              52           54          26"
      ]
     },
     "execution_count": 91,
     "metadata": {},
     "output_type": "execute_result"
    }
   ],
   "source": [
    "# check the relationship between grade and romantic by using pivot_table \n",
    "mat_score.pivot_table('count', index='romantic', columns=grade_cut, aggfunc=np.sum)"
   ]
  },
  {
   "cell_type": "code",
   "execution_count": 92,
   "metadata": {},
   "outputs": [
    {
     "data": {
      "text/plain": [
       "<matplotlib.axes._subplots.AxesSubplot at 0x1195ff8d0>"
      ]
     },
     "execution_count": 92,
     "metadata": {},
     "output_type": "execute_result"
    },
    {
     "data": {
      "image/png": "[encoded data removed]",
      "text/plain": [
       "<matplotlib.figure.Figure at 0x119789a10>"
      ]
     },
     "metadata": {},
     "output_type": "display_data"
    }
   ],
   "source": [
    "# Group the student by romantic\n",
    "mat_score.boxplot(column='G3', by='romantic')"
   ]
  },
  {
   "cell_type": "markdown",
   "metadata": {},
   "source": [
    "**Observation :** Among the students that fail, 40% have romantic relationships. Differently, among the students that pass, 26% only have romantic relationships."
   ]
  },
  {
   "cell_type": "markdown",
   "metadata": {},
   "source": [
    "#### Grade - Activities\n",
    "\n",
    "Seperate the students in three grade levels ( Fail, Pass, Good ), and check the relationship between grade and activities."
   ]
  },
  {
   "cell_type": "code",
   "execution_count": 136,
   "metadata": {},
   "outputs": [
    {
     "data": {
      "text/html": [
       "<div>\n",
       "<table border=\"1\" class=\"dataframe\">\n",
       "  <thead>\n",
       "    <tr style=\"text-align: right;\">\n",
       "      <th>G3</th>\n",
       "      <th>(-1, 9.9]</th>\n",
       "      <th>(9.9, 13.9]</th>\n",
       "      <th>(13.9, 20]</th>\n",
       "    </tr>\n",
       "    <tr>\n",
       "      <th>activities</th>\n",
       "      <th></th>\n",
       "      <th></th>\n",
       "      <th></th>\n",
       "    </tr>\n",
       "  </thead>\n",
       "  <tbody>\n",
       "    <tr>\n",
       "      <th>no</th>\n",
       "      <td>65</td>\n",
       "      <td>85</td>\n",
       "      <td>44</td>\n",
       "    </tr>\n",
       "    <tr>\n",
       "      <th>yes</th>\n",
       "      <td>65</td>\n",
       "      <td>80</td>\n",
       "      <td>56</td>\n",
       "    </tr>\n",
       "  </tbody>\n",
       "</table>\n",
       "</div>"
      ],
      "text/plain": [
       "G3          (-1, 9.9]  (9.9, 13.9]  (13.9, 20]\n",
       "activities                                    \n",
       "no                 65           85          44\n",
       "yes                65           80          56"
      ]
     },
     "execution_count": 136,
     "metadata": {},
     "output_type": "execute_result"
    }
   ],
   "source": [
    "# check the relationship between grade and activities by using pivot_table \n",
    "table_ga = mat_score.pivot_table('count', index='activities', columns=grade_cut, aggfunc=np.sum)\n",
    "table_ga"
   ]
  },
  {
   "cell_type": "code",
   "execution_count": 206,
   "metadata": {},
   "outputs": [
    {
     "name": "stdout",
     "output_type": "stream",
     "text": [
      "G3           activities\n",
      "(-1, 9.9]    no            65\n",
      "             yes           65\n",
      "(9.9, 13.9]  no            85\n",
      "             yes           80\n",
      "(13.9, 20]   no            44\n",
      "             yes           56\n",
      "dtype: int64\n",
      "G3\n",
      "(-1, 9.9]      130\n",
      "(9.9, 13.9]    165\n",
      "(13.9, 20]     100\n",
      "dtype: float64\n"
     ]
    },
    {
     "data": {
      "text/plain": [
       "<matplotlib.text.Text at 0x11d76b190>"
      ]
     },
     "execution_count": 206,
     "metadata": {},
     "output_type": "execute_result"
    },
    {
     "data": {
      "image/png": "[encoded data removed]",
      "text/plain": [
       "<matplotlib.figure.Figure at 0x11d60bf10>"
      ]
     },
     "metadata": {},
     "output_type": "display_data"
    }
   ],
   "source": [
    "# Draw bar plot to show the relationship\n",
    "print table_ga.unstack(level=0)\n",
    "tga = table_ga.unstack(level=0)\n",
    "\n",
    "# number of students in each grade group\n",
    "tot_ga = np.sum(table_ga)*1.0\n",
    "\n",
    "plt.bar([2, 5, 8], [tga[1]/tot_ga[0], tga[3]/tot_ga[1], tga[5]/tot_ga[2]], color='blue',  alpha=0.7);\n",
    "plt.bar([1, 4, 7], [tga[0]/tot_ga[0], tga[2]/tot_ga[1], tga[4]/tot_ga[2]], color='green', alpha=0.7);\n",
    "\n",
    "plt.legend(['Yes', 'No']);\n",
    "plt.xticks([1.8, 4.8, 7.8], ['Fail','Pass', 'Good'], size='medium');\n",
    "plt.title('Attending Activities or Not')"
   ]
  },
  {
   "cell_type": "markdown",
   "metadata": {},
   "source": [
    "**Observation :** There does not seem any significant relation between Grade failure and participation in co-curricular activities."
   ]
  },
  {
   "cell_type": "markdown",
   "metadata": {},
   "source": [
    "#### Grade - Nursery\n",
    "\n",
    "Seperate the students in three grade levels ( Fail, Pass, Good ), and check the relationship between grade and nursery."
   ]
  },
  {
   "cell_type": "code",
   "execution_count": 210,
   "metadata": {},
   "outputs": [
    {
     "data": {
      "text/html": [
       "<div>\n",
       "<table border=\"1\" class=\"dataframe\">\n",
       "  <thead>\n",
       "    <tr style=\"text-align: right;\">\n",
       "      <th>G3</th>\n",
       "      <th>(-1, 9.9]</th>\n",
       "      <th>(9.9, 13.9]</th>\n",
       "      <th>(13.9, 20]</th>\n",
       "    </tr>\n",
       "    <tr>\n",
       "      <th>nursery</th>\n",
       "      <th></th>\n",
       "      <th></th>\n",
       "      <th></th>\n",
       "    </tr>\n",
       "  </thead>\n",
       "  <tbody>\n",
       "    <tr>\n",
       "      <th>no</th>\n",
       "      <td>26</td>\n",
       "      <td>37</td>\n",
       "      <td>18</td>\n",
       "    </tr>\n",
       "    <tr>\n",
       "      <th>yes</th>\n",
       "      <td>104</td>\n",
       "      <td>128</td>\n",
       "      <td>82</td>\n",
       "    </tr>\n",
       "  </tbody>\n",
       "</table>\n",
       "</div>"
      ],
      "text/plain": [
       "G3       (-1, 9.9]  (9.9, 13.9]  (13.9, 20]\n",
       "nursery                                    \n",
       "no              26           37          18\n",
       "yes            104          128          82"
      ]
     },
     "execution_count": 210,
     "metadata": {},
     "output_type": "execute_result"
    }
   ],
   "source": [
    "# check the relationship between grade and activities by using pivot_table \n",
    "table_gn = mat_score.pivot_table('count', index='nursery', columns=grade_cut, aggfunc=np.sum)\n",
    "table_gn"
   ]
  },
  {
   "cell_type": "code",
   "execution_count": 211,
   "metadata": {},
   "outputs": [
    {
     "name": "stdout",
     "output_type": "stream",
     "text": [
      "G3           nursery\n",
      "(-1, 9.9]    no          26\n",
      "             yes        104\n",
      "(9.9, 13.9]  no          37\n",
      "             yes        128\n",
      "(13.9, 20]   no          18\n",
      "             yes         82\n",
      "dtype: int64\n"
     ]
    },
    {
     "data": {
      "text/plain": [
       "<matplotlib.text.Text at 0x11d5c5e90>"
      ]
     },
     "execution_count": 211,
     "metadata": {},
     "output_type": "execute_result"
    },
    {
     "data": {
      "image/png": "[encoded data removed]",
      "text/plain": [
       "<matplotlib.figure.Figure at 0x11d495790>"
      ]
     },
     "metadata": {},
     "output_type": "display_data"
    }
   ],
   "source": [
    "# Draw bar plot to show the relationship\n",
    "print table_gn.unstack(level=0)\n",
    "tgn = table_gn.unstack(level=0)\n",
    "\n",
    "# number of students in each grade group\n",
    "tot_n = np.sum(table_gn)*1.0\n",
    "\n",
    "plt.bar([2, 5, 8], [tgn[1]/tot_n[0], tgn[3]/tot_n[1], tgn[5]/tot_n[2]], color='blue',  alpha=0.7);\n",
    "plt.bar([1, 4, 7], [tgn[0]/tot_n[0], tgn[2]/tot_n[1], tgn[4]/tot_n[2]], color='green', alpha=0.7);\n",
    "\n",
    "plt.legend(['Yes', 'No']);\n",
    "plt.xticks([1.8, 4.8, 7.8], ['Fail','Pass', 'Good'], size='medium');\n",
    "plt.title('Attending Nursery School or Not')"
   ]
  },
  {
   "cell_type": "markdown",
   "metadata": {},
   "source": [
    "**Observation:** There seems no any significant relation between Grade failure and nursery attendance in the past."
   ]
  },
  {
   "cell_type": "markdown",
   "metadata": {},
   "source": [
    "#### Grade - Educational Support\n",
    "\n",
    "Seperate the students in three grade levels ( Fail, Pass, Good ), and check the relationship between grade and educational support from family and school."
   ]
  },
  {
   "cell_type": "code",
   "execution_count": 140,
   "metadata": {},
   "outputs": [
    {
     "data": {
      "text/html": [
       "<div>\n",
       "<table border=\"1\" class=\"dataframe\">\n",
       "  <thead>\n",
       "    <tr style=\"text-align: right;\">\n",
       "      <th>G3</th>\n",
       "      <th>(-1, 9.9]</th>\n",
       "      <th>(9.9, 13.9]</th>\n",
       "      <th>(13.9, 20]</th>\n",
       "    </tr>\n",
       "    <tr>\n",
       "      <th>famsup</th>\n",
       "      <th></th>\n",
       "      <th></th>\n",
       "      <th></th>\n",
       "    </tr>\n",
       "  </thead>\n",
       "  <tbody>\n",
       "    <tr>\n",
       "      <th>no</th>\n",
       "      <td>45</td>\n",
       "      <td>68</td>\n",
       "      <td>40</td>\n",
       "    </tr>\n",
       "    <tr>\n",
       "      <th>yes</th>\n",
       "      <td>85</td>\n",
       "      <td>97</td>\n",
       "      <td>60</td>\n",
       "    </tr>\n",
       "  </tbody>\n",
       "</table>\n",
       "</div>"
      ],
      "text/plain": [
       "G3      (-1, 9.9]  (9.9, 13.9]  (13.9, 20]\n",
       "famsup                                    \n",
       "no             45           68          40\n",
       "yes            85           97          60"
      ]
     },
     "execution_count": 140,
     "metadata": {},
     "output_type": "execute_result"
    }
   ],
   "source": [
    "# check the relationship between grade and family educational support by using pivot_table \n",
    "table_gfes = mat_score.pivot_table('count', index='famsup', columns=grade_cut, aggfunc=np.sum)\n",
    "table_gfes"
   ]
  },
  {
   "cell_type": "code",
   "execution_count": 212,
   "metadata": {},
   "outputs": [
    {
     "name": "stdout",
     "output_type": "stream",
     "text": [
      "G3           famsup\n",
      "(-1, 9.9]    no        45\n",
      "             yes       85\n",
      "(9.9, 13.9]  no        68\n",
      "             yes       97\n",
      "(13.9, 20]   no        40\n",
      "             yes       60\n",
      "dtype: int64\n"
     ]
    },
    {
     "data": {
      "text/plain": [
       "<matplotlib.text.Text at 0x11d59d210>"
      ]
     },
     "execution_count": 212,
     "metadata": {},
     "output_type": "execute_result"
    },
    {
     "data": {
      "image/png": "[encoded data removed]",
      "text/plain": [
       "<matplotlib.figure.Figure at 0x11d5d8390>"
      ]
     },
     "metadata": {},
     "output_type": "display_data"
    }
   ],
   "source": [
    "# Draw bar plot to show the relationship\n",
    "print   table_gfes.unstack(level=0)\n",
    "tgfes = table_gfes.unstack(level=0)\n",
    "\n",
    "\n",
    "# number of students in each grade group\n",
    "tot_gfes = np.sum(table_gfes)*1.0\n",
    "\n",
    "plt.bar([2, 5, 8], [tgfes[1]/tot_gfes[0], tgfes[3]/tot_gfes[1], tgfes[5]/tot_gfes[2]], color='blue',  alpha=0.7);\n",
    "plt.bar([1, 4, 7], [tgfes[0]/tot_gfes[0], tgfes[2]/tot_gfes[1], tgfes[4]/tot_gfes[2]], color='green', alpha=0.7);\n",
    "\n",
    "plt.legend(['Yes', 'No']);\n",
    "plt.xticks([1.8, 4.8, 7.8], ['Fail','Pass', 'Good'], size='medium');\n",
    "plt.title('Support from Family or Not')"
   ]
  },
  {
   "cell_type": "code",
   "execution_count": 145,
   "metadata": {},
   "outputs": [
    {
     "data": {
      "text/html": [
       "<div>\n",
       "<table border=\"1\" class=\"dataframe\">\n",
       "  <thead>\n",
       "    <tr style=\"text-align: right;\">\n",
       "      <th>G3</th>\n",
       "      <th>(-1, 9.9]</th>\n",
       "      <th>(9.9, 13.9]</th>\n",
       "      <th>(13.9, 20]</th>\n",
       "    </tr>\n",
       "    <tr>\n",
       "      <th>schoolsup</th>\n",
       "      <th></th>\n",
       "      <th></th>\n",
       "      <th></th>\n",
       "    </tr>\n",
       "  </thead>\n",
       "  <tbody>\n",
       "    <tr>\n",
       "      <th>no</th>\n",
       "      <td>107</td>\n",
       "      <td>140</td>\n",
       "      <td>97</td>\n",
       "    </tr>\n",
       "    <tr>\n",
       "      <th>yes</th>\n",
       "      <td>23</td>\n",
       "      <td>25</td>\n",
       "      <td>3</td>\n",
       "    </tr>\n",
       "  </tbody>\n",
       "</table>\n",
       "</div>"
      ],
      "text/plain": [
       "G3         (-1, 9.9]  (9.9, 13.9]  (13.9, 20]\n",
       "schoolsup                                    \n",
       "no               107          140          97\n",
       "yes               23           25           3"
      ]
     },
     "execution_count": 145,
     "metadata": {},
     "output_type": "execute_result"
    }
   ],
   "source": [
    "# check the relationship between grade and school educational support by using pivot_table \n",
    "table_gses = mat_score.pivot_table('count', index='schoolsup', columns=grade_cut, aggfunc=np.sum)\n",
    "table_gses"
   ]
  },
  {
   "cell_type": "code",
   "execution_count": 213,
   "metadata": {},
   "outputs": [
    {
     "name": "stdout",
     "output_type": "stream",
     "text": [
      "G3           schoolsup\n",
      "(-1, 9.9]    no           107\n",
      "             yes           23\n",
      "(9.9, 13.9]  no           140\n",
      "             yes           25\n",
      "(13.9, 20]   no            97\n",
      "             yes            3\n",
      "dtype: int64\n"
     ]
    },
    {
     "data": {
      "text/plain": [
       "<matplotlib.text.Text at 0x11e8df890>"
      ]
     },
     "execution_count": 213,
     "metadata": {},
     "output_type": "execute_result"
    },
    {
     "data": {
      "image/png": "[encoded data removed]",
      "text/plain": [
       "<matplotlib.figure.Figure at 0x11dcc9090>"
      ]
     },
     "metadata": {},
     "output_type": "display_data"
    }
   ],
   "source": [
    "# Draw bar plot to show the relationship\n",
    "print   table_gses.unstack(level=0)\n",
    "tgses = table_gses.unstack(level=0)\n",
    "\n",
    "# number of students in each grade group\n",
    "tot_gses = np.sum(table_gses)*1.0\n",
    "\n",
    "\n",
    "plt.bar([2, 5, 8], [tgses[1]/tot_gses[0], tgses[3]/tot_gses[1], tgses[5]/tot_gses[2]], color='blue',  alpha=0.7);\n",
    "plt.bar([1, 4, 7], [tgses[0]/tot_gses[0], tgses[2]/tot_gses[1], tgses[4]/tot_gses[2]], color='green', alpha=0.7);\n",
    "\n",
    "plt.legend(['Yes', 'No']);\n",
    "plt.xticks([1.8, 4.8, 7.8], ['Fail', 'Pass', 'Good'], size='medium');\n",
    "plt.title('Support from School or Not')"
   ]
  },
  {
   "cell_type": "markdown",
   "metadata": {},
   "source": [
    "**Observation:** There is no obvious relation between grade and educational support from the dataset provided."
   ]
  },
  {
   "cell_type": "markdown",
   "metadata": {},
   "source": [
    "#### Grade - Health"
   ]
  },
  {
   "cell_type": "code",
   "execution_count": 146,
   "metadata": {},
   "outputs": [
    {
     "data": {
      "text/html": [
       "<div>\n",
       "<table border=\"1\" class=\"dataframe\">\n",
       "  <thead>\n",
       "    <tr style=\"text-align: right;\">\n",
       "      <th>G3</th>\n",
       "      <th>(-1, 9.9]</th>\n",
       "      <th>(9.9, 13.9]</th>\n",
       "      <th>(13.9, 20]</th>\n",
       "    </tr>\n",
       "    <tr>\n",
       "      <th>health</th>\n",
       "      <th></th>\n",
       "      <th></th>\n",
       "      <th></th>\n",
       "    </tr>\n",
       "  </thead>\n",
       "  <tbody>\n",
       "    <tr>\n",
       "      <th>1</th>\n",
       "      <td>10</td>\n",
       "      <td>18</td>\n",
       "      <td>19</td>\n",
       "    </tr>\n",
       "    <tr>\n",
       "      <th>2</th>\n",
       "      <td>15</td>\n",
       "      <td>16</td>\n",
       "      <td>14</td>\n",
       "    </tr>\n",
       "    <tr>\n",
       "      <th>3</th>\n",
       "      <td>31</td>\n",
       "      <td>44</td>\n",
       "      <td>16</td>\n",
       "    </tr>\n",
       "    <tr>\n",
       "      <th>4</th>\n",
       "      <td>24</td>\n",
       "      <td>26</td>\n",
       "      <td>16</td>\n",
       "    </tr>\n",
       "    <tr>\n",
       "      <th>5</th>\n",
       "      <td>50</td>\n",
       "      <td>61</td>\n",
       "      <td>35</td>\n",
       "    </tr>\n",
       "  </tbody>\n",
       "</table>\n",
       "</div>"
      ],
      "text/plain": [
       "G3      (-1, 9.9]  (9.9, 13.9]  (13.9, 20]\n",
       "health                                    \n",
       "1              10           18          19\n",
       "2              15           16          14\n",
       "3              31           44          16\n",
       "4              24           26          16\n",
       "5              50           61          35"
      ]
     },
     "execution_count": 146,
     "metadata": {},
     "output_type": "execute_result"
    }
   ],
   "source": [
    "# check the relationship between grade and family educational support by using pivot_table \n",
    "table_gh = mat_score.pivot_table('count', index='health', columns=grade_cut, aggfunc=np.sum)\n",
    "table_gh"
   ]
  },
  {
   "cell_type": "code",
   "execution_count": 220,
   "metadata": {},
   "outputs": [
    {
     "name": "stdout",
     "output_type": "stream",
     "text": [
      "G3           health\n",
      "(-1, 9.9]    1         10\n",
      "             2         15\n",
      "             3         31\n",
      "             4         24\n",
      "             5         50\n",
      "(9.9, 13.9]  1         18\n",
      "             2         16\n",
      "             3         44\n",
      "             4         26\n",
      "             5         61\n",
      "(13.9, 20]   1         19\n",
      "             2         14\n",
      "             3         16\n",
      "             4         16\n",
      "             5         35\n",
      "dtype: int64\n"
     ]
    },
    {
     "data": {
      "text/plain": [
       "<matplotlib.text.Text at 0x11cff13d0>"
      ]
     },
     "execution_count": 220,
     "metadata": {},
     "output_type": "execute_result"
    },
    {
     "data": {
      "image/png": "[encoded data removed]",
      "text/plain": [
       "<matplotlib.figure.Figure at 0x11cfefd90>"
      ]
     },
     "metadata": {},
     "output_type": "display_data"
    }
   ],
   "source": [
    "# Draw bar plot to show the relationship\n",
    "print table_gh.unstack(level=0)\n",
    "tgh = table_gh.unstack(level=0)\n",
    "\n",
    "\n",
    "# number of students in each grade group\n",
    "tot_gh = np.sum(table_gh)*1.0\n",
    "\n",
    "\n",
    "plt.bar([1, 7,  13], [tgh[0]/tot_gh[0], tgh[5]/tot_gh[1], tgh[10]/tot_gh[2]], color='blue',   alpha=0.7);\n",
    "plt.bar([2, 8,  14], [tgh[1]/tot_gh[0], tgh[6]/tot_gh[1], tgh[11]/tot_gh[2]], color='green',  alpha=0.7);\n",
    "plt.bar([3, 9,  15], [tgh[2]/tot_gh[0], tgh[7]/tot_gh[1], tgh[12]/tot_gh[2]], color='red',    alpha=0.7);\n",
    "plt.bar([4, 10, 16], [tgh[3]/tot_gh[0], tgh[8]/tot_gh[1], tgh[13]/tot_gh[2]], color='grey',   alpha=0.7);\n",
    "plt.bar([5, 11, 17], [tgh[4]/tot_gh[0], tgh[9]/tot_gh[1], tgh[14]/tot_gh[2]], color='yellow', alpha=0.7);\n",
    "\n",
    "plt.legend(['1', '2', '3', '4', '5'], loc=2);\n",
    "plt.xticks([3.5, 9.5, 15.5], ['Fail','Pass', 'Good'], size='medium');\n",
    "plt.title('Health Level')"
   ]
  },
  {
   "cell_type": "markdown",
   "metadata": {},
   "source": [
    "**Observation:** Health issues is not relevant"
   ]
  },
  {
   "cell_type": "markdown",
   "metadata": {},
   "source": [
    "#### Grade - Absence\n",
    "\n",
    "Seperate the grade of student into 11 levels, and check the relationship between grade and alcohol absense."
   ]
  },
  {
   "cell_type": "code",
   "execution_count": 198,
   "metadata": {},
   "outputs": [
    {
     "name": "stdout",
     "output_type": "stream",
     "text": [
      "G3\n",
      "(-0.5, 0.5]      0.000000\n",
      "(0.5, 1.5]            NaN\n",
      "(1.5, 2.5]            NaN\n",
      "(2.5, 3.5]            NaN\n",
      "(3.5, 4.5]      22.000000\n",
      "(4.5, 5.5]      11.428571\n",
      "(5.5, 6.5]       8.066667\n",
      "(6.5, 7.5]       6.777778\n",
      "(7.5, 8.5]       9.718750\n",
      "(8.5, 9.5]      10.142857\n",
      "(9.5, 10.5]      4.857143\n",
      "(10.5, 11.5]     7.510638\n",
      "(11.5, 12.5]     4.548387\n",
      "(12.5, 13.5]     7.483871\n",
      "(13.5, 14.5]     4.000000\n",
      "(14.5, 15.5]     2.969697\n",
      "(15.5, 16.5]     3.125000\n",
      "(16.5, 17.5]     3.666667\n",
      "(17.5, 18.5]     6.250000\n",
      "(18.5, 19.5]     4.200000\n",
      "(19.5, 20.5]     4.000000\n",
      "Name: absences, dtype: float64\n"
     ]
    },
    {
     "data": {
      "text/plain": [
       "<matplotlib.axes._subplots.AxesSubplot at 0x11e103210>"
      ]
     },
     "execution_count": 198,
     "metadata": {},
     "output_type": "execute_result"
    },
    {
     "data": {
      "image/png": "[encoded data removed]",
      "text/plain": [
       "<matplotlib.figure.Figure at 0x11dd170d0>"
      ]
     },
     "metadata": {},
     "output_type": "display_data"
    }
   ],
   "source": [
    "# Seperate the grade into 11 levels\n",
    "grade_cut = pd.cut(mat_score['G3'], np.linspace(-0.5,20.5,22))\n",
    "mats_gba  = mat_score.groupby(grade_cut)['absences'].aggregate('mean')\n",
    "\n",
    "print mats_gba\n",
    "mats_gba.plot()"
   ]
  },
  {
   "cell_type": "markdown",
   "metadata": {},
   "source": [
    "**Observation:** Students with higher grade are less likely to be absent."
   ]
  },
  {
   "cell_type": "markdown",
   "metadata": {},
   "source": [
    "#### Grade - Go Out with Friends\n",
    "\n",
    "Seperate the grade of student into 3 levels ( Fail, Pass, Good ), and check the relationship between grade and \"go out\"."
   ]
  },
  {
   "cell_type": "code",
   "execution_count": 222,
   "metadata": {},
   "outputs": [
    {
     "name": "stdout",
     "output_type": "stream",
     "text": [
      "G3           goout\n",
      "(-1, 9.9]    1         6\n",
      "             2        24\n",
      "             3        37\n",
      "             4        38\n",
      "             5        25\n",
      "(9.9, 13.9]  1        12\n",
      "             2        49\n",
      "             3        54\n",
      "             4        31\n",
      "             5        19\n",
      "(13.9, 20]   1         5\n",
      "             2        30\n",
      "             3        39\n",
      "             4        17\n",
      "             5         9\n",
      "dtype: int64\n"
     ]
    },
    {
     "data": {
      "text/plain": [
       "<matplotlib.text.Text at 0x11e213790>"
      ]
     },
     "execution_count": 222,
     "metadata": {},
     "output_type": "execute_result"
    },
    {
     "data": {
      "image/png": "[encoded data removed]",
      "text/plain": [
       "<matplotlib.figure.Figure at 0x11dabc190>"
      ]
     },
     "metadata": {},
     "output_type": "display_data"
    }
   ],
   "source": [
    "# Seperate the grade into 3 levels Fail(0<x<10), Pass(10<=x<14), Good(14<=x<=20) \n",
    "grade_cut = pd.cut(mat_score['G3'], [-1, 9.9, 13.9, 20])\n",
    "mat_score['count'] = 1\n",
    "\n",
    "\n",
    "# check the relationship between grade and family educational support by using pivot_table \n",
    "table_ggo = mat_score.pivot_table('count', index='goout', columns=grade_cut, aggfunc=np.sum)\n",
    "table_ggo\n",
    "\n",
    "\n",
    "# Draw bar plot to show the relationship\n",
    "print table_ggo.unstack(level=0)\n",
    "tgo = table_ggo.unstack(level=0)\n",
    "\n",
    "\n",
    "# number of students in each grade group\n",
    "tot_ggo = np.sum(table_ggo)*1.0\n",
    "\n",
    "\n",
    "plt.bar([1, 7,  13], [tgo[0]/tot_ggo[0], tgo[5]/tot_ggo[1], tgo[10]/tot_ggo[2]], color='blue',   alpha=0.7);\n",
    "plt.bar([2, 8,  14], [tgo[1]/tot_ggo[0], tgo[6]/tot_ggo[1], tgo[11]/tot_ggo[2]], color='green',  alpha=0.7);\n",
    "plt.bar([3, 9,  15], [tgo[2]/tot_ggo[0], tgo[7]/tot_ggo[1], tgo[12]/tot_ggo[2]], color='red',    alpha=0.7);\n",
    "plt.bar([4, 10, 16], [tgo[3]/tot_ggo[0], tgo[8]/tot_ggo[1], tgo[13]/tot_ggo[2]], color='grey',   alpha=0.7);\n",
    "plt.bar([5, 11, 17], [tgo[4]/tot_ggo[0], tgo[9]/tot_ggo[1], tgo[14]/tot_ggo[2]], color='yellow', alpha=0.7);\n",
    "\n",
    "plt.legend(['1', '2', '3', '4', '5'], loc=2);\n",
    "plt.xticks([3.5, 9.5, 15.5], ['Fail','Pass', 'Good'], size='medium');\n",
    "plt.title('Go Out Level')"
   ]
  },
  {
   "cell_type": "markdown",
   "metadata": {},
   "source": [
    "**Observation** The number of students who pass go out with friend less than the number of students who fail."
   ]
  },
  {
   "cell_type": "markdown",
   "metadata": {},
   "source": [
    "#### Grade - Family Relationship\n",
    "\n",
    "Seperate the grade of student into 3 levels ( Fail, Pass, Good ), and check the relation between grade and family relationship."
   ]
  },
  {
   "cell_type": "code",
   "execution_count": 225,
   "metadata": {},
   "outputs": [
    {
     "data": {
      "text/plain": [
       "<matplotlib.text.Text at 0x11f6b8510>"
      ]
     },
     "execution_count": 225,
     "metadata": {},
     "output_type": "execute_result"
    },
    {
     "data": {
      "image/png": "[encoded data removed]",
      "text/plain": [
       "<matplotlib.figure.Figure at 0x11e4f6e50>"
      ]
     },
     "metadata": {},
     "output_type": "display_data"
    }
   ],
   "source": [
    "# Seperate the grade into 3 levels Fail(0<x<10), Pass(10<=x<14), Good(14<=x<=20) \n",
    "grade_cut = pd.cut(mat_score['G3'], [-1, 9.9, 13.9, 20])\n",
    "mat_score['count'] = 1\n",
    "\n",
    "\n",
    "# check the relationship between grade and family educational support by using pivot_table \n",
    "table_gfr = mat_score.pivot_table('count', index='famrel', columns=grade_cut, aggfunc=np.sum)\n",
    "table_gfr\n",
    "\n",
    "\n",
    "# Draw bar plot to show the relationship\n",
    "tgfr = table_gfr.unstack(level=0)\n",
    "\n",
    "\n",
    "# number of students in each grade group\n",
    "tot_gfr = np.sum(table_gfr)*1.0\n",
    "\n",
    "plt.bar([1, 7,  13], [tgfr[0]/tot_gfr[0], tgfr[5]/tot_gfr[1], tgfr[10]/tot_gfr[2]], color='blue',   alpha=0.7);\n",
    "plt.bar([2, 8,  14], [tgfr[1]/tot_gfr[0], tgfr[6]/tot_gfr[1], tgfr[11]/tot_gfr[2]], color='green',  alpha=0.7);\n",
    "plt.bar([3, 9,  15], [tgfr[2]/tot_gfr[0], tgfr[7]/tot_gfr[1], tgfr[12]/tot_gfr[2]], color='red',    alpha=0.7);\n",
    "plt.bar([4, 10, 16], [tgfr[3]/tot_gfr[0], tgfr[8]/tot_gfr[1], tgfr[13]/tot_gfr[2]], color='grey',   alpha=0.7);\n",
    "plt.bar([5, 11, 17], [tgfr[4]/tot_gfr[0], tgfr[9]/tot_gfr[1], tgfr[14]/tot_gfr[2]], color='yellow', alpha=0.7);\n",
    "\n",
    "plt.legend(['1', '2', '3', '4', '5'], loc=2);\n",
    "plt.xticks([3.5, 9.5, 15.5], ['Fail','Pass', 'Good'], size='medium');\n",
    "plt.title('Level of Family Relationship')"
   ]
  },
  {
   "cell_type": "markdown",
   "metadata": {},
   "source": [
    "**Observation:** Larger % of students who passed have a family relation rating of 5."
   ]
  },
  {
   "cell_type": "markdown",
   "metadata": {},
   "source": [
    "#### Grade - Alcohol Consumption\n",
    "\n",
    "Seperate the grade of student into 3 levels ( Fail, Pass, Good ), and check the relation between grade and family relationship."
   ]
  },
  {
   "cell_type": "code",
   "execution_count": 226,
   "metadata": {},
   "outputs": [
    {
     "data": {
      "text/plain": [
       "<matplotlib.text.Text at 0x11f7d0b50>"
      ]
     },
     "execution_count": 226,
     "metadata": {},
     "output_type": "execute_result"
    },
    {
     "data": {
      "image/png": "[encoded data removed]",
      "text/plain": [
       "<matplotlib.figure.Figure at 0x11f765cd0>"
      ]
     },
     "metadata": {},
     "output_type": "display_data"
    }
   ],
   "source": [
    "# Seperate the grade into 3 levels Fail(0<x<10), Pass(10<=x<14), Good(14<=x<=20) \n",
    "grade_cut = pd.cut(mat_score['G3'], [-1, 9.9, 13.9, 20])\n",
    "mat_score['count'] = 1\n",
    "\n",
    "\n",
    "# check the relationship between grade and family educational support by using pivot_table \n",
    "table_gwalc = mat_score.pivot_table('count', index='Walc', columns=grade_cut, aggfunc=np.sum)\n",
    "table_gwalc\n",
    "\n",
    "\n",
    "# Draw bar plot to show the relationship\n",
    "tgwalc = table_gwalc.unstack(level=0)\n",
    "\n",
    "\n",
    "# number of students in each grade group\n",
    "tot_gwalc = np.sum(table_gwalc)*1.0\n",
    "\n",
    "plt.bar([1, 7,  13], [tgwalc[0]/tot_gwalc[0], tgwalc[5]/tot_gwalc[1], tgwalc[10]/tot_gwalc[2]], color='blue',   alpha=0.7);\n",
    "plt.bar([2, 8,  14], [tgwalc[1]/tot_gwalc[0], tgwalc[6]/tot_gwalc[1], tgwalc[11]/tot_gwalc[2]], color='green',  alpha=0.7);\n",
    "plt.bar([3, 9,  15], [tgwalc[2]/tot_gwalc[0], tgwalc[7]/tot_gwalc[1], tgwalc[12]/tot_gwalc[2]], color='red',    alpha=0.7);\n",
    "plt.bar([4, 10, 16], [tgwalc[3]/tot_gwalc[0], tgwalc[8]/tot_gwalc[1], tgwalc[13]/tot_gwalc[2]], color='grey',   alpha=0.7);\n",
    "plt.bar([5, 11, 17], [tgwalc[4]/tot_gwalc[0], tgwalc[9]/tot_gwalc[1], tgwalc[14]/tot_gwalc[2]], color='yellow', alpha=0.7);\n",
    "\n",
    "plt.legend(['1', '2', '3', '4', '5'], loc=2);\n",
    "plt.xticks([3.5, 9.5, 15.5], ['Fail','Pass', 'Good'], size='medium');\n",
    "plt.title('Weekend Alcohol Consumption')"
   ]
  },
  {
   "cell_type": "code",
   "execution_count": 230,
   "metadata": {},
   "outputs": [
    {
     "data": {
      "text/plain": [
       "<matplotlib.text.Text at 0x11ffd1350>"
      ]
     },
     "execution_count": 230,
     "metadata": {},
     "output_type": "execute_result"
    },
    {
     "data": {
      "image/png": "[encoded data removed]",
      "text/plain": [
       "<matplotlib.figure.Figure at 0x11fb99810>"
      ]
     },
     "metadata": {},
     "output_type": "display_data"
    }
   ],
   "source": [
    "# Seperate the grade into 3 levels Fail(0<x<10), Pass(10<=x<14), Good(14<=x<=20) \n",
    "grade_cut = pd.cut(mat_score['G3'], [-1, 9.9, 13.9, 20])\n",
    "mat_score['count'] = 1\n",
    "\n",
    "\n",
    "# check the relationship between grade and family educational support by using pivot_table \n",
    "table_gdalc = mat_score.pivot_table('count', index='Dalc', columns=grade_cut, aggfunc=np.sum)\n",
    "table_gdalc = table_gdalc.fillna(0)\n",
    "\n",
    "\n",
    "# Draw bar plot to show the relationship\n",
    "tgdalc = table_gdalc.unstack(level=0)\n",
    "\n",
    "\n",
    "# number of students in each grade group\n",
    "tot_gdalc = np.sum(table_gdalc)*1.0\n",
    "\n",
    "plt.bar([1, 7,  13], [tgdalc[0]/tot_gdalc[0], tgdalc[5]/tot_gdalc[1], tgdalc[10]/tot_gdalc[2]], color='blue',   alpha=0.7);\n",
    "plt.bar([2, 8,  14], [tgdalc[1]/tot_gdalc[0], tgdalc[6]/tot_gdalc[1], tgdalc[11]/tot_gdalc[2]], color='green',  alpha=0.7);\n",
    "plt.bar([3, 9,  15], [tgdalc[2]/tot_gdalc[0], tgdalc[7]/tot_gdalc[1], tgdalc[12]/tot_gdalc[2]], color='red',    alpha=0.7);\n",
    "plt.bar([4, 10, 16], [tgdalc[3]/tot_gdalc[0], tgdalc[8]/tot_gdalc[1], tgdalc[13]/tot_gdalc[2]], color='grey',   alpha=0.7);\n",
    "plt.bar([5, 11, 17], [tgdalc[4]/tot_gdalc[0], tgdalc[9]/tot_gdalc[1], tgdalc[14]/tot_gdalc[2]], color='yellow', alpha=0.7);\n",
    "\n",
    "plt.legend(['1', '2', '3', '4', '5'], loc=1);\n",
    "plt.xticks([3.5, 9.5, 15.5], ['Fail','Pass', 'Good'], size='medium');\n",
    "plt.title('Weekday Alcohol Consumption')"
   ]
  },
  {
   "cell_type": "code",
   "execution_count": 233,
   "metadata": {},
   "outputs": [
    {
     "data": {
      "text/plain": [
       "<matplotlib.text.Text at 0x1201dd090>"
      ]
     },
     "execution_count": 233,
     "metadata": {},
     "output_type": "execute_result"
    },
    {
     "data": {
      "image/png": "[encoded data removed]",
      "text/plain": [
       "<matplotlib.figure.Figure at 0x11f2466d0>"
      ]
     },
     "metadata": {},
     "output_type": "display_data"
    }
   ],
   "source": [
    "# Seperate the grade into 3 levels Fail(0<x<10), Pass(10<=x<14), Good(14<=x<=20) \n",
    "grade_cut = pd.cut(mat_score['G3'], [-1, 9.9, 13.9, 20])\n",
    "mat_score['count'] = 1\n",
    "\n",
    "\n",
    "# check the relationship between grade and family educational support by using pivot_table \n",
    "table_gall = mat_score.pivot_table('count', index='Dalc', columns=grade_cut, aggfunc=np.sum)\n",
    "table_gall = table_gdalc + table_gwalc\n",
    "\n",
    "\n",
    "# Draw bar plot to show the relationship\n",
    "tgall = table_gall.unstack(level=0)\n",
    "\n",
    "\n",
    "# number of students in each grade group\n",
    "tot_gall = np.sum(table_gall)*1.0\n",
    "\n",
    "plt.bar([1, 7,  13], [tgall[0]/tot_gall[0], tgall[5]/tot_gall[1], tgall[10]/tot_gall[2]], color='blue',   alpha=0.7);\n",
    "plt.bar([2, 8,  14], [tgall[1]/tot_gall[0], tgall[6]/tot_gall[1], tgall[11]/tot_gall[2]], color='green',  alpha=0.7);\n",
    "plt.bar([3, 9,  15], [tgall[2]/tot_gall[0], tgall[7]/tot_gall[1], tgall[12]/tot_gall[2]], color='red',    alpha=0.7);\n",
    "plt.bar([4, 10, 16], [tgall[3]/tot_gall[0], tgall[8]/tot_gall[1], tgall[13]/tot_gall[2]], color='grey',   alpha=0.7);\n",
    "plt.bar([5, 11, 17], [tgall[4]/tot_gall[0], tgall[9]/tot_gall[1], tgall[14]/tot_gall[2]], color='yellow', alpha=0.7);\n",
    "\n",
    "plt.legend(['1', '2', '3', '4', '5'], loc=1);\n",
    "plt.xticks([3.5, 9.5, 15.5], ['Fail','Pass', 'Good'], size='medium');\n",
    "plt.title('Alcohol Consumption')"
   ]
  },
  {
   "cell_type": "markdown",
   "metadata": {},
   "source": [
    "**Observation:** More students who fail have an Weekend/Weekday alcohol consumption of grades 2-5."
   ]
  },
  {
   "cell_type": "markdown",
   "metadata": {},
   "source": [
    "#### Grade - Study Time\n",
    "\n",
    "Seperate the grade of student into 3 levels ( Fail, Pass, Good ), and check the relation between grade and study time."
   ]
  },
  {
   "cell_type": "code",
   "execution_count": 236,
   "metadata": {},
   "outputs": [
    {
     "data": {
      "text/plain": [
       "<matplotlib.text.Text at 0x1204fd410>"
      ]
     },
     "execution_count": 236,
     "metadata": {},
     "output_type": "execute_result"
    },
    {
     "data": {
      "image/png": "[encoded data removed]",
      "text/plain": [
       "<matplotlib.figure.Figure at 0x11deccc90>"
      ]
     },
     "metadata": {},
     "output_type": "display_data"
    }
   ],
   "source": [
    "# Seperate the grade into 3 levels Fail(0<x<10), Pass(10<=x<14), Good(14<=x<=20) \n",
    "grade_cut = pd.cut(mat_score['G3'], [-1, 9.9, 13.9, 20])\n",
    "mat_score['count'] = 1\n",
    "\n",
    "\n",
    "# check the relationship between grade and family educational support by using pivot_table \n",
    "table_gst = mat_score.pivot_table('count', index='studytime', columns=grade_cut, aggfunc=np.sum)\n",
    "table_gst = table_gst.fillna(0)\n",
    "\n",
    "\n",
    "# Draw bar plot to show the relationship\n",
    "tgst = table_gst.unstack(level=0)\n",
    "\n",
    "\n",
    "# number of students in each grade group\n",
    "tot_gst = np.sum(table_gst)*1.0\n",
    "\n",
    "plt.bar([1, 7,  13], [tgst[0]/tot_gst[0], tgst[4]/tot_gst[1], tgst[8]/tot_gst[2]], color='blue',   alpha=0.7);\n",
    "plt.bar([2, 8,  14], [tgst[1]/tot_gst[0], tgst[5]/tot_gst[1], tgst[9]/tot_gst[2]], color='green',  alpha=0.7);\n",
    "plt.bar([3, 9,  15], [tgst[2]/tot_gst[0], tgst[6]/tot_gst[1], tgst[10]/tot_gst[2]], color='red',    alpha=0.7);\n",
    "plt.bar([4, 10, 16], [tgst[3]/tot_gst[0], tgst[7]/tot_gst[1], tgst[11]/tot_gst[2]], color='grey',   alpha=0.7);\n",
    "\n",
    "\n",
    "plt.legend(['1', '2', '3', '4', '5'], loc=1);\n",
    "plt.xticks([3.5, 9.5, 15.5], ['Fail','Pass', 'Good'], size='medium');\n",
    "plt.title('Study Time')"
   ]
  },
  {
   "cell_type": "markdown",
   "metadata": {},
   "source": [
    "**Observation** Student who passed has their study time to have scores 4 or 5."
   ]
  },
  {
   "cell_type": "markdown",
   "metadata": {},
   "source": [
    "#### Grade - Study Time\n",
    "\n",
    "Seperate the grade of student into 3 levels ( Fail, Pass, Good ), and check the relation between grade and travel time."
   ]
  },
  {
   "cell_type": "code",
   "execution_count": 237,
   "metadata": {},
   "outputs": [
    {
     "data": {
      "text/plain": [
       "<matplotlib.text.Text at 0x1207c6e10>"
      ]
     },
     "execution_count": 237,
     "metadata": {},
     "output_type": "execute_result"
    },
    {
     "data": {
      "image/png": "[encoded data removed]",
      "text/plain": [
       "<matplotlib.figure.Figure at 0x1205d5f90>"
      ]
     },
     "metadata": {},
     "output_type": "display_data"
    }
   ],
   "source": [
    "# Seperate the grade into 3 levels Fail(0<x<10), Pass(10<=x<14), Good(14<=x<=20) \n",
    "grade_cut = pd.cut(mat_score['G3'], [-1, 9.9, 13.9, 20])\n",
    "mat_score['count'] = 1\n",
    "\n",
    "\n",
    "# check the relationship between grade and family educational support by using pivot_table \n",
    "table_gtt = mat_score.pivot_table('count', index='traveltime', columns=grade_cut, aggfunc=np.sum)\n",
    "table_gtt = table_gtt.fillna(0)\n",
    "\n",
    "\n",
    "# Draw bar plot to show the relationship\n",
    "tgtt = table_gtt.unstack(level=0)\n",
    "\n",
    "\n",
    "# number of students in each grade group\n",
    "tot_gtt = np.sum(table_gtt)*1.0\n",
    "\n",
    "plt.bar([1, 7,  13], [tgtt[0]/tot_gtt[0], tgtt[4]/tot_gtt[1], tgtt[8]/tot_gtt[2]], color='blue',   alpha=0.7);\n",
    "plt.bar([2, 8,  14], [tgtt[1]/tot_gtt[0], tgtt[5]/tot_gtt[1], tgtt[9]/tot_gtt[2]], color='green',  alpha=0.7);\n",
    "plt.bar([3, 9,  15], [tgtt[2]/tot_gtt[0], tgtt[6]/tot_gtt[1], tgtt[10]/tot_gtt[2]], color='red',    alpha=0.7);\n",
    "plt.bar([4, 10, 16], [tgtt[3]/tot_gtt[0], tgtt[7]/tot_gtt[1], tgtt[11]/tot_gtt[2]], color='grey',   alpha=0.7);\n",
    "\n",
    "\n",
    "plt.legend(['1', '2', '3', '4', '5'], loc=1);\n",
    "plt.xticks([3.5, 9.5, 15.5], ['Fail','Pass', 'Good'], size='medium');\n",
    "plt.title('Travel Time')"
   ]
  },
  {
   "cell_type": "markdown",
   "metadata": {},
   "source": [
    "**Observation** Students who passed had the higher % that have a travel time score of only 1."
   ]
  },
  {
   "cell_type": "markdown",
   "metadata": {},
   "source": [
    "### Actionable Insights\n",
    "1. Avoid absences\n",
    "2. Avoid alcoholism\n",
    "3. Try to have more time to study more (maybe by lowering your travel time)\n",
    "4. Have good family relations (less time with friends and romantic relationships)\n",
    "5. Have good access to internet\n",
    "\n",
    "Student failures may be a combination of several factors. Today we only checked each information as individual entities. In the next modules, we will learn how to combine these information in order to do failure prediction."
   ]
  }
 ],
 "metadata": {
  "anaconda-cloud": {},
  "celltoolbar": "Raw Cell Format",
  "kernelspec": {
   "display_name": "Python 2",
   "language": "python",
   "name": "python2"
  },
  "language_info": {
   "codemirror_mode": {
    "name": "ipython",
    "version": 2
   },
   "file_extension": ".py",
   "mimetype": "text/x-python",
   "name": "python",
   "nbconvert_exporter": "python",
   "pygments_lexer": "ipython2",
   "version": "2.7.13"
  }
 },
 "nbformat": 4,
 "nbformat_minor": 2
}
