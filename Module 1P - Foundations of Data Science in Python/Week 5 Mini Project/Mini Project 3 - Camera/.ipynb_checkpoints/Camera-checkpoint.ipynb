{
 "cells": [
  {
   "cell_type": "markdown",
   "metadata": {},
   "source": [
    "# Week 5 - Mini-Project"
   ]
  },
  {
   "cell_type": "markdown",
   "metadata": {},
   "source": [
    "## <font color='#1A9FFF'>Case study: Camera Property</font>"
   ]
  },
  {
   "cell_type": "markdown",
   "metadata": {},
   "source": [
    "We have a dataset of about 1000 cameras with 13 properties such as weight, focal length, price, etc. These cameras belong to 12 companys such as Canon, HP, Sony, etc, each company is represented by a code, refer to the first column of the dataset.\n",
    "\n",
    "**The project aims to:**\n",
    "* For each company/camera series, what is the trend of  different properties over time?\n",
    "* For all cameras released, what is the trend of different properties over time?\n",
    "* Compare the properties of cameras produced by different companies.\n",
    "* Compare the properties of cameras produced by different companies in some years."
   ]
  },
  {
   "cell_type": "markdown",
   "metadata": {},
   "source": [
    "## <font color='#1A9FFF'>Sample Solution</font>\n",
    "#### Import Libraries and Dataset"
   ]
  },
  {
   "cell_type": "code",
   "execution_count": 2,
   "metadata": {
    "collapsed": true
   },
   "outputs": [],
   "source": [
    "import numpy  as np\n",
    "import pandas as pd              # import pandas for data wrangling\n",
    "import matplotlib.pyplot as plt  # import matplotlib for ploting\n",
    "%matplotlib inline\n",
    "\n",
    "\n",
    "# read camera dataset\n",
    "camera = pd.read_csv('Camera.csv')   # read data"
   ]
  },
  {
   "cell_type": "markdown",
   "metadata": {},
   "source": [
    "###  <font color='#1A9FFF'>1. Brief Summary of Dataset</font>\n",
    "After reading in the data, we first do some simple exploration, check available columns, data structure, and data summary.\n",
    "\n",
    "#### Check the size of the dataset"
   ]
  },
  {
   "cell_type": "code",
   "execution_count": 3,
   "metadata": {},
   "outputs": [
    {
     "name": "stdout",
     "output_type": "stream",
     "text": [
      "The size of the Camera dataset : (956, 14)\n"
     ]
    }
   ],
   "source": [
    "# Check the size of the camera datasets\n",
    "print \"The size of the Camera dataset :\", camera.shape"
   ]
  },
  {
   "cell_type": "markdown",
   "metadata": {},
   "source": [
    "As we can see, there are `956` camera models recored in this camera datasets, and each model has `14` attributes"
   ]
  },
  {
   "cell_type": "markdown",
   "metadata": {},
   "source": [
    "#### Check the data structure "
   ]
  },
  {
   "cell_type": "code",
   "execution_count": 4,
   "metadata": {},
   "outputs": [
    {
     "name": "stdout",
     "output_type": "stream",
     "text": [
      "Data structure - Camera :\n",
      "\n",
      "<class 'pandas.core.frame.DataFrame'>\n",
      "Int64Index: 956 entries, 0 to 955\n",
      "Data columns (total 14 columns):\n",
      "Company Code               956 non-null int64\n",
      "Model                      956 non-null object\n",
      "Release date               956 non-null int64\n",
      "Max resolution             956 non-null int64\n",
      "Low resolution             956 non-null int64\n",
      "Effective pixels           956 non-null int64\n",
      "Zoom wide (W)              956 non-null int64\n",
      "Zoom tele (T)              956 non-null int64\n",
      "Normal focus range         956 non-null int64\n",
      "Macro focus range          955 non-null float64\n",
      "Storage included           954 non-null float64\n",
      "Weight (inc. batteries)    954 non-null float64\n",
      "Dimensions                 954 non-null float64\n",
      "Price                      956 non-null int64\n",
      "dtypes: float64(4), int64(9), object(1)\n",
      "memory usage: 112.0+ KB\n",
      "None\n"
     ]
    }
   ],
   "source": [
    "# Check the data structure\n",
    "print \"Data structure - Camera :\\n\\n\", camera.info()"
   ]
  },
  {
   "cell_type": "markdown",
   "metadata": {},
   "source": [
    "From the dataset check we can see that, there are missing data in the involved datasets. The related attributes are `\"Macro Focus Range\"`, `\"Stroage Included\"`, `\"Weight\"`, `\"Dimensions\"`."
   ]
  },
  {
   "cell_type": "markdown",
   "metadata": {},
   "source": [
    "#### Check attributes"
   ]
  },
  {
   "cell_type": "code",
   "execution_count": 5,
   "metadata": {},
   "outputs": [
    {
     "name": "stdout",
     "output_type": "stream",
     "text": [
      "Brief data check :\n",
      "\n",
      "   Company Code                 Model  Release date  Max resolution  \\\n",
      "0             1   Canon PowerShot 350          1997             640   \n",
      "1             1   Canon PowerShot 600          1996             832   \n",
      "2             1   Canon PowerShot A10          2001            1280   \n",
      "3             1  Canon PowerShot A100          2002            1280   \n",
      "4             1   Canon PowerShot A20          2001            1600   \n",
      "5             1  Canon PowerShot A200          2002            1600   \n",
      "6             1   Canon PowerShot A30          2002            1280   \n",
      "7             1  Canon PowerShot A300          2003            2048   \n",
      "8             1  Canon PowerShot A310          2004            2048   \n",
      "9             1   Canon PowerShot A40          2002            1600   \n",
      "\n",
      "   Low resolution  Effective pixels  Zoom wide (W)  Zoom tele (T)  \\\n",
      "0               0                 0             42             42   \n",
      "1             640                 0             50             50   \n",
      "2            1024                 1             35            105   \n",
      "3            1024                 1             39             39   \n",
      "4            1024                 1             35            105   \n",
      "5            1024                 1             39             39   \n",
      "6            1024                 1             35            105   \n",
      "7            1600                 3             33             33   \n",
      "8            1600                 3             33             33   \n",
      "9            1024                 1             35            105   \n",
      "\n",
      "   Normal focus range  Macro focus range  Storage included  \\\n",
      "0                  70                  3                 2   \n",
      "1                  40                 10                 1   \n",
      "2                  76                 16                 8   \n",
      "3                  20                  5                 8   \n",
      "4                  76                 16                 8   \n",
      "5                  20                  5                 8   \n",
      "6                  76                 16                 8   \n",
      "7                  20                  5                32   \n",
      "8                   0                  5                 0   \n",
      "9                  76                 16                 8   \n",
      "\n",
      "   Weight (inc. batteries)  Dimensions  Price  \n",
      "0                      320          93    149  \n",
      "1                      460         160    139  \n",
      "2                      375         110    139  \n",
      "3                      225         110    139  \n",
      "4                      375         110    139  \n",
      "5                      225         110    139  \n",
      "6                      350         110    139  \n",
      "7                      225         111    139  \n",
      "8                      205         110    139  \n",
      "9                      350         110    139  \n"
     ]
    }
   ],
   "source": [
    "# Check the main attributes of the first 10 cameras\n",
    "\n",
    "camera10 = camera.head(10)\n",
    "print \"Brief data check :\\n\\n\", camera10"
   ]
  },
  {
   "cell_type": "markdown",
   "metadata": {},
   "source": [
    "#### Brief Summary"
   ]
  },
  {
   "cell_type": "code",
   "execution_count": 6,
   "metadata": {},
   "outputs": [
    {
     "data": {
      "text/html": [
       "<div>\n",
       "<table border=\"1\" class=\"dataframe\">\n",
       "  <thead>\n",
       "    <tr style=\"text-align: right;\">\n",
       "      <th></th>\n",
       "      <th>Company Code</th>\n",
       "      <th>Release date</th>\n",
       "      <th>Max resolution</th>\n",
       "      <th>Low resolution</th>\n",
       "      <th>Effective pixels</th>\n",
       "      <th>Zoom wide (W)</th>\n",
       "      <th>Zoom tele (T)</th>\n",
       "      <th>Normal focus range</th>\n",
       "      <th>Macro focus range</th>\n",
       "      <th>Storage included</th>\n",
       "      <th>Weight (inc. batteries)</th>\n",
       "      <th>Dimensions</th>\n",
       "      <th>Price</th>\n",
       "    </tr>\n",
       "  </thead>\n",
       "  <tbody>\n",
       "    <tr>\n",
       "      <th>count</th>\n",
       "      <td>956.000000</td>\n",
       "      <td>956.000000</td>\n",
       "      <td>956.000000</td>\n",
       "      <td>956.000000</td>\n",
       "      <td>956.000000</td>\n",
       "      <td>956.000000</td>\n",
       "      <td>956.000000</td>\n",
       "      <td>956.000000</td>\n",
       "      <td>955.000000</td>\n",
       "      <td>954.000000</td>\n",
       "      <td>954.000000</td>\n",
       "      <td>954.000000</td>\n",
       "      <td>956.000000</td>\n",
       "    </tr>\n",
       "    <tr>\n",
       "      <th>mean</th>\n",
       "      <td>6.196653</td>\n",
       "      <td>2003.770921</td>\n",
       "      <td>2514.155858</td>\n",
       "      <td>1820.148536</td>\n",
       "      <td>4.746862</td>\n",
       "      <td>32.939331</td>\n",
       "      <td>124.119247</td>\n",
       "      <td>43.805439</td>\n",
       "      <td>7.597906</td>\n",
       "      <td>18.020964</td>\n",
       "      <td>321.719078</td>\n",
       "      <td>105.885220</td>\n",
       "      <td>455.941423</td>\n",
       "    </tr>\n",
       "    <tr>\n",
       "      <th>std</th>\n",
       "      <td>3.532798</td>\n",
       "      <td>2.675237</td>\n",
       "      <td>751.369793</td>\n",
       "      <td>825.524852</td>\n",
       "      <td>2.844070</td>\n",
       "      <td>10.286599</td>\n",
       "      <td>94.851410</td>\n",
       "      <td>24.067266</td>\n",
       "      <td>8.066261</td>\n",
       "      <td>28.373716</td>\n",
       "      <td>265.760906</td>\n",
       "      <td>22.454166</td>\n",
       "      <td>767.195789</td>\n",
       "    </tr>\n",
       "    <tr>\n",
       "      <th>min</th>\n",
       "      <td>1.000000</td>\n",
       "      <td>1994.000000</td>\n",
       "      <td>0.000000</td>\n",
       "      <td>0.000000</td>\n",
       "      <td>0.000000</td>\n",
       "      <td>0.000000</td>\n",
       "      <td>0.000000</td>\n",
       "      <td>0.000000</td>\n",
       "      <td>0.000000</td>\n",
       "      <td>0.000000</td>\n",
       "      <td>0.000000</td>\n",
       "      <td>0.000000</td>\n",
       "      <td>99.000000</td>\n",
       "    </tr>\n",
       "    <tr>\n",
       "      <th>25%</th>\n",
       "      <td>3.000000</td>\n",
       "      <td>2002.000000</td>\n",
       "      <td>2048.000000</td>\n",
       "      <td>1280.000000</td>\n",
       "      <td>3.000000</td>\n",
       "      <td>35.000000</td>\n",
       "      <td>100.000000</td>\n",
       "      <td>30.000000</td>\n",
       "      <td>3.000000</td>\n",
       "      <td>8.000000</td>\n",
       "      <td>180.000000</td>\n",
       "      <td>92.000000</td>\n",
       "      <td>149.000000</td>\n",
       "    </tr>\n",
       "    <tr>\n",
       "      <th>50%</th>\n",
       "      <td>6.000000</td>\n",
       "      <td>2004.000000</td>\n",
       "      <td>2576.000000</td>\n",
       "      <td>2048.000000</td>\n",
       "      <td>5.000000</td>\n",
       "      <td>36.000000</td>\n",
       "      <td>110.000000</td>\n",
       "      <td>50.000000</td>\n",
       "      <td>6.000000</td>\n",
       "      <td>16.000000</td>\n",
       "      <td>225.000000</td>\n",
       "      <td>101.000000</td>\n",
       "      <td>199.000000</td>\n",
       "    </tr>\n",
       "    <tr>\n",
       "      <th>75%</th>\n",
       "      <td>9.000000</td>\n",
       "      <td>2006.000000</td>\n",
       "      <td>3072.000000</td>\n",
       "      <td>2560.000000</td>\n",
       "      <td>7.000000</td>\n",
       "      <td>38.000000</td>\n",
       "      <td>117.000000</td>\n",
       "      <td>60.000000</td>\n",
       "      <td>10.000000</td>\n",
       "      <td>22.000000</td>\n",
       "      <td>350.000000</td>\n",
       "      <td>114.000000</td>\n",
       "      <td>399.000000</td>\n",
       "    </tr>\n",
       "    <tr>\n",
       "      <th>max</th>\n",
       "      <td>12.000000</td>\n",
       "      <td>2007.000000</td>\n",
       "      <td>5616.000000</td>\n",
       "      <td>4992.000000</td>\n",
       "      <td>21.000000</td>\n",
       "      <td>52.000000</td>\n",
       "      <td>518.000000</td>\n",
       "      <td>120.000000</td>\n",
       "      <td>85.000000</td>\n",
       "      <td>450.000000</td>\n",
       "      <td>1860.000000</td>\n",
       "      <td>240.000000</td>\n",
       "      <td>7999.000000</td>\n",
       "    </tr>\n",
       "  </tbody>\n",
       "</table>\n",
       "</div>"
      ],
      "text/plain": [
       "       Company Code  Release date  Max resolution  Low resolution  \\\n",
       "count    956.000000    956.000000      956.000000      956.000000   \n",
       "mean       6.196653   2003.770921     2514.155858     1820.148536   \n",
       "std        3.532798      2.675237      751.369793      825.524852   \n",
       "min        1.000000   1994.000000        0.000000        0.000000   \n",
       "25%        3.000000   2002.000000     2048.000000     1280.000000   \n",
       "50%        6.000000   2004.000000     2576.000000     2048.000000   \n",
       "75%        9.000000   2006.000000     3072.000000     2560.000000   \n",
       "max       12.000000   2007.000000     5616.000000     4992.000000   \n",
       "\n",
       "       Effective pixels  Zoom wide (W)  Zoom tele (T)  Normal focus range  \\\n",
       "count        956.000000     956.000000     956.000000          956.000000   \n",
       "mean           4.746862      32.939331     124.119247           43.805439   \n",
       "std            2.844070      10.286599      94.851410           24.067266   \n",
       "min            0.000000       0.000000       0.000000            0.000000   \n",
       "25%            3.000000      35.000000     100.000000           30.000000   \n",
       "50%            5.000000      36.000000     110.000000           50.000000   \n",
       "75%            7.000000      38.000000     117.000000           60.000000   \n",
       "max           21.000000      52.000000     518.000000          120.000000   \n",
       "\n",
       "       Macro focus range  Storage included  Weight (inc. batteries)  \\\n",
       "count         955.000000        954.000000               954.000000   \n",
       "mean            7.597906         18.020964               321.719078   \n",
       "std             8.066261         28.373716               265.760906   \n",
       "min             0.000000          0.000000                 0.000000   \n",
       "25%             3.000000          8.000000               180.000000   \n",
       "50%             6.000000         16.000000               225.000000   \n",
       "75%            10.000000         22.000000               350.000000   \n",
       "max            85.000000        450.000000              1860.000000   \n",
       "\n",
       "       Dimensions        Price  \n",
       "count  954.000000   956.000000  \n",
       "mean   105.885220   455.941423  \n",
       "std     22.454166   767.195789  \n",
       "min      0.000000    99.000000  \n",
       "25%     92.000000   149.000000  \n",
       "50%    101.000000   199.000000  \n",
       "75%    114.000000   399.000000  \n",
       "max    240.000000  7999.000000  "
      ]
     },
     "execution_count": 6,
     "metadata": {},
     "output_type": "execute_result"
    }
   ],
   "source": [
    "# Briefly summarize the distribution of the attributes\n",
    "camera.describe()"
   ]
  },
  {
   "cell_type": "markdown",
   "metadata": {},
   "source": [
    "###  <font color='#1A9FFF'>2. Check the Data</font>\n",
    "Check the data to see whether there is any wrong data in the dataset.\n",
    "\n",
    "As we can see from the Brief Summary, the data listed is in good shape. Therefore we do not perform any data checking here."
   ]
  },
  {
   "cell_type": "markdown",
   "metadata": {},
   "source": [
    "###  <font color='#1A9FFF'>3. Data Observation</font>\n",
    "#### Campany Distribution"
   ]
  },
  {
   "cell_type": "code",
   "execution_count": 7,
   "metadata": {},
   "outputs": [
    {
     "data": {
      "text/html": [
       "<div>\n",
       "<table border=\"1\" class=\"dataframe\">\n",
       "  <thead>\n",
       "    <tr style=\"text-align: right;\">\n",
       "      <th></th>\n",
       "      <th>Company</th>\n",
       "      <th>Size</th>\n",
       "    </tr>\n",
       "  </thead>\n",
       "  <tbody>\n",
       "    <tr>\n",
       "      <th>0</th>\n",
       "      <td>Canon</td>\n",
       "      <td>115</td>\n",
       "    </tr>\n",
       "    <tr>\n",
       "      <th>1</th>\n",
       "      <td>Casio</td>\n",
       "      <td>63</td>\n",
       "    </tr>\n",
       "    <tr>\n",
       "      <th>2</th>\n",
       "      <td>FujiFilm</td>\n",
       "      <td>99</td>\n",
       "    </tr>\n",
       "    <tr>\n",
       "      <th>3</th>\n",
       "      <td>HP</td>\n",
       "      <td>46</td>\n",
       "    </tr>\n",
       "    <tr>\n",
       "      <th>4</th>\n",
       "      <td>Kodak</td>\n",
       "      <td>102</td>\n",
       "    </tr>\n",
       "    <tr>\n",
       "      <th>5</th>\n",
       "      <td>Nikon</td>\n",
       "      <td>90</td>\n",
       "    </tr>\n",
       "    <tr>\n",
       "      <th>6</th>\n",
       "      <td>Olympus</td>\n",
       "      <td>122</td>\n",
       "    </tr>\n",
       "    <tr>\n",
       "      <th>7</th>\n",
       "      <td>Panasonic</td>\n",
       "      <td>55</td>\n",
       "    </tr>\n",
       "    <tr>\n",
       "      <th>8</th>\n",
       "      <td>Pentax</td>\n",
       "      <td>68</td>\n",
       "    </tr>\n",
       "    <tr>\n",
       "      <th>9</th>\n",
       "      <td>Ricoh</td>\n",
       "      <td>26</td>\n",
       "    </tr>\n",
       "    <tr>\n",
       "      <th>10</th>\n",
       "      <td>Samsung</td>\n",
       "      <td>54</td>\n",
       "    </tr>\n",
       "    <tr>\n",
       "      <th>11</th>\n",
       "      <td>Sony</td>\n",
       "      <td>116</td>\n",
       "    </tr>\n",
       "  </tbody>\n",
       "</table>\n",
       "</div>"
      ],
      "text/plain": [
       "      Company  Size\n",
       "0       Canon   115\n",
       "1       Casio    63\n",
       "2    FujiFilm    99\n",
       "3          HP    46\n",
       "4       Kodak   102\n",
       "5       Nikon    90\n",
       "6     Olympus   122\n",
       "7   Panasonic    55\n",
       "8      Pentax    68\n",
       "9       Ricoh    26\n",
       "10    Samsung    54\n",
       "11       Sony   116"
      ]
     },
     "execution_count": 7,
     "metadata": {},
     "output_type": "execute_result"
    }
   ],
   "source": [
    "# get data of 12 companies\n",
    "cam_canon = camera[ camera['Company Code'] == 1 ].copy()\n",
    "cam_casio = camera[ camera['Company Code'] == 2 ].copy()\n",
    "cam_fujif = camera[ camera['Company Code'] == 3 ].copy()\n",
    "cam_hp    = camera[ camera['Company Code'] == 4 ].copy()\n",
    "cam_kodak = camera[ camera['Company Code'] == 5 ].copy()\n",
    "cam_nikon = camera[ camera['Company Code'] == 6 ].copy()\n",
    "cam_olymp = camera[ camera['Company Code'] == 7 ].copy()\n",
    "cam_panas = camera[ camera['Company Code'] == 8 ].copy()\n",
    "cam_penta = camera[ camera['Company Code'] == 9 ].copy()\n",
    "cam_ricoh = camera[ camera['Company Code'] == 10 ].copy()\n",
    "cam_samsu = camera[ camera['Company Code'] == 11 ].copy()\n",
    "cam_sony  = camera[ camera['Company Code'] == 12 ].copy()\n",
    "\n",
    "\n",
    "# get the number of camera models of each company\n",
    "s_canon = cam_canon.shape[0]\n",
    "s_casio = cam_casio.shape[0]\n",
    "s_fujif = cam_fujif.shape[0]\n",
    "s_hp    = cam_hp.shape[0]\n",
    "s_kodak = cam_kodak.shape[0]\n",
    "s_nikon = cam_nikon.shape[0]\n",
    "s_olymp = cam_olymp.shape[0]\n",
    "s_panas = cam_panas.shape[0]\n",
    "s_penta = cam_penta.shape[0]\n",
    "s_ricoh = cam_ricoh.shape[0]\n",
    "s_samsu = cam_samsu.shape[0]\n",
    "s_sony  = cam_sony.shape[0]\n",
    "\n",
    "\n",
    "\n",
    "# create a dictionary recording the number of models of each company\n",
    "dictionary = {\n",
    "                  'Company' : pd.Series(['Canon', 'Casio', 'FujiFilm', 'HP', 'Kodak', 'Nikon', 'Olympus', 'Panasonic', 'Pentax', 'Ricoh', 'Samsung', 'Sony']),\n",
    "                  'Size'    : pd.Series([s_canon,  s_casio, s_fujif,    s_hp, s_kodak, s_nikon, s_olymp,   s_panas,     s_penta,  s_ricoh, s_samsu,   s_sony]), \n",
    "             }\n",
    "df_s = pd.DataFrame(dictionary)\n",
    "df_s"
   ]
  },
  {
   "cell_type": "markdown",
   "metadata": {},
   "source": [
    "###  <font color='#1A9FFF'>4. Exploratory Data Analysis</font>"
   ]
  },
  {
   "cell_type": "markdown",
   "metadata": {},
   "source": [
    "#### Check the trend of produce over time for different companies"
   ]
  },
  {
   "cell_type": "code",
   "execution_count": 8,
   "metadata": {},
   "outputs": [
    {
     "name": "stdout",
     "output_type": "stream",
     "text": [
      "Release date\n",
      "1996     1\n",
      "1997     1\n",
      "1998     2\n",
      "1999     3\n",
      "2000     4\n",
      "2001     9\n",
      "2002    11\n",
      "2003    11\n",
      "2004    19\n",
      "2005    17\n",
      "2006    18\n",
      "2007    19\n",
      "dtype: int64\n"
     ]
    },
    {
     "data": {
      "text/plain": [
       "<matplotlib.text.Text at 0x10ab01790>"
      ]
     },
     "execution_count": 8,
     "metadata": {},
     "output_type": "execute_result"
    },
    {
     "data": {
      "image/png": "[encoded data removed]",
      "text/plain": [
       "<matplotlib.figure.Figure at 0x10ac07dd0>"
      ]
     },
     "metadata": {},
     "output_type": "display_data"
    }
   ],
   "source": [
    "# Trend of product of Canon\n",
    "trend_canon = cam_canon.groupby('Release date').size()\n",
    "print trend_canon\n",
    "\n",
    "\n",
    "# draw bar plot\n",
    "trend_canon.plot.bar(alpha=0.5)\n",
    "plt.ylabel('Number of Products')\n",
    "plt.title('Trend of Canon')"
   ]
  },
  {
   "cell_type": "code",
   "execution_count": 9,
   "metadata": {},
   "outputs": [
    {
     "name": "stdout",
     "output_type": "stream",
     "text": [
      "Release date\n",
      "1996     2\n",
      "1997     2\n",
      "1998     3\n",
      "1999     6\n",
      "2000    10\n",
      "2001    10\n",
      "2002     8\n",
      "2003     9\n",
      "2004    13\n",
      "2005    19\n",
      "2006    20\n",
      "2007    20\n",
      "dtype: int64\n"
     ]
    },
    {
     "data": {
      "text/plain": [
       "<matplotlib.text.Text at 0x10ac4fbd0>"
      ]
     },
     "execution_count": 9,
     "metadata": {},
     "output_type": "execute_result"
    },
    {
     "data": {
      "image/png": "[encoded data removed]",
      "text/plain": [
       "<matplotlib.figure.Figure at 0x10aaa1bd0>"
      ]
     },
     "metadata": {},
     "output_type": "display_data"
    }
   ],
   "source": [
    "# Trend of product of Olympus\n",
    "trend_olymp = cam_olymp.groupby('Release date').size()\n",
    "print trend_olymp\n",
    "\n",
    "\n",
    "# draw bar plot\n",
    "trend_olymp.plot.bar(alpha=0.5)\n",
    "plt.ylabel('Number of Products')\n",
    "plt.title('Trend of Olympus')"
   ]
  },
  {
   "cell_type": "code",
   "execution_count": 10,
   "metadata": {},
   "outputs": [
    {
     "name": "stdout",
     "output_type": "stream",
     "text": [
      "Release date\n",
      "1998     4\n",
      "1999     6\n",
      "2000    10\n",
      "2001    14\n",
      "2002    13\n",
      "2003    15\n",
      "2004    12\n",
      "2005    14\n",
      "2006    12\n",
      "2007    16\n",
      "dtype: int64\n"
     ]
    },
    {
     "data": {
      "text/plain": [
       "<matplotlib.text.Text at 0x10ad913d0>"
      ]
     },
     "execution_count": 10,
     "metadata": {},
     "output_type": "execute_result"
    },
    {
     "data": {
      "image/png": "[encoded data removed]",
      "text/plain": [
       "<matplotlib.figure.Figure at 0x10aa99ed0>"
      ]
     },
     "metadata": {},
     "output_type": "display_data"
    }
   ],
   "source": [
    "# Trend of product of Sony\n",
    "trend_sony = cam_sony.groupby('Release date').size()\n",
    "print trend_sony\n",
    "\n",
    "\n",
    "# draw bar plot\n",
    "trend_sony.plot.bar(alpha=0.5)\n",
    "plt.ylabel('Number of Products')\n",
    "plt.title('Trend of Sony')"
   ]
  },
  {
   "cell_type": "markdown",
   "metadata": {},
   "source": [
    "**Observation**: The trend of (mean) price for different companies are different. For some companies, the price was decreasing. For some others, the (mean) price fluctuated over time."
   ]
  },
  {
   "cell_type": "markdown",
   "metadata": {},
   "source": [
    "#### Check the trend of price over time for different companies"
   ]
  },
  {
   "cell_type": "code",
   "execution_count": 60,
   "metadata": {},
   "outputs": [
    {
     "name": "stdout",
     "output_type": "stream",
     "text": [
      "Release date\n",
      "1998    1086.500000\n",
      "1999     820.666667\n",
      "2000     705.000000\n",
      "2001     742.571429\n",
      "2002     636.692308\n",
      "2003     444.333333\n",
      "2004     354.000000\n",
      "2005     320.428571\n",
      "2006     316.500000\n",
      "2007     362.125000\n",
      "Name: Price, dtype: float64\n"
     ]
    },
    {
     "data": {
      "text/plain": [
       "<matplotlib.text.Text at 0x113d2f390>"
      ]
     },
     "execution_count": 60,
     "metadata": {},
     "output_type": "execute_result"
    },
    {
     "data": {
      "image/png": "[encoded data removed]",
      "text/plain": [
       "<matplotlib.figure.Figure at 0x113cbdd10>"
      ]
     },
     "metadata": {},
     "output_type": "display_data"
    }
   ],
   "source": [
    "# Trend of prices of Sony\n",
    "trend_price_sony = cam_sony.groupby('Release date')['Price'].mean()\n",
    "print trend_price_sony\n",
    "\n",
    "\n",
    "# draw bar plot\n",
    "trend_price_sony.plot.bar(alpha=0.5)\n",
    "plt.ylabel('Average Price')\n",
    "plt.title('Trend of Price of Sony')"
   ]
  },
  {
   "cell_type": "code",
   "execution_count": 61,
   "metadata": {},
   "outputs": [
    {
     "name": "stdout",
     "output_type": "stream",
     "text": [
      "Release date\n",
      "1997    169.000000\n",
      "1998    169.000000\n",
      "1999    171.857143\n",
      "2000    387.571429\n",
      "2001    172.000000\n",
      "2002    464.833333\n",
      "2003    187.000000\n",
      "2004    385.000000\n",
      "2005    189.000000\n",
      "2006    312.846154\n",
      "2007    331.307692\n",
      "Name: Price, dtype: float64\n"
     ]
    },
    {
     "data": {
      "text/plain": [
       "<matplotlib.text.Text at 0x113fb1a50>"
      ]
     },
     "execution_count": 61,
     "metadata": {},
     "output_type": "execute_result"
    },
    {
     "data": {
      "image/png": "[encoded data removed]",
      "text/plain": [
       "<matplotlib.figure.Figure at 0x113e627d0>"
      ]
     },
     "metadata": {},
     "output_type": "display_data"
    }
   ],
   "source": [
    "# Trend of prices of FujiFile\n",
    "trend_price_fujif = cam_fujif.groupby('Release date')['Price'].mean()\n",
    "print trend_price_fujif\n",
    "\n",
    "\n",
    "# draw bar plot\n",
    "trend_price_fujif.plot.bar(alpha=0.5)\n",
    "plt.ylabel('Average Price')\n",
    "plt.title('Trend of Price of FujiFilm')"
   ]
  },
  {
   "cell_type": "code",
   "execution_count": 63,
   "metadata": {},
   "outputs": [
    {
     "name": "stdout",
     "output_type": "stream",
     "text": [
      "Release date\n",
      "2002    246.500000\n",
      "2003    229.000000\n",
      "2004    239.769231\n",
      "2005    239.000000\n",
      "2006    244.714286\n",
      "2007    159.952381\n",
      "Name: Price, dtype: float64\n"
     ]
    },
    {
     "data": {
      "text/plain": [
       "<matplotlib.text.Text at 0x11408bb10>"
      ]
     },
     "execution_count": 63,
     "metadata": {},
     "output_type": "execute_result"
    },
    {
     "data": {
      "image/png": "[encoded data removed]",
      "text/plain": [
       "<matplotlib.figure.Figure at 0x113f9e650>"
      ]
     },
     "metadata": {},
     "output_type": "display_data"
    }
   ],
   "source": [
    "# Trend of prices of Samsung\n",
    "trend_price_samsung = cam_samsu.groupby('Release date')['Price'].mean()\n",
    "print trend_price_samsung\n",
    "\n",
    "\n",
    "# draw bar plot\n",
    "trend_price_samsung.plot.bar(alpha=0.5)\n",
    "plt.ylabel('Average Price')\n",
    "plt.title('Trend of Price of Samsung')"
   ]
  },
  {
   "cell_type": "markdown",
   "metadata": {},
   "source": [
    "**Observation**: The trend of (mean) price for different companies are different. For some companies, the price was decreasing. For some others, the (mean) price fluctuated over time."
   ]
  },
  {
   "cell_type": "markdown",
   "metadata": {},
   "source": [
    "### Check the trend of some other properties over time for different companies"
   ]
  },
  {
   "cell_type": "code",
   "execution_count": 67,
   "metadata": {},
   "outputs": [
    {
     "name": "stdout",
     "output_type": "stream",
     "text": [
      "Release date\n",
      "1994    1524.000000\n",
      "1995    3060.000000\n",
      "1998    1611.428571\n",
      "1999    1716.444444\n",
      "2000    1720.000000\n",
      "2001    1825.000000\n",
      "2002    2336.000000\n",
      "2003    2069.625000\n",
      "2004    2562.538462\n",
      "2005    2549.066667\n",
      "2006    2862.230769\n",
      "2007    3191.076923\n",
      "Name: Max resolution, dtype: float64\n"
     ]
    },
    {
     "data": {
      "text/plain": [
       "<matplotlib.text.Text at 0x1144d1750>"
      ]
     },
     "execution_count": 67,
     "metadata": {},
     "output_type": "execute_result"
    },
    {
     "data": {
      "image/png": "[encoded data removed]",
      "text/plain": [
       "<matplotlib.figure.Figure at 0x11436c2d0>"
      ]
     },
     "metadata": {},
     "output_type": "display_data"
    }
   ],
   "source": [
    "# Trend of Max Resolution of Kodak\n",
    "trend_maxr_kodak = cam_kodak.groupby('Release date')['Max resolution'].mean()\n",
    "print trend_maxr_kodak\n",
    "\n",
    "\n",
    "# draw bar plot\n",
    "trend_maxr_kodak.plot.bar(alpha=0.5)\n",
    "plt.ylabel('Average Max Resolution')\n",
    "plt.title('Trend of Max Resolution of Kodak')"
   ]
  },
  {
   "cell_type": "code",
   "execution_count": 68,
   "metadata": {},
   "outputs": [
    {
     "name": "stdout",
     "output_type": "stream",
     "text": [
      "Release date\n",
      "1997     576.000000\n",
      "1998    1194.666667\n",
      "1999    1700.000000\n",
      "2000    2048.000000\n",
      "2001    2210.666667\n",
      "2002    2198.857143\n",
      "2003    2128.000000\n",
      "2004    2743.272727\n",
      "2005    2841.000000\n",
      "2006    3040.000000\n",
      "2007    3344.000000\n",
      "Name: Max resolution, dtype: float64\n"
     ]
    },
    {
     "data": {
      "text/plain": [
       "<matplotlib.text.Text at 0x11458e390>"
      ]
     },
     "execution_count": 68,
     "metadata": {},
     "output_type": "execute_result"
    },
    {
     "data": {
      "image/png": "[encoded data removed]",
      "text/plain": [
       "<matplotlib.figure.Figure at 0x1144a2950>"
      ]
     },
     "metadata": {},
     "output_type": "display_data"
    }
   ],
   "source": [
    "# Trend of Max Resolution of Nikon\n",
    "trend_maxr_nikon = cam_nikon.groupby('Release date')['Max resolution'].mean()\n",
    "print trend_maxr_nikon\n",
    "\n",
    "\n",
    "# draw bar plot\n",
    "trend_maxr_nikon.plot.bar(alpha=0.5)\n",
    "plt.ylabel('Average Max Resolution')\n",
    "plt.title('Trend of Max Resolution of Nikon')"
   ]
  },
  {
   "cell_type": "code",
   "execution_count": 69,
   "metadata": {},
   "outputs": [
    {
     "name": "stdout",
     "output_type": "stream",
     "text": [
      "Release date\n",
      "1994      0.000000\n",
      "1995      0.000000\n",
      "1998     38.571429\n",
      "1999     56.000000\n",
      "2000     48.666667\n",
      "2001     39.000000\n",
      "2002     68.500000\n",
      "2003    142.125000\n",
      "2004    105.769231\n",
      "2005    163.333333\n",
      "2006    227.000000\n",
      "2007    144.076923\n",
      "Name: Zoom tele (T), dtype: float64\n"
     ]
    },
    {
     "data": {
      "text/plain": [
       "<matplotlib.text.Text at 0x114734f90>"
      ]
     },
     "execution_count": 69,
     "metadata": {},
     "output_type": "execute_result"
    },
    {
     "data": {
      "image/png": "[encoded data removed]",
      "text/plain": [
       "<matplotlib.figure.Figure at 0x1145c2990>"
      ]
     },
     "metadata": {},
     "output_type": "display_data"
    }
   ],
   "source": [
    "# Trend of Zoom of Kodak\n",
    "trend_zoom_kodak = cam_kodak.groupby('Release date')['Zoom tele (T)'].mean()\n",
    "print trend_zoom_kodak\n",
    "\n",
    "\n",
    "# draw bar plot\n",
    "trend_zoom_kodak.plot.bar(alpha=0.5)\n",
    "plt.ylabel('Average Zoom')\n",
    "plt.title('Trend of Zoom of Kodak')"
   ]
  },
  {
   "cell_type": "code",
   "execution_count": 70,
   "metadata": {},
   "outputs": [
    {
     "name": "stdout",
     "output_type": "stream",
     "text": [
      "Release date\n",
      "1         1.000000\n",
      "1996    320.000000\n",
      "1997    245.000000\n",
      "1998    386.666667\n",
      "1999    353.333333\n",
      "2000    481.300000\n",
      "2001    364.000000\n",
      "2002    327.500000\n",
      "2003    340.555556\n",
      "2004    296.384615\n",
      "2005    231.789474\n",
      "2006    222.800000\n",
      "2007    236.850000\n",
      "Name: Weight (inc. batteries), dtype: float64\n"
     ]
    },
    {
     "data": {
      "text/plain": [
       "<matplotlib.text.Text at 0x1148e3b10>"
      ]
     },
     "execution_count": 70,
     "metadata": {},
     "output_type": "execute_result"
    },
    {
     "data": {
      "image/png": "[encoded data removed]",
      "text/plain": [
       "<matplotlib.figure.Figure at 0x114713390>"
      ]
     },
     "metadata": {},
     "output_type": "display_data"
    }
   ],
   "source": [
    "# Trend of Weight of Olympus\n",
    "trend_weight_olymp = cam_olymp.groupby('Release date')['Weight (inc. batteries)'].mean()\n",
    "print trend_weight_olymp\n",
    "\n",
    "\n",
    "# draw bar plot\n",
    "trend_weight_olymp.plot.bar(alpha=0.5)\n",
    "plt.ylabel('Average Weight')\n",
    "plt.title('Trend of Weight of Olympus')"
   ]
  },
  {
   "cell_type": "code",
   "execution_count": 71,
   "metadata": {},
   "outputs": [
    {
     "name": "stdout",
     "output_type": "stream",
     "text": [
      "Release date\n",
      "2000    10.000000\n",
      "2001    19.333333\n",
      "2002    10.750000\n",
      "2003     4.333333\n",
      "2004     4.500000\n",
      "2005     4.692308\n",
      "2006     5.600000\n",
      "2007     8.100000\n",
      "Name: Macro focus range, dtype: float64\n"
     ]
    },
    {
     "data": {
      "text/plain": [
       "<matplotlib.text.Text at 0x114aa1490>"
      ]
     },
     "execution_count": 71,
     "metadata": {},
     "output_type": "execute_result"
    },
    {
     "data": {
      "image/png": "[encoded data removed]",
      "text/plain": [
       "<matplotlib.figure.Figure at 0x114a1dc90>"
      ]
     },
     "metadata": {},
     "output_type": "display_data"
    }
   ],
   "source": [
    "# Trend of Macro Focus Range of Pentax\n",
    "trend_mfrange_penta = cam_penta.groupby('Release date')['Macro focus range'].mean()\n",
    "print trend_mfrange_penta\n",
    "\n",
    "\n",
    "# draw bar plot\n",
    "trend_mfrange_penta.plot.bar(alpha=0.5)\n",
    "plt.ylabel('Average Macro Focus Range')\n",
    "plt.title('Trend of Macro Focus Range of Pentax')"
   ]
  },
  {
   "cell_type": "code",
   "execution_count": 72,
   "metadata": {},
   "outputs": [
    {
     "name": "stdout",
     "output_type": "stream",
     "text": [
      "Release date\n",
      "1        1.000000\n",
      "1996     4.000000\n",
      "1997     3.000000\n",
      "1998     6.666667\n",
      "1999    12.000000\n",
      "2000     9.600000\n",
      "2001    10.500000\n",
      "2002    18.000000\n",
      "2003    17.777778\n",
      "2004    20.615385\n",
      "2005    16.684211\n",
      "2006    15.650000\n",
      "2007    21.000000\n",
      "Name: Storage included, dtype: float64\n"
     ]
    },
    {
     "data": {
      "text/plain": [
       "<matplotlib.text.Text at 0x114053850>"
      ]
     },
     "execution_count": 72,
     "metadata": {},
     "output_type": "execute_result"
    },
    {
     "data": {
      "image/png": "[encoded data removed]",
      "text/plain": [
       "<matplotlib.figure.Figure at 0x114bbf110>"
      ]
     },
     "metadata": {},
     "output_type": "display_data"
    }
   ],
   "source": [
    "# Trend of Storage of Olympus\n",
    "trend_storage_olymp = cam_olymp.groupby('Release date')['Storage included'].mean()\n",
    "print trend_storage_olymp\n",
    "\n",
    "\n",
    "# draw bar plot\n",
    "trend_storage_olymp.plot.bar(alpha=0.5)\n",
    "plt.ylabel('Average Storage')\n",
    "plt.title('Trend of Storage of Olympus')"
   ]
  },
  {
   "cell_type": "markdown",
   "metadata": {},
   "source": [
    "**Observation:** the storage included increased, the weight of batteries decreased. Some properties of cameras were becoming better over time."
   ]
  },
  {
   "cell_type": "markdown",
   "metadata": {},
   "source": [
    "#### Data analysis for all companies "
   ]
  },
  {
   "cell_type": "code",
   "execution_count": 73,
   "metadata": {},
   "outputs": [
    {
     "name": "stdout",
     "output_type": "stream",
     "text": [
      "Release date\n",
      "1994     0.000000\n",
      "1995     0.000000\n",
      "1996     3.250000\n",
      "1997     2.428571\n",
      "1998     4.851852\n",
      "1999     7.404762\n",
      "2000    10.735849\n",
      "2001    11.394366\n",
      "2002    16.607595\n",
      "2003    16.000000\n",
      "2004    18.684211\n",
      "2005    20.366197\n",
      "2006    18.317241\n",
      "2007    28.425926\n",
      "Name: Storage included, dtype: float64\n"
     ]
    },
    {
     "data": {
      "text/plain": [
       "<matplotlib.text.Text at 0x114dbc790>"
      ]
     },
     "execution_count": 73,
     "metadata": {},
     "output_type": "execute_result"
    },
    {
     "data": {
      "image/png": "[encoded data removed]",
      "text/plain": [
       "<matplotlib.figure.Figure at 0x114d41110>"
      ]
     },
     "metadata": {},
     "output_type": "display_data"
    }
   ],
   "source": [
    "# Trend of Storage\n",
    "trend_storage = camera.groupby('Release date')['Storage included'].mean()\n",
    "print trend_storage\n",
    "\n",
    "\n",
    "# draw bar plot\n",
    "trend_storage.plot.bar(alpha=0.5)\n",
    "plt.ylabel('Average Storage')\n",
    "plt.title('Trend of Storage')"
   ]
  },
  {
   "cell_type": "code",
   "execution_count": 74,
   "metadata": {},
   "outputs": [
    {
     "name": "stdout",
     "output_type": "stream",
     "text": [
      "Release date\n",
      "1994    129.000000\n",
      "1995    129.000000\n",
      "1996    554.000000\n",
      "1997    453.285714\n",
      "1998    422.222222\n",
      "1999    371.738095\n",
      "2000    513.660377\n",
      "2001    706.535211\n",
      "2002    519.810127\n",
      "2003    389.091954\n",
      "2004    476.842105\n",
      "2005    448.507042\n",
      "2006    361.191781\n",
      "2007    436.036810\n",
      "Name: Price, dtype: float64\n"
     ]
    },
    {
     "data": {
      "text/plain": [
       "<matplotlib.text.Text at 0x114f81650>"
      ]
     },
     "execution_count": 74,
     "metadata": {},
     "output_type": "execute_result"
    },
    {
     "data": {
      "image/png": "[encoded data removed]",
      "text/plain": [
       "<matplotlib.figure.Figure at 0x114ebfd50>"
      ]
     },
     "metadata": {},
     "output_type": "display_data"
    }
   ],
   "source": [
    "# Trend of Price\n",
    "trend_price = camera.groupby('Release date')['Price'].mean()\n",
    "print trend_price\n",
    "\n",
    "\n",
    "# draw bar plot\n",
    "trend_price.plot.bar(alpha=0.5)\n",
    "plt.ylabel('Average Price')\n",
    "plt.title('Trend of Price')"
   ]
  },
  {
   "cell_type": "code",
   "execution_count": 76,
   "metadata": {},
   "outputs": [
    {
     "name": "stdout",
     "output_type": "stream",
     "text": [
      "Release date\n",
      "1994    170.000000\n",
      "1995    170.000000\n",
      "1996    153.000000\n",
      "1997    108.714286\n",
      "1998    131.851852\n",
      "1999    124.642857\n",
      "2000    111.320755\n",
      "2001    117.528169\n",
      "2002    107.632911\n",
      "2003    103.109195\n",
      "2004    101.984962\n",
      "2005    100.795775\n",
      "2006    101.510345\n",
      "2007     99.953704\n",
      "Name: Dimensions, dtype: float64\n"
     ]
    },
    {
     "data": {
      "text/plain": [
       "<matplotlib.text.Text at 0x115169cd0>"
      ]
     },
     "execution_count": 76,
     "metadata": {},
     "output_type": "execute_result"
    },
    {
     "data": {
      "image/png": "[encoded data removed]",
      "text/plain": [
       "<matplotlib.figure.Figure at 0x115105090>"
      ]
     },
     "metadata": {},
     "output_type": "display_data"
    }
   ],
   "source": [
    "# Trend of Dimension\n",
    "trend_dim = camera.groupby('Release date')['Dimensions'].mean()\n",
    "print trend_dim\n",
    "\n",
    "\n",
    "# draw bar plot\n",
    "trend_dim.plot.bar(alpha=0.5)\n",
    "plt.ylabel('Average Dimensions')\n",
    "plt.title('Trend of Dimensions')"
   ]
  },
  {
   "cell_type": "code",
   "execution_count": 77,
   "metadata": {},
   "outputs": [
    {
     "name": "stdout",
     "output_type": "stream",
     "text": [
      "Release date\n",
      "1994    1.000000\n",
      "1995    6.000000\n",
      "1996    0.000000\n",
      "1997    0.285714\n",
      "1998    0.888889\n",
      "1999    1.261905\n",
      "2000    1.811321\n",
      "2001    2.056338\n",
      "2002    2.696203\n",
      "2003    3.471264\n",
      "2004    4.661654\n",
      "2005    5.528169\n",
      "2006    6.684932\n",
      "2007    8.061350\n",
      "Name: Effective pixels, dtype: float64\n"
     ]
    },
    {
     "data": {
      "text/plain": [
       "<matplotlib.text.Text at 0x1153539d0>"
      ]
     },
     "execution_count": 77,
     "metadata": {},
     "output_type": "execute_result"
    },
    {
     "data": {
      "image/png": "[encoded data removed]",
      "text/plain": [
       "<matplotlib.figure.Figure at 0x1152dd1d0>"
      ]
     },
     "metadata": {},
     "output_type": "display_data"
    }
   ],
   "source": [
    "# Trend of Effective Pixel\n",
    "trend_effPix = camera.groupby('Release date')['Effective pixels'].mean()\n",
    "print trend_effPix\n",
    "\n",
    "\n",
    "# draw bar plot\n",
    "trend_effPix.plot.bar(alpha=0.5)\n",
    "plt.ylabel('Average Effective Pixels')\n",
    "plt.title('Trend of Effective Pixels')"
   ]
  },
  {
   "cell_type": "markdown",
   "metadata": {},
   "source": [
    "**Observation:** some properties of cameras were becoming better over time."
   ]
  },
  {
   "cell_type": "markdown",
   "metadata": {},
   "source": [
    "#### Comparisons among different companies "
   ]
  },
  {
   "cell_type": "code",
   "execution_count": 11,
   "metadata": {},
   "outputs": [
    {
     "name": "stdout",
     "output_type": "stream",
     "text": [
      "Company Code\n",
      "1     115\n",
      "2      63\n",
      "3      99\n",
      "4      46\n",
      "5     102\n",
      "6      90\n",
      "7     122\n",
      "8      55\n",
      "9      68\n",
      "10     26\n",
      "11     54\n",
      "12    116\n",
      "dtype: int64\n"
     ]
    },
    {
     "data": {
      "text/plain": [
       "<matplotlib.text.Text at 0x10af34a90>"
      ]
     },
     "execution_count": 11,
     "metadata": {},
     "output_type": "execute_result"
    },
    {
     "data": {
      "image/png": "[encoded data removed]",
      "text/plain": [
       "<matplotlib.figure.Figure at 0x10aa867d0>"
      ]
     },
     "metadata": {},
     "output_type": "display_data"
    }
   ],
   "source": [
    "# Group by company\n",
    "num_cam_camp = camera.groupby('Company Code').size()\n",
    "print num_cam_camp\n",
    "\n",
    "\n",
    "# draw bar plot\n",
    "num_cam_camp.plot.bar(alpha=0.5)\n",
    "plt.ylabel('Number of Camera Model')\n",
    "plt.title('Produce of Each Campany')"
   ]
  },
  {
   "cell_type": "markdown",
   "metadata": {},
   "source": [
    "**Observation:** the companies with codes 1,7 and 12 had relatively high produce."
   ]
  },
  {
   "cell_type": "markdown",
   "metadata": {},
   "source": [
    "#### Check the produce of some years"
   ]
  },
  {
   "cell_type": "code",
   "execution_count": 12,
   "metadata": {},
   "outputs": [
    {
     "name": "stdout",
     "output_type": "stream",
     "text": [
      "Company Code\n",
      "1     19\n",
      "2      8\n",
      "3     13\n",
      "4      7\n",
      "5     13\n",
      "6     18\n",
      "7     20\n",
      "8     15\n",
      "9     10\n",
      "10     3\n",
      "11    21\n",
      "12    16\n",
      "dtype: int64\n"
     ]
    },
    {
     "data": {
      "text/plain": [
       "<matplotlib.text.Text at 0x10b0eb8d0>"
      ]
     },
     "execution_count": 12,
     "metadata": {},
     "output_type": "execute_result"
    },
    {
     "data": {
      "image/png": "[encoded data removed]",
      "text/plain": [
       "<matplotlib.figure.Figure at 0x10b08be50>"
      ]
     },
     "metadata": {},
     "output_type": "display_data"
    }
   ],
   "source": [
    "# get the data of 2007\n",
    "cam_2007 = camera[ camera['Release date'] == 2007 ].copy()\n",
    "\n",
    "# group by company\n",
    "num_cam_2007 = cam_2007.groupby('Company Code').size()\n",
    "print num_cam_2007\n",
    "\n",
    "\n",
    "# draw bar plot\n",
    "num_cam_2007.plot.bar(alpha=0.5)\n",
    "plt.ylabel('Number of Camera Model')\n",
    "plt.title('Produce of Each Campany in 2007')"
   ]
  },
  {
   "cell_type": "markdown",
   "metadata": {},
   "source": [
    "#### Check other properties for different companies."
   ]
  },
  {
   "cell_type": "code",
   "execution_count": 88,
   "metadata": {},
   "outputs": [
    {
     "name": "stdout",
     "output_type": "stream",
     "text": [
      "Company Code\n",
      "1     2623.026087\n",
      "2     2364.444444\n",
      "3     2559.343434\n",
      "4     2317.347826\n",
      "5     2369.794118\n",
      "6     2649.777778\n",
      "7     2450.950820\n",
      "8     2705.454545\n",
      "9     2659.058824\n",
      "10    2494.769231\n",
      "11    2815.462963\n",
      "12    2303.637931\n",
      "Name: Max resolution, dtype: float64\n"
     ]
    },
    {
     "data": {
      "text/plain": [
       "<matplotlib.text.Text at 0x11a31ea10>"
      ]
     },
     "execution_count": 88,
     "metadata": {},
     "output_type": "execute_result"
    },
    {
     "data": {
      "image/png": "[encoded data removed]",
      "text/plain": [
       "<matplotlib.figure.Figure at 0x115689590>"
      ]
     },
     "metadata": {},
     "output_type": "display_data"
    }
   ],
   "source": [
    "# Group by company\n",
    "cam_maxr_camp = camera.groupby('Company Code')['Max resolution'].mean()\n",
    "print cam_maxr_camp\n",
    "\n",
    "\n",
    "# draw bar plot\n",
    "cam_maxr_camp.plot.bar(alpha=0.5)\n",
    "plt.ylabel('Average Max Resolution')\n",
    "plt.title('Max Resolution of Each Campany')"
   ]
  },
  {
   "cell_type": "code",
   "execution_count": 90,
   "metadata": {},
   "outputs": [
    {
     "name": "stdout",
     "output_type": "stream",
     "text": [
      "Company Code\n",
      "1     1964.000000\n",
      "2     1824.000000\n",
      "3     2057.142857\n",
      "4     1520.000000\n",
      "5     1720.000000\n",
      "6     2048.000000\n",
      "7     1711.200000\n",
      "9     1600.000000\n",
      "10    1872.000000\n",
      "12    1644.800000\n",
      "Name: Max resolution, dtype: float64\n"
     ]
    },
    {
     "data": {
      "text/plain": [
       "<matplotlib.text.Text at 0x11c4ce390>"
      ]
     },
     "execution_count": 90,
     "metadata": {},
     "output_type": "execute_result"
    },
    {
     "data": {
      "image/png": "[encoded data removed]",
      "text/plain": [
       "<matplotlib.figure.Figure at 0x11bbdcbd0>"
      ]
     },
     "metadata": {},
     "output_type": "display_data"
    }
   ],
   "source": [
    "# get the data of 2000\n",
    "cam_2000 = camera[ camera['Release date'] == 2000 ]\n",
    "\n",
    "# group by company\n",
    "num_cam_2000 = cam_2000.groupby('Company Code')['Max resolution'].mean()\n",
    "print num_cam_2000\n",
    "\n",
    "\n",
    "# draw bar plot\n",
    "num_cam_2000.plot.bar(alpha=0.5)\n",
    "plt.ylabel('Average Max Resolution')\n",
    "plt.title('Max Resolution of Each Campany in 2000')"
   ]
  },
  {
   "cell_type": "code",
   "execution_count": 91,
   "metadata": {},
   "outputs": [
    {
     "name": "stdout",
     "output_type": "stream",
     "text": [
      "Company Code\n",
      "1     682.086957\n",
      "2     270.269841\n",
      "3     297.383838\n",
      "4     179.000000\n",
      "5     130.598039\n",
      "6     618.000000\n",
      "7     639.000000\n",
      "8     907.181818\n",
      "9     279.000000\n",
      "10    603.153846\n",
      "11    209.370370\n",
      "12    517.103448\n",
      "Name: Price, dtype: float64\n"
     ]
    },
    {
     "data": {
      "text/plain": [
       "<matplotlib.text.Text at 0x11cc6ad10>"
      ]
     },
     "execution_count": 91,
     "metadata": {},
     "output_type": "execute_result"
    },
    {
     "data": {
      "image/png": "[encoded data removed]",
      "text/plain": [
       "<matplotlib.figure.Figure at 0x11c4ead10>"
      ]
     },
     "metadata": {},
     "output_type": "display_data"
    }
   ],
   "source": [
    "# group by company\n",
    "p_camera = camera.groupby('Company Code')['Price'].mean()\n",
    "print p_camera\n",
    "\n",
    "\n",
    "# draw bar plot\n",
    "p_camera.plot.bar(alpha=0.5)\n",
    "plt.ylabel('Average Price')\n",
    "plt.title('Price of Each Campany')"
   ]
  },
  {
   "cell_type": "code",
   "execution_count": 92,
   "metadata": {},
   "outputs": [
    {
     "name": "stdout",
     "output_type": "stream",
     "text": [
      "Company Code\n",
      "1     17.417391\n",
      "2      9.571429\n",
      "3     18.272727\n",
      "4     19.181818\n",
      "5     20.372549\n",
      "6     12.855556\n",
      "7     15.811475\n",
      "8     17.618182\n",
      "9     13.588235\n",
      "10    17.769231\n",
      "11    40.444444\n",
      "12    19.224138\n",
      "Name: Storage included, dtype: float64\n"
     ]
    },
    {
     "data": {
      "text/plain": [
       "<matplotlib.text.Text at 0x11c634810>"
      ]
     },
     "execution_count": 92,
     "metadata": {},
     "output_type": "execute_result"
    },
    {
     "data": {
      "image/png": "[encoded data removed]",
      "text/plain": [
       "<matplotlib.figure.Figure at 0x11cc4e950>"
      ]
     },
     "metadata": {},
     "output_type": "display_data"
    }
   ],
   "source": [
    "# group by company\n",
    "store_camera = camera.groupby('Company Code')['Storage included'].mean()\n",
    "print store_camera\n",
    "\n",
    "\n",
    "# draw bar plot\n",
    "store_camera.plot.bar(alpha=0.5)\n",
    "plt.ylabel('Average Storage')\n",
    "plt.title('Storage of Each Campany')"
   ]
  },
  {
   "cell_type": "code",
   "execution_count": 93,
   "metadata": {},
   "outputs": [
    {
     "name": "stdout",
     "output_type": "stream",
     "text": [
      "Company Code\n",
      "1     20.210526\n",
      "2     11.000000\n",
      "3     19.307692\n",
      "4     26.666667\n",
      "5     30.000000\n",
      "6     20.555556\n",
      "7     21.000000\n",
      "8     23.333333\n",
      "9     14.900000\n",
      "10    34.666667\n",
      "11    68.761905\n",
      "12    30.937500\n",
      "Name: Storage included, dtype: float64\n"
     ]
    },
    {
     "data": {
      "text/plain": [
       "<matplotlib.text.Text at 0x11cb9f410>"
      ]
     },
     "execution_count": 93,
     "metadata": {},
     "output_type": "execute_result"
    },
    {
     "data": {
      "image/png": "[encoded data removed]",
      "text/plain": [
       "<matplotlib.figure.Figure at 0x11cc06a50>"
      ]
     },
     "metadata": {},
     "output_type": "display_data"
    }
   ],
   "source": [
    "# get the data of 2007\n",
    "cam_2007 = camera[ camera['Release date'] == 2007 ]\n",
    "\n",
    "# group by company\n",
    "store_cam_2000 = cam_2007.groupby('Company Code')['Storage included'].mean()\n",
    "print store_cam_2000\n",
    "\n",
    "\n",
    "# draw bar plot\n",
    "store_cam_2000.plot.bar(alpha=0.5)\n",
    "plt.ylabel('Average Storage')\n",
    "plt.title('Storage of Each Campany in 2007')"
   ]
  },
  {
   "cell_type": "markdown",
   "metadata": {},
   "source": [
    "**Observation**: different companies may have advantages on some properties, for example, one of the advantages of the company with code 11 (Samsung) is the storage included. "
   ]
  }
 ],
 "metadata": {
  "kernelspec": {
   "display_name": "Python 2",
   "language": "python",
   "name": "python2"
  },
  "language_info": {
   "codemirror_mode": {
    "name": "ipython",
    "version": 2
   },
   "file_extension": ".py",
   "mimetype": "text/x-python",
   "name": "python",
   "nbconvert_exporter": "python",
   "pygments_lexer": "ipython2",
   "version": "2.7.13"
  }
 },
 "nbformat": 4,
 "nbformat_minor": 1
}
